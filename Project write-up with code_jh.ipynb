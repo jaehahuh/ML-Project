{
 "cells": [
  {
   "cell_type": "markdown",
   "metadata": {},
   "source": [
    "# Heart Attack Analysis & Prediction Project with Write-up\n",
    "+Author : Jaeha Huh"
   ]
  },
  {
   "cell_type": "markdown",
   "metadata": {
    "id": "IpvmJ9PWD9Aw"
   },
   "source": [
    "# 1. Introduction\n",
    "\n",
    "+ This is a data set for Heart Attack and each line represents patient information.\n",
    "+ Information such as the health, gender, and age of the subject is displayed, and the output variable is dependent variable, which means 1 is the expression of heart attack, and 0 is not expressed\n",
    "+ Based on this information from individuals, this is a data set for diagnosis of the presence or absence of heart attacks."
   ]
  },
  {
   "cell_type": "code",
   "execution_count": 1,
   "metadata": {
    "id": "VY2fhiBxC9zT",
    "scrolled": true
   },
   "outputs": [],
   "source": [
    "import pandas as pd\n",
    "import numpy as np\n",
    "import seaborn as sns\n",
    "import matplotlib.pyplot as plt   #graph output\n",
    "import matplotlib as mpl    #graph option\n",
    "import warnings\n",
    "warnings.filterwarnings('ignore')\n",
    "\n",
    "#Graph Visualization Options Settings Function\n",
    "%matplotlib inline\n",
    "\n",
    "#Avoid breaking when negative values appear on the graph\n",
    "mpl.rc('axes',unicode_minus=False)"
   ]
  },
  {
   "cell_type": "code",
   "execution_count": 2,
   "metadata": {
    "colab": {
     "base_uri": "https://localhost:8080/",
     "height": 419
    },
    "executionInfo": {
     "elapsed": 9379,
     "status": "ok",
     "timestamp": 1618633792406,
     "user": {
      "displayName": "이승윤",
      "photoUrl": "",
      "userId": "18053956370916090566"
     },
     "user_tz": -540
    },
    "id": "5rzCtzYwC9zb",
    "outputId": "96b6a24a-0cd4-4e0e-98fd-4265015934bb"
   },
   "outputs": [
    {
     "data": {
      "text/html": [
       "<div>\n",
       "<style scoped>\n",
       "    .dataframe tbody tr th:only-of-type {\n",
       "        vertical-align: middle;\n",
       "    }\n",
       "\n",
       "    .dataframe tbody tr th {\n",
       "        vertical-align: top;\n",
       "    }\n",
       "\n",
       "    .dataframe thead th {\n",
       "        text-align: right;\n",
       "    }\n",
       "</style>\n",
       "<table border=\"1\" class=\"dataframe\">\n",
       "  <thead>\n",
       "    <tr style=\"text-align: right;\">\n",
       "      <th></th>\n",
       "      <th>age</th>\n",
       "      <th>sex</th>\n",
       "      <th>cp</th>\n",
       "      <th>trtbps</th>\n",
       "      <th>chol</th>\n",
       "      <th>fbs</th>\n",
       "      <th>restecg</th>\n",
       "      <th>thalachh</th>\n",
       "      <th>exng</th>\n",
       "      <th>oldpeak</th>\n",
       "      <th>slp</th>\n",
       "      <th>caa</th>\n",
       "      <th>thall</th>\n",
       "      <th>output</th>\n",
       "    </tr>\n",
       "  </thead>\n",
       "  <tbody>\n",
       "    <tr>\n",
       "      <th>0</th>\n",
       "      <td>63</td>\n",
       "      <td>1</td>\n",
       "      <td>3</td>\n",
       "      <td>145</td>\n",
       "      <td>233</td>\n",
       "      <td>1</td>\n",
       "      <td>0</td>\n",
       "      <td>150</td>\n",
       "      <td>0</td>\n",
       "      <td>2.3</td>\n",
       "      <td>0</td>\n",
       "      <td>0</td>\n",
       "      <td>1</td>\n",
       "      <td>1</td>\n",
       "    </tr>\n",
       "    <tr>\n",
       "      <th>1</th>\n",
       "      <td>37</td>\n",
       "      <td>1</td>\n",
       "      <td>2</td>\n",
       "      <td>130</td>\n",
       "      <td>250</td>\n",
       "      <td>0</td>\n",
       "      <td>1</td>\n",
       "      <td>187</td>\n",
       "      <td>0</td>\n",
       "      <td>3.5</td>\n",
       "      <td>0</td>\n",
       "      <td>0</td>\n",
       "      <td>2</td>\n",
       "      <td>1</td>\n",
       "    </tr>\n",
       "    <tr>\n",
       "      <th>2</th>\n",
       "      <td>41</td>\n",
       "      <td>0</td>\n",
       "      <td>1</td>\n",
       "      <td>130</td>\n",
       "      <td>204</td>\n",
       "      <td>0</td>\n",
       "      <td>0</td>\n",
       "      <td>172</td>\n",
       "      <td>0</td>\n",
       "      <td>1.4</td>\n",
       "      <td>2</td>\n",
       "      <td>0</td>\n",
       "      <td>2</td>\n",
       "      <td>1</td>\n",
       "    </tr>\n",
       "    <tr>\n",
       "      <th>3</th>\n",
       "      <td>56</td>\n",
       "      <td>1</td>\n",
       "      <td>1</td>\n",
       "      <td>120</td>\n",
       "      <td>236</td>\n",
       "      <td>0</td>\n",
       "      <td>1</td>\n",
       "      <td>178</td>\n",
       "      <td>0</td>\n",
       "      <td>0.8</td>\n",
       "      <td>2</td>\n",
       "      <td>0</td>\n",
       "      <td>2</td>\n",
       "      <td>1</td>\n",
       "    </tr>\n",
       "    <tr>\n",
       "      <th>4</th>\n",
       "      <td>57</td>\n",
       "      <td>0</td>\n",
       "      <td>0</td>\n",
       "      <td>120</td>\n",
       "      <td>354</td>\n",
       "      <td>0</td>\n",
       "      <td>1</td>\n",
       "      <td>163</td>\n",
       "      <td>1</td>\n",
       "      <td>0.6</td>\n",
       "      <td>2</td>\n",
       "      <td>0</td>\n",
       "      <td>2</td>\n",
       "      <td>1</td>\n",
       "    </tr>\n",
       "    <tr>\n",
       "      <th>...</th>\n",
       "      <td>...</td>\n",
       "      <td>...</td>\n",
       "      <td>...</td>\n",
       "      <td>...</td>\n",
       "      <td>...</td>\n",
       "      <td>...</td>\n",
       "      <td>...</td>\n",
       "      <td>...</td>\n",
       "      <td>...</td>\n",
       "      <td>...</td>\n",
       "      <td>...</td>\n",
       "      <td>...</td>\n",
       "      <td>...</td>\n",
       "      <td>...</td>\n",
       "    </tr>\n",
       "    <tr>\n",
       "      <th>298</th>\n",
       "      <td>57</td>\n",
       "      <td>0</td>\n",
       "      <td>0</td>\n",
       "      <td>140</td>\n",
       "      <td>241</td>\n",
       "      <td>0</td>\n",
       "      <td>1</td>\n",
       "      <td>123</td>\n",
       "      <td>1</td>\n",
       "      <td>0.2</td>\n",
       "      <td>1</td>\n",
       "      <td>0</td>\n",
       "      <td>3</td>\n",
       "      <td>0</td>\n",
       "    </tr>\n",
       "    <tr>\n",
       "      <th>299</th>\n",
       "      <td>45</td>\n",
       "      <td>1</td>\n",
       "      <td>3</td>\n",
       "      <td>110</td>\n",
       "      <td>264</td>\n",
       "      <td>0</td>\n",
       "      <td>1</td>\n",
       "      <td>132</td>\n",
       "      <td>0</td>\n",
       "      <td>1.2</td>\n",
       "      <td>1</td>\n",
       "      <td>0</td>\n",
       "      <td>3</td>\n",
       "      <td>0</td>\n",
       "    </tr>\n",
       "    <tr>\n",
       "      <th>300</th>\n",
       "      <td>68</td>\n",
       "      <td>1</td>\n",
       "      <td>0</td>\n",
       "      <td>144</td>\n",
       "      <td>193</td>\n",
       "      <td>1</td>\n",
       "      <td>1</td>\n",
       "      <td>141</td>\n",
       "      <td>0</td>\n",
       "      <td>3.4</td>\n",
       "      <td>1</td>\n",
       "      <td>2</td>\n",
       "      <td>3</td>\n",
       "      <td>0</td>\n",
       "    </tr>\n",
       "    <tr>\n",
       "      <th>301</th>\n",
       "      <td>57</td>\n",
       "      <td>1</td>\n",
       "      <td>0</td>\n",
       "      <td>130</td>\n",
       "      <td>131</td>\n",
       "      <td>0</td>\n",
       "      <td>1</td>\n",
       "      <td>115</td>\n",
       "      <td>1</td>\n",
       "      <td>1.2</td>\n",
       "      <td>1</td>\n",
       "      <td>1</td>\n",
       "      <td>3</td>\n",
       "      <td>0</td>\n",
       "    </tr>\n",
       "    <tr>\n",
       "      <th>302</th>\n",
       "      <td>57</td>\n",
       "      <td>0</td>\n",
       "      <td>1</td>\n",
       "      <td>130</td>\n",
       "      <td>236</td>\n",
       "      <td>0</td>\n",
       "      <td>0</td>\n",
       "      <td>174</td>\n",
       "      <td>0</td>\n",
       "      <td>0.0</td>\n",
       "      <td>1</td>\n",
       "      <td>1</td>\n",
       "      <td>2</td>\n",
       "      <td>0</td>\n",
       "    </tr>\n",
       "  </tbody>\n",
       "</table>\n",
       "<p>303 rows × 14 columns</p>\n",
       "</div>"
      ],
      "text/plain": [
       "     age  sex  cp  trtbps  chol  fbs  restecg  thalachh  exng  oldpeak  slp  \\\n",
       "0     63    1   3     145   233    1        0       150     0      2.3    0   \n",
       "1     37    1   2     130   250    0        1       187     0      3.5    0   \n",
       "2     41    0   1     130   204    0        0       172     0      1.4    2   \n",
       "3     56    1   1     120   236    0        1       178     0      0.8    2   \n",
       "4     57    0   0     120   354    0        1       163     1      0.6    2   \n",
       "..   ...  ...  ..     ...   ...  ...      ...       ...   ...      ...  ...   \n",
       "298   57    0   0     140   241    0        1       123     1      0.2    1   \n",
       "299   45    1   3     110   264    0        1       132     0      1.2    1   \n",
       "300   68    1   0     144   193    1        1       141     0      3.4    1   \n",
       "301   57    1   0     130   131    0        1       115     1      1.2    1   \n",
       "302   57    0   1     130   236    0        0       174     0      0.0    1   \n",
       "\n",
       "     caa  thall  output  \n",
       "0      0      1       1  \n",
       "1      0      2       1  \n",
       "2      0      2       1  \n",
       "3      0      2       1  \n",
       "4      0      2       1  \n",
       "..   ...    ...     ...  \n",
       "298    0      3       0  \n",
       "299    0      3       0  \n",
       "300    2      3       0  \n",
       "301    1      3       0  \n",
       "302    1      2       0  \n",
       "\n",
       "[303 rows x 14 columns]"
      ]
     },
     "execution_count": 2,
     "metadata": {},
     "output_type": "execute_result"
    }
   ],
   "source": [
    "# Data Load\n",
    "data=pd.read_csv('heart.csv')\n",
    "data"
   ]
  },
  {
   "cell_type": "markdown",
   "metadata": {
    "id": "GA3QXxsdHGR_"
   },
   "source": [
    "< Column information >\n",
    "\n",
    "- Age : Age of the patient\n",
    "\n",
    "- Sex : Gender of the patient\n",
    "\n",
    "- exang: exercise induced angina (1 = yes; 0 = no)\n",
    "\n",
    "- caa: number of major vessels (0-3)\n",
    "\n",
    "- cp : Chest Pain type chest pain type\n",
    "\n",
    "  - Value 1: typical angina\n",
    "  - Value 2: atypical angina\n",
    "  - Value 3: non-anginal pain\n",
    "  - Value 4: asymptomatic\n",
    "\n",
    "- trtbps : resting blood pressure (in mm Hg)\n",
    "\n",
    "- chol : cholestoral in mg/dl fetched via BMI sensor\n",
    "\n",
    "- fbs : (fasting blood sugar > 120 mg/dl) (1 = true; 0 = false)\n",
    "\n",
    "- rest_ecg : resting electrocardiographic results\n",
    "\n",
    "  - Value 0: normal\n",
    "  - Value 1: having ST-T wave abnormality (T wave inversions and/or ST elevation or depression of > 0.05 mV)\n",
    "  - Value 2: showing probable or definite left ventricular hypertrophy by Estes' criteria\n",
    "\n",
    "- thalach : maximum heart rate achieved\n",
    "\n",
    "- target(output) : 0 = less chance of heart attack 1 = more chance of heart attack"
   ]
  },
  {
   "cell_type": "code",
   "execution_count": 3,
   "metadata": {
    "colab": {
     "base_uri": "https://localhost:8080/",
     "height": 609
    },
    "executionInfo": {
     "elapsed": 701,
     "status": "ok",
     "timestamp": 1618482462377,
     "user": {
      "displayName": "이승윤",
      "photoUrl": "",
      "userId": "18053956370916090566"
     },
     "user_tz": -540
    },
    "id": "f_0c52Z7C9zd",
    "outputId": "f4713e33-981a-40f8-e64e-36dfa161caf6"
   },
   "outputs": [
    {
     "name": "stdout",
     "output_type": "stream",
     "text": [
      "Data shape: (303, 14)\n",
      "___________________________\n",
      "Data types:\n",
      " int64      13\n",
      "float64     1\n",
      "Name: Types, dtype: int64\n",
      "___________________________\n"
     ]
    },
    {
     "data": {
      "text/html": [
       "<div>\n",
       "<style scoped>\n",
       "    .dataframe tbody tr th:only-of-type {\n",
       "        vertical-align: middle;\n",
       "    }\n",
       "\n",
       "    .dataframe tbody tr th {\n",
       "        vertical-align: top;\n",
       "    }\n",
       "\n",
       "    .dataframe thead th {\n",
       "        text-align: right;\n",
       "    }\n",
       "</style>\n",
       "<table border=\"1\" class=\"dataframe\">\n",
       "  <thead>\n",
       "    <tr style=\"text-align: right;\">\n",
       "      <th></th>\n",
       "      <th>Types</th>\n",
       "      <th>Counts</th>\n",
       "      <th>Distincts</th>\n",
       "      <th>Nulls</th>\n",
       "      <th>Missing_ratio</th>\n",
       "      <th>Uniques</th>\n",
       "    </tr>\n",
       "  </thead>\n",
       "  <tbody>\n",
       "    <tr>\n",
       "      <th>age</th>\n",
       "      <td>int64</td>\n",
       "      <td>303</td>\n",
       "      <td>41</td>\n",
       "      <td>0</td>\n",
       "      <td>0.0</td>\n",
       "      <td>[63, 37, 41, 56, 57, 44, 52, 54, 48, 49, 64, 5...</td>\n",
       "    </tr>\n",
       "    <tr>\n",
       "      <th>caa</th>\n",
       "      <td>int64</td>\n",
       "      <td>303</td>\n",
       "      <td>5</td>\n",
       "      <td>0</td>\n",
       "      <td>0.0</td>\n",
       "      <td>[0, 2, 1, 3, 4]</td>\n",
       "    </tr>\n",
       "    <tr>\n",
       "      <th>chol</th>\n",
       "      <td>int64</td>\n",
       "      <td>303</td>\n",
       "      <td>152</td>\n",
       "      <td>0</td>\n",
       "      <td>0.0</td>\n",
       "      <td>[233, 250, 204, 236, 354, 192, 294, 263, 199, ...</td>\n",
       "    </tr>\n",
       "    <tr>\n",
       "      <th>cp</th>\n",
       "      <td>int64</td>\n",
       "      <td>303</td>\n",
       "      <td>4</td>\n",
       "      <td>0</td>\n",
       "      <td>0.0</td>\n",
       "      <td>[3, 2, 1, 0]</td>\n",
       "    </tr>\n",
       "    <tr>\n",
       "      <th>exng</th>\n",
       "      <td>int64</td>\n",
       "      <td>303</td>\n",
       "      <td>2</td>\n",
       "      <td>0</td>\n",
       "      <td>0.0</td>\n",
       "      <td>[0, 1]</td>\n",
       "    </tr>\n",
       "    <tr>\n",
       "      <th>fbs</th>\n",
       "      <td>int64</td>\n",
       "      <td>303</td>\n",
       "      <td>2</td>\n",
       "      <td>0</td>\n",
       "      <td>0.0</td>\n",
       "      <td>[1, 0]</td>\n",
       "    </tr>\n",
       "    <tr>\n",
       "      <th>oldpeak</th>\n",
       "      <td>float64</td>\n",
       "      <td>303</td>\n",
       "      <td>40</td>\n",
       "      <td>0</td>\n",
       "      <td>0.0</td>\n",
       "      <td>[2.3, 3.5, 1.4, 0.8, 0.6, 0.4, 1.3, 0.0, 0.5, ...</td>\n",
       "    </tr>\n",
       "    <tr>\n",
       "      <th>output</th>\n",
       "      <td>int64</td>\n",
       "      <td>303</td>\n",
       "      <td>2</td>\n",
       "      <td>0</td>\n",
       "      <td>0.0</td>\n",
       "      <td>[1, 0]</td>\n",
       "    </tr>\n",
       "    <tr>\n",
       "      <th>restecg</th>\n",
       "      <td>int64</td>\n",
       "      <td>303</td>\n",
       "      <td>3</td>\n",
       "      <td>0</td>\n",
       "      <td>0.0</td>\n",
       "      <td>[0, 1, 2]</td>\n",
       "    </tr>\n",
       "    <tr>\n",
       "      <th>sex</th>\n",
       "      <td>int64</td>\n",
       "      <td>303</td>\n",
       "      <td>2</td>\n",
       "      <td>0</td>\n",
       "      <td>0.0</td>\n",
       "      <td>[1, 0]</td>\n",
       "    </tr>\n",
       "    <tr>\n",
       "      <th>slp</th>\n",
       "      <td>int64</td>\n",
       "      <td>303</td>\n",
       "      <td>3</td>\n",
       "      <td>0</td>\n",
       "      <td>0.0</td>\n",
       "      <td>[0, 2, 1]</td>\n",
       "    </tr>\n",
       "    <tr>\n",
       "      <th>thalachh</th>\n",
       "      <td>int64</td>\n",
       "      <td>303</td>\n",
       "      <td>91</td>\n",
       "      <td>0</td>\n",
       "      <td>0.0</td>\n",
       "      <td>[150, 187, 172, 178, 163, 148, 153, 173, 162, ...</td>\n",
       "    </tr>\n",
       "    <tr>\n",
       "      <th>thall</th>\n",
       "      <td>int64</td>\n",
       "      <td>303</td>\n",
       "      <td>4</td>\n",
       "      <td>0</td>\n",
       "      <td>0.0</td>\n",
       "      <td>[1, 2, 3, 0]</td>\n",
       "    </tr>\n",
       "    <tr>\n",
       "      <th>trtbps</th>\n",
       "      <td>int64</td>\n",
       "      <td>303</td>\n",
       "      <td>49</td>\n",
       "      <td>0</td>\n",
       "      <td>0.0</td>\n",
       "      <td>[145, 130, 120, 140, 172, 150, 110, 135, 160, ...</td>\n",
       "    </tr>\n",
       "  </tbody>\n",
       "</table>\n",
       "</div>"
      ],
      "text/plain": [
       "            Types  Counts  Distincts  Nulls  Missing_ratio  \\\n",
       "age         int64     303         41      0            0.0   \n",
       "caa         int64     303          5      0            0.0   \n",
       "chol        int64     303        152      0            0.0   \n",
       "cp          int64     303          4      0            0.0   \n",
       "exng        int64     303          2      0            0.0   \n",
       "fbs         int64     303          2      0            0.0   \n",
       "oldpeak   float64     303         40      0            0.0   \n",
       "output      int64     303          2      0            0.0   \n",
       "restecg     int64     303          3      0            0.0   \n",
       "sex         int64     303          2      0            0.0   \n",
       "slp         int64     303          3      0            0.0   \n",
       "thalachh    int64     303         91      0            0.0   \n",
       "thall       int64     303          4      0            0.0   \n",
       "trtbps      int64     303         49      0            0.0   \n",
       "\n",
       "                                                    Uniques  \n",
       "age       [63, 37, 41, 56, 57, 44, 52, 54, 48, 49, 64, 5...  \n",
       "caa                                         [0, 2, 1, 3, 4]  \n",
       "chol      [233, 250, 204, 236, 354, 192, 294, 263, 199, ...  \n",
       "cp                                             [3, 2, 1, 0]  \n",
       "exng                                                 [0, 1]  \n",
       "fbs                                                  [1, 0]  \n",
       "oldpeak   [2.3, 3.5, 1.4, 0.8, 0.6, 0.4, 1.3, 0.0, 0.5, ...  \n",
       "output                                               [1, 0]  \n",
       "restecg                                           [0, 1, 2]  \n",
       "sex                                                  [1, 0]  \n",
       "slp                                               [0, 2, 1]  \n",
       "thalachh  [150, 187, 172, 178, 163, 148, 153, 173, 162, ...  \n",
       "thall                                          [1, 2, 3, 0]  \n",
       "trtbps    [145, 130, 120, 140, 172, 150, 110, 135, 160, ...  "
      ]
     },
     "execution_count": 3,
     "metadata": {},
     "output_type": "execute_result"
    }
   ],
   "source": [
    "# General information such as observations, column types, and missing rates in the data\n",
    "def str_summary(df, pred=None): \n",
    "  obs = df.shape[0]\n",
    "  types = df.dtypes\n",
    "  counts = df.apply(lambda x: x.count())\n",
    "  uniques = df.apply(lambda x: [x.unique()]).T.squeeze()\n",
    "  nulls = df.apply(lambda x: x.isnull().sum())\n",
    "  distincts = df.apply(lambda x: x.unique().shape[0])\n",
    "  missing_ratio = (df.isnull().sum()/ obs) * 100\n",
    "  \n",
    "  print('Data shape:', df.shape)\n",
    "    \n",
    "  cols = ['Types', 'Counts', 'Distincts', 'Nulls', 'Missing_ratio', 'Uniques']\n",
    "  structure = pd.concat([types, counts, distincts, nulls, missing_ratio, uniques], axis = 1, sort=True)\n",
    "\n",
    "  structure.columns = cols\n",
    "  \n",
    "  print('___________________________\\nData types:\\n',structure.Types.value_counts())\n",
    "  print('___________________________')\n",
    "\n",
    "  return structure\n",
    "\n",
    "data_summary = str_summary(data)\n",
    "data_summary"
   ]
  },
  {
   "cell_type": "markdown",
   "metadata": {
    "id": "JQQlFTSZEnbC"
   },
   "source": [
    "+ It has a total of 14 variables and all variables have 303 observations without missing values\n",
    "+ Among these variables age, chol, oldpeak, thalachh, trtbps are continuous variables and others are categorical variables\n",
    "+ Types: Data Type of Column\n",
    "  \n",
    "  Counts: Observations\n",
    "  \n",
    "  Distincts: Number of eigenvalues (remove duplicates)\n",
    " \n",
    "  Nulls: Number of missing values\n",
    "\n",
    "  Missing_ratio: Missing Value Ratio\n",
    "  \n",
    "  Uniques: eigenvalues"
   ]
  },
  {
   "cell_type": "markdown",
   "metadata": {
    "id": "KHM78X77FI_x"
   },
   "source": [
    "# 2. Analysis\n",
    "\n",
    "+ To identify relationships between variables\n",
    "+ To determine which variables affect the heart attack, we determine the distribution of continuous variables according to output"
   ]
  },
  {
   "cell_type": "code",
   "execution_count": 4,
   "metadata": {
    "colab": {
     "base_uri": "https://localhost:8080/",
     "height": 297
    },
    "executionInfo": {
     "elapsed": 705,
     "status": "ok",
     "timestamp": 1618482463381,
     "user": {
      "displayName": "이승윤",
      "photoUrl": "",
      "userId": "18053956370916090566"
     },
     "user_tz": -540
    },
    "id": "IW4uu7saLQhV",
    "outputId": "29b66ba8-2672-40fb-cc4b-df2c43bd62a5"
   },
   "outputs": [
    {
     "data": {
      "text/plain": [
       "<AxesSubplot:xlabel='output', ylabel='count'>"
      ]
     },
     "execution_count": 4,
     "metadata": {},
     "output_type": "execute_result"
    },
    {
     "data": {
      "image/png": "[encoded data removed]",
      "text/plain": [
       "<Figure size 432x288 with 1 Axes>"
      ]
     },
     "metadata": {
      "needs_background": "light"
     },
     "output_type": "display_data"
    }
   ],
   "source": [
    "# Identifies class distribution of dependent variable output\n",
    "# The ratio of 1 is a little higher.\n",
    "sns.countplot(data=data, x='output')"
   ]
  },
  {
   "cell_type": "code",
   "execution_count": 5,
   "metadata": {
    "colab": {
     "base_uri": "https://localhost:8080/",
     "height": 496
    },
    "executionInfo": {
     "elapsed": 1290,
     "status": "ok",
     "timestamp": 1618482464608,
     "user": {
      "displayName": "이승윤",
      "photoUrl": "",
      "userId": "18053956370916090566"
     },
     "user_tz": -540
    },
    "id": "atSTU3CQC9zg",
    "outputId": "19b45a1c-585a-4eea-a45a-1bbac2e66e7e"
   },
   "outputs": [
    {
     "data": {
      "text/plain": [
       "[Text(0.5, 0, 'age'),\n",
       " Text(1.5, 0, 'chol'),\n",
       " Text(2.5, 0, 'oldpeak'),\n",
       " Text(3.5, 0, 'thalachh'),\n",
       " Text(4.5, 0, 'trtbps')]"
      ]
     },
     "execution_count": 5,
     "metadata": {},
     "output_type": "execute_result"
    },
    {
     "data": {
      "image/png": "[encoded data removed]",
      "text/plain": [
       "<Figure size 720x432 with 2 Axes>"
      ]
     },
     "metadata": {
      "needs_background": "light"
     },
     "output_type": "display_data"
    }
   ],
   "source": [
    "# Proceed correlation visualization by continuous variables\n",
    "corr = data[['age','chol', 'oldpeak', 'thalachh', 'trtbps']].corr()\n",
    "plt.figure(figsize=(10,6))\n",
    "ax = sns.heatmap(\n",
    "    corr, \n",
    "    vmin=-1, vmax=1, center=0,\n",
    "    cmap=sns.diverging_palette(20, 220, n=200),\n",
    "    square=True\n",
    ")\n",
    "ax.set_xticklabels(\n",
    "    ax.get_xticklabels(),\n",
    "    rotation=45,\n",
    "    horizontalalignment='right'\n",
    ")"
   ]
  },
  {
   "cell_type": "markdown",
   "metadata": {
    "id": "CEPSJx1sFNba"
   },
   "source": [
    "+ Red indicates strong negative correlation between variables and blue indicates strong positive correlation between variables\n",
    "+ A noticeable correlation is that age and thalachh are strongly negative. In addition, age and trtbps have a slight positive correlation"
   ]
  },
  {
   "cell_type": "code",
   "execution_count": 6,
   "metadata": {
    "colab": {
     "base_uri": "https://localhost:8080/",
     "height": 406
    },
    "executionInfo": {
     "elapsed": 1913,
     "status": "ok",
     "timestamp": 1618482467046,
     "user": {
      "displayName": "이승윤",
      "photoUrl": "",
      "userId": "18053956370916090566"
     },
     "user_tz": -540
    },
    "id": "84qjx6Y-IxVO",
    "outputId": "af7e3373-874d-4f09-9ec2-1e98b18b2fa6"
   },
   "outputs": [
    {
     "data": {
      "text/plain": [
       "<AxesSubplot:xlabel='output', ylabel='trtbps'>"
      ]
     },
     "execution_count": 6,
     "metadata": {},
     "output_type": "execute_result"
    },
    {
     "data": {
      "image/png": "[encoded data removed]",
      "text/plain": [
       "<Figure size 864x432 with 2 Axes>"
      ]
     },
     "metadata": {
      "needs_background": "light"
     },
     "output_type": "display_data"
    }
   ],
   "source": [
    "figure, (ax1,ax2) = plt.subplots(nrows=1, ncols=2)\n",
    "figure.set_size_inches(12,6)\n",
    "\n",
    "sns.boxplot(x='output', y='age', data=data, palette='Set3',showmeans=True,ax=ax1) # boxplot of output and age\n",
    "sns.boxplot(x='output', y='trtbps', data=data, palette='Set2',showmeans=True,ax=ax2) # boxplot of output and trtbps "
   ]
  },
  {
   "cell_type": "markdown",
   "metadata": {
    "id": "r2x6DqpkIHN-"
   },
   "source": [
    "+ If output is 1, it is distributed where the average age is lower than 0.\n",
    "+ If output is 1, trtbps tends to be lower than 0."
   ]
  },
  {
   "cell_type": "code",
   "execution_count": 7,
   "metadata": {
    "colab": {
     "base_uri": "https://localhost:8080/",
     "height": 515
    },
    "executionInfo": {
     "elapsed": 1440,
     "status": "ok",
     "timestamp": 1618482467814,
     "user": {
      "displayName": "이승윤",
      "photoUrl": "",
      "userId": "18053956370916090566"
     },
     "user_tz": -540
    },
    "id": "mLwYWoSGC9zh",
    "outputId": "34079642-7d54-4b03-8566-291d41b10503"
   },
   "outputs": [
    {
     "data": {
      "text/plain": [
       "<matplotlib.legend.Legend at 0x1fff572e340>"
      ]
     },
     "execution_count": 7,
     "metadata": {},
     "output_type": "execute_result"
    },
    {
     "data": {
      "image/png": "[encoded data removed]",
      "text/plain": [
       "<Figure size 1080x576 with 1 Axes>"
      ]
     },
     "metadata": {
      "needs_background": "light"
     },
     "output_type": "display_data"
    }
   ],
   "source": [
    "# distplot of output and thalachh\n",
    "plt.figure(figsize=(15,8))\n",
    "a=data['output'].unique()\n",
    "for i, name in enumerate(a):\n",
    "    sns.kdeplot(data[data['output'] == name]['thalachh'], label=name,legend=True,shade=True)\n",
    "plt.legend()"
   ]
  },
  {
   "cell_type": "markdown",
   "metadata": {
    "id": "QL3m4OlgKA_Y"
   },
   "source": [
    "+ For thalachh, the distribution varies significantly depending on the value of output\n",
    "+ If output is 1, thalachh is large on average around 170.\n",
    "+ If output is 0, it is densely distributed at values near 140\n",
    "+ The variable is likely to contribute greatly to the classification of output."
   ]
  },
  {
   "cell_type": "code",
   "execution_count": 8,
   "metadata": {
    "colab": {
     "base_uri": "https://localhost:8080/",
     "height": 515
    },
    "executionInfo": {
     "elapsed": 1240,
     "status": "ok",
     "timestamp": 1618482468742,
     "user": {
      "displayName": "이승윤",
      "photoUrl": "",
      "userId": "18053956370916090566"
     },
     "user_tz": -540
    },
    "id": "mDx_pZaxC9zh",
    "outputId": "df1805df-ece4-4bc0-a04e-1cb294ae19db"
   },
   "outputs": [
    {
     "data": {
      "text/plain": [
       "<matplotlib.legend.Legend at 0x1fff57aa730>"
      ]
     },
     "execution_count": 8,
     "metadata": {},
     "output_type": "execute_result"
    },
    {
     "data": {
      "image/png": "[encoded data removed]",
      "text/plain": [
       "<Figure size 1080x576 with 1 Axes>"
      ]
     },
     "metadata": {
      "needs_background": "light"
     },
     "output_type": "display_data"
    }
   ],
   "source": [
    "# distplot of output and oldpeak\n",
    "plt.figure(figsize=(15,8))\n",
    "for i, name in enumerate(a):\n",
    "    sns.kdeplot(data[data['output'] == name]['oldpeak'], label=name,legend=True,shade=True)\n",
    "plt.legend()"
   ]
  },
  {
   "cell_type": "markdown",
   "metadata": {
    "id": "kKPYxi4rKm2n"
   },
   "source": [
    "+ Oldpeak also shows a distribution that varies significantly depending on the value of output\n",
    "+ If output is 1, it is distributed intensively about 0 on average and shows a fairly small variance\n",
    "+ If output is 0, it is mainly distributed at values near 1, but the overall variance is large, showing a wide distribution\n",
    "+ The variable is also clearly classified according to output, which is expected to contribute greatly to the classification of output in the future."
   ]
  },
  {
   "cell_type": "markdown",
   "metadata": {
    "id": "2ptDxgIPC9zi"
   },
   "source": [
    "# 3.Supervised analysis"
   ]
  },
  {
   "cell_type": "markdown",
   "metadata": {
    "id": "cbIX3Wq1Finh"
   },
   "source": [
    "< Modeling >\n",
    "+ Modeling steps use Logistic Regression, SVM, Neural Networks\n",
    "\n",
    "< Process >\n",
    "+ Logistic Regression and SVM divide into two main parts\n",
    "+ First, proceed 5-fold CV for train set. This will override the training set and the validation set internally at a ratio of 8:2.\n",
    "+ Cross Validation(CV) is necessary because the results predicted for the test set without Cross validation may be biased against the test set. Therefore, it should be determined that the Mean accuracy score obtained through CV is the actual performance of the model.\n",
    "+ After that, the final evaluation is carried out by predicting a separate test set..\n",
    "+ We also compare the above process by dividing the case of normalizing continuous variables and the case of nonnormalizing raw data.\n",
    "+ However, in the case of Neural Networks(NN), val_accuracy is measured using the validation_split without using CV, and evaluation is carried out with the test set.\n",
    "\n",
    "< Hyper-parameter Tuning >\n",
    "+ Logistic Regression and SVM replace important hyper-parameters and proceed k-fold again to explore near-optimal hyper-parameters\n",
    "+ For Neural Networks, we control the number of layers and the number of neurons to explore suitable models and regulate epochs.\n",
    "+ (Epoch is when an entire dataset is passed forward and backward through the neural network only once)\n",
    "\n",
    "< Best Model Selection >\n",
    "+ In both Logistic Regression and SVM, the best model is selected for the highest accuracy based on K-fold verification results.\n",
    "+ Neural Networks select the best model if validation accuracy is high.\n",
    "\n",
    "< Comment about module>\n",
    "+ we use StrandardScaler for normalization.\n",
    "+ Also, we use Dropout for Neural Network. Dropout is a method of preventing some units of a network from working. In short, it is a way to prevent some units in the hidden layer from being overfitted by disabling them.\n",
    "+ (The dropout module requires the keras library to be installed.)"
   ]
  },
  {
   "cell_type": "code",
   "execution_count": 9,
   "metadata": {
    "id": "QudMipAnC9zi"
   },
   "outputs": [],
   "source": [
    "from keras.models import Sequential\n",
    "from keras.layers import Dense, Dropout\n",
    "\n",
    "from sklearn.linear_model import LogisticRegression\n",
    "from sklearn.svm import SVC\n",
    "\n",
    "from sklearn.preprocessing import StandardScaler\n",
    "from sklearn.metrics import accuracy_score, f1_score, confusion_matrix, classification_report \n",
    "from sklearn.model_selection import KFold\n",
    "from sklearn.model_selection import train_test_split\n",
    "from sklearn.model_selection import GridSearchCV"
   ]
  },
  {
   "cell_type": "code",
   "execution_count": 10,
   "metadata": {
    "id": "Go4l9ua7MIgk"
   },
   "outputs": [],
   "source": [
    "# Declaration ofindependent and dependent variables\n",
    "X=data.drop('output',axis=1)\n",
    "Y=data['output']"
   ]
  },
  {
   "cell_type": "code",
   "execution_count": 11,
   "metadata": {
    "colab": {
     "base_uri": "https://localhost:8080/"
    },
    "executionInfo": {
     "elapsed": 2825,
     "status": "ok",
     "timestamp": 1618633797212,
     "user": {
      "displayName": "이승윤",
      "photoUrl": "",
      "userId": "18053956370916090566"
     },
     "user_tz": -540
    },
    "id": "zsaDimuYMAE9",
    "outputId": "3f37f477-adfd-4d25-fb22-df554d2c7072"
   },
   "outputs": [
    {
     "name": "stdout",
     "output_type": "stream",
     "text": [
      "Train set: (212, 13) , (212,)\n",
      "Test set: (91, 13) , (91,)\n"
     ]
    }
   ],
   "source": [
    "# Split Train and Test Set \n",
    "X_train,X_test,Y_train,Y_test=train_test_split(X,Y,test_size=0.3,random_state=101)\n",
    "\n",
    "print('Train set:',X_train.shape,',',Y_train.shape)\n",
    "print('Test set:',X_test.shape,',',Y_test.shape)"
   ]
  },
  {
   "cell_type": "code",
   "execution_count": null,
   "metadata": {
    "id": "egOfVidYNLyU"
   },
   "outputs": [],
   "source": [
    "# A function that normalizes a continuous variable to recreate a set of independent variables\n",
    "def st_scale():\n",
    "  st=StandardScaler()\n",
    "  st.fit(X[['age','chol', 'oldpeak', 'thalachh', 'trtbps']])\n",
    "  X_scale=st.transform(X[['age','chol', 'oldpeak', 'thalachh', 'trtbps']])\n",
    "\n",
    "  temp=np.array(X.drop(['age','chol', 'oldpeak', 'thalachh', 'trtbps'],axis=1))\n",
    "  X_scale=np.concatenate((temp, X_scale), axis=1)\n",
    "\n",
    "  return X_scale"
   ]
  },
  {
   "cell_type": "code",
   "execution_count": null,
   "metadata": {
    "id": "pMKk2y7HOMz8"
   },
   "outputs": [],
   "source": [
    "# Declaration of Normalized Independent and Dependent Variables\n",
    "X_scale=st_scale()\n",
    "Y_=np.array(Y)\n",
    "\n",
    "X_train_s,X_test_s,Y_train_s,Y_test_s=train_test_split(X_scale,Y_,test_size=0.3,random_state=101)"
   ]
  },
  {
   "cell_type": "code",
   "execution_count": null,
   "metadata": {
    "id": "D31kPX48EyMR"
   },
   "outputs": [],
   "source": [
    "# K-fold Cross Validation function\n",
    "def k_cv(x,y,model,n_split):\n",
    "  kfold=KFold(n_splits=n_split,random_state=101)\n",
    "  cv_score=[]\n",
    "\n",
    "  x=x\n",
    "  y=y\n",
    "  model=model\n",
    "\n",
    "  n_iter=0\n",
    "  for train_index, test_index in kfold.split(x):\n",
    "    x_train, x_test=x[train_index],x[test_index]\n",
    "    y_train, y_test=y[train_index],y[test_index]\n",
    "    \n",
    "    model.fit(x_train,y_train)\n",
    "    y_pred_train=model.predict(x_train)\n",
    "    y_pred_test=model.predict(x_test)\n",
    "    \n",
    "    n_iter=n_iter+1\n",
    "    \n",
    "    acc_train=accuracy_score(y_train,y_pred_train)\n",
    "    acc_test=accuracy_score(y_test,y_pred_test)\n",
    "    cv_score.append(acc_test)\n",
    "    \n",
    "    print(\"Modeling \",n_iter,\"st\")\n",
    "    print('train set accuracy_score: ',acc_train)\n",
    "    print('test set accuracy_score: ',acc_test)\n",
    "    print(\"-----------------------------------------\")\n",
    "    \n",
    "  print('Mean test set accuracy_score: ',np.mean(cv_score))\n"
   ]
  },
  {
   "cell_type": "markdown",
   "metadata": {
    "id": "u5myU5s-LtPm"
   },
   "source": [
    "## Logistic Regression\n"
   ]
  },
  {
   "cell_type": "code",
   "execution_count": null,
   "metadata": {
    "colab": {
     "base_uri": "https://localhost:8080/"
    },
    "executionInfo": {
     "elapsed": 594,
     "status": "ok",
     "timestamp": 1618484222544,
     "user": {
      "displayName": "이승윤",
      "photoUrl": "",
      "userId": "18053956370916090566"
     },
     "user_tz": -540
    },
    "id": "SPxGjMErEtOB",
    "outputId": "1cd28f40-f623-4dc5-c542-e25401744c7d"
   },
   "outputs": [
    {
     "name": "stdout",
     "output_type": "stream",
     "text": [
      "Modeling  1 st\n",
      "train set accuracy_score:  0.8698224852071006\n",
      "test set accuracy_score:  0.7906976744186046\n",
      "-----------------------------------------\n",
      "Modeling  2 st\n",
      "train set accuracy_score:  0.8402366863905325\n",
      "test set accuracy_score:  0.813953488372093\n",
      "-----------------------------------------\n",
      "Modeling  3 st\n",
      "train set accuracy_score:  0.8705882352941177\n",
      "test set accuracy_score:  0.8333333333333334\n",
      "-----------------------------------------\n",
      "Modeling  4 st\n",
      "train set accuracy_score:  0.8705882352941177\n",
      "test set accuracy_score:  0.7380952380952381\n",
      "-----------------------------------------\n",
      "Modeling  5 st\n",
      "train set accuracy_score:  0.8294117647058824\n",
      "test set accuracy_score:  0.9761904761904762\n",
      "-----------------------------------------\n",
      "Mean test set accuracy_score:  0.8304540420819491\n"
     ]
    }
   ],
   "source": [
    "# CV results if not normalized\n",
    "k_cv(X_train.values,Y_train.values,LogisticRegression(),n_split=5)"
   ]
  },
  {
   "cell_type": "code",
   "execution_count": null,
   "metadata": {
    "colab": {
     "base_uri": "https://localhost:8080/"
    },
    "executionInfo": {
     "elapsed": 810,
     "status": "ok",
     "timestamp": 1618484224209,
     "user": {
      "displayName": "이승윤",
      "photoUrl": "",
      "userId": "18053956370916090566"
     },
     "user_tz": -540
    },
    "id": "S0mGqvSbGbwb",
    "outputId": "29fb388d-7d8e-4059-99a3-a171b19656dc"
   },
   "outputs": [
    {
     "name": "stdout",
     "output_type": "stream",
     "text": [
      "Accuracy:  0.8791208791208791 \n",
      "\n",
      "              precision    recall  f1-score   support\n",
      "\n",
      "           0       0.92      0.82      0.87        44\n",
      "           1       0.85      0.94      0.89        47\n",
      "\n",
      "    accuracy                           0.88        91\n",
      "   macro avg       0.88      0.88      0.88        91\n",
      "weighted avg       0.88      0.88      0.88        91\n",
      "\n"
     ]
    }
   ],
   "source": [
    "# test set evaluation if not normalized\n",
    "lr=LogisticRegression()\n",
    "lr.fit(X_train,Y_train)\n",
    "pred=lr.predict(X_test)\n",
    "\n",
    "print('Accuracy: ',accuracy_score(Y_test,pred),'\\n')\n",
    "print(classification_report(Y_test,pred,labels=[0,1]))"
   ]
  },
  {
   "cell_type": "code",
   "execution_count": null,
   "metadata": {
    "colab": {
     "base_uri": "https://localhost:8080/"
    },
    "executionInfo": {
     "elapsed": 751,
     "status": "ok",
     "timestamp": 1618484225368,
     "user": {
      "displayName": "이승윤",
      "photoUrl": "",
      "userId": "18053956370916090566"
     },
     "user_tz": -540
    },
    "id": "B8a-tyqqFYDq",
    "outputId": "5a6d4aa1-b933-456a-e9d7-98d4bdc299ec"
   },
   "outputs": [
    {
     "name": "stdout",
     "output_type": "stream",
     "text": [
      "Modeling  1 st\n",
      "train set accuracy_score:  0.8520710059171598\n",
      "test set accuracy_score:  0.813953488372093\n",
      "-----------------------------------------\n",
      "Modeling  2 st\n",
      "train set accuracy_score:  0.863905325443787\n",
      "test set accuracy_score:  0.7906976744186046\n",
      "-----------------------------------------\n",
      "Modeling  3 st\n",
      "train set accuracy_score:  0.8705882352941177\n",
      "test set accuracy_score:  0.8333333333333334\n",
      "-----------------------------------------\n",
      "Modeling  4 st\n",
      "train set accuracy_score:  0.8705882352941177\n",
      "test set accuracy_score:  0.7380952380952381\n",
      "-----------------------------------------\n",
      "Modeling  5 st\n",
      "train set accuracy_score:  0.8117647058823529\n",
      "test set accuracy_score:  0.9523809523809523\n",
      "-----------------------------------------\n",
      "Mean test set accuracy_score:  0.8256921373200443\n"
     ]
    }
   ],
   "source": [
    "# CV results if normalized\n",
    "k_cv(X_train_s,Y_train_s,LogisticRegression(),n_split=5)"
   ]
  },
  {
   "cell_type": "code",
   "execution_count": null,
   "metadata": {
    "colab": {
     "base_uri": "https://localhost:8080/"
    },
    "executionInfo": {
     "elapsed": 727,
     "status": "ok",
     "timestamp": 1618484228067,
     "user": {
      "displayName": "이승윤",
      "photoUrl": "",
      "userId": "18053956370916090566"
     },
     "user_tz": -540
    },
    "id": "1KP6sY88Ofws",
    "outputId": "602cb3f9-9adb-444e-b38d-a0de2e066e55"
   },
   "outputs": [
    {
     "name": "stdout",
     "output_type": "stream",
     "text": [
      "Accuracy:  0.8681318681318682 \n",
      "\n",
      "              precision    recall  f1-score   support\n",
      "\n",
      "           0       0.92      0.80      0.85        44\n",
      "           1       0.83      0.94      0.88        47\n",
      "\n",
      "    accuracy                           0.87        91\n",
      "   macro avg       0.88      0.87      0.87        91\n",
      "weighted avg       0.87      0.87      0.87        91\n",
      "\n"
     ]
    }
   ],
   "source": [
    "# test set evaluation if normalized\n",
    "lr=LogisticRegression()\n",
    "lr.fit(X_train_s,Y_train_s)\n",
    "pred=lr.predict(X_test_s)\n",
    "\n",
    "print('Accuracy: ',accuracy_score(Y_test_s,pred),'\\n')\n",
    "print(classification_report(Y_test_s,pred,labels=[0,1]))"
   ]
  },
  {
   "cell_type": "code",
   "execution_count": null,
   "metadata": {
    "colab": {
     "base_uri": "https://localhost:8080/"
    },
    "executionInfo": {
     "elapsed": 1814,
     "status": "ok",
     "timestamp": 1618485993623,
     "user": {
      "displayName": "이승윤",
      "photoUrl": "",
      "userId": "18053956370916090566"
     },
     "user_tz": -540
    },
    "id": "T2C2ytvORGlf",
    "outputId": "b3714ded-5d7d-467f-b2b3-cb94962fccf1"
   },
   "outputs": [
    {
     "name": "stdout",
     "output_type": "stream",
     "text": [
      "################ C = 0.1 ################\n",
      "Modeling  1 st\n",
      "train set accuracy_score:  0.8520710059171598\n",
      "test set accuracy_score:  0.7906976744186046\n",
      "-----------------------------------------\n",
      "Modeling  2 st\n",
      "train set accuracy_score:  0.8284023668639053\n",
      "test set accuracy_score:  0.7441860465116279\n",
      "-----------------------------------------\n",
      "Modeling  3 st\n",
      "train set accuracy_score:  0.8411764705882353\n",
      "test set accuracy_score:  0.8333333333333334\n",
      "-----------------------------------------\n",
      "Modeling  4 st\n",
      "train set accuracy_score:  0.8588235294117647\n",
      "test set accuracy_score:  0.8095238095238095\n",
      "-----------------------------------------\n",
      "Modeling  5 st\n",
      "train set accuracy_score:  0.8176470588235294\n",
      "test set accuracy_score:  0.9285714285714286\n",
      "-----------------------------------------\n",
      "Mean test set accuracy_score:  0.8212624584717609\n",
      "\n",
      "\n",
      "\n",
      "################ C = 0.5 ################\n",
      "Modeling  1 st\n",
      "train set accuracy_score:  0.863905325443787\n",
      "test set accuracy_score:  0.7906976744186046\n",
      "-----------------------------------------\n",
      "Modeling  2 st\n",
      "train set accuracy_score:  0.8402366863905325\n",
      "test set accuracy_score:  0.7906976744186046\n",
      "-----------------------------------------\n",
      "Modeling  3 st\n",
      "train set accuracy_score:  0.8647058823529412\n",
      "test set accuracy_score:  0.8333333333333334\n",
      "-----------------------------------------\n",
      "Modeling  4 st\n",
      "train set accuracy_score:  0.8705882352941177\n",
      "test set accuracy_score:  0.7857142857142857\n",
      "-----------------------------------------\n",
      "Modeling  5 st\n",
      "train set accuracy_score:  0.8117647058823529\n",
      "test set accuracy_score:  0.9523809523809523\n",
      "-----------------------------------------\n",
      "Mean test set accuracy_score:  0.8305647840531561\n",
      "\n",
      "\n",
      "\n",
      "################ C = 1 ################\n",
      "Modeling  1 st\n",
      "train set accuracy_score:  0.8698224852071006\n",
      "test set accuracy_score:  0.7906976744186046\n",
      "-----------------------------------------\n",
      "Modeling  2 st\n",
      "train set accuracy_score:  0.8402366863905325\n",
      "test set accuracy_score:  0.813953488372093\n",
      "-----------------------------------------\n",
      "Modeling  3 st\n",
      "train set accuracy_score:  0.8705882352941177\n",
      "test set accuracy_score:  0.8333333333333334\n",
      "-----------------------------------------\n",
      "Modeling  4 st\n",
      "train set accuracy_score:  0.8705882352941177\n",
      "test set accuracy_score:  0.7380952380952381\n",
      "-----------------------------------------\n",
      "Modeling  5 st\n",
      "train set accuracy_score:  0.8294117647058824\n",
      "test set accuracy_score:  0.9761904761904762\n",
      "-----------------------------------------\n",
      "Mean test set accuracy_score:  0.8304540420819491\n",
      "\n",
      "\n",
      "\n",
      "################ C = 3 ################\n",
      "Modeling  1 st\n",
      "train set accuracy_score:  0.8698224852071006\n",
      "test set accuracy_score:  0.7674418604651163\n",
      "-----------------------------------------\n",
      "Modeling  2 st\n",
      "train set accuracy_score:  0.8402366863905325\n",
      "test set accuracy_score:  0.813953488372093\n",
      "-----------------------------------------\n",
      "Modeling  3 st\n",
      "train set accuracy_score:  0.8588235294117647\n",
      "test set accuracy_score:  0.8333333333333334\n",
      "-----------------------------------------\n",
      "Modeling  4 st\n",
      "train set accuracy_score:  0.8764705882352941\n",
      "test set accuracy_score:  0.7142857142857143\n",
      "-----------------------------------------\n",
      "Modeling  5 st\n",
      "train set accuracy_score:  0.8117647058823529\n",
      "test set accuracy_score:  0.9761904761904762\n",
      "-----------------------------------------\n",
      "Mean test set accuracy_score:  0.8210409745293467\n",
      "\n",
      "\n",
      "\n",
      "################ C = 5 ################\n",
      "Modeling  1 st\n",
      "train set accuracy_score:  0.8698224852071006\n",
      "test set accuracy_score:  0.7674418604651163\n",
      "-----------------------------------------\n",
      "Modeling  2 st\n",
      "train set accuracy_score:  0.8402366863905325\n",
      "test set accuracy_score:  0.7906976744186046\n",
      "-----------------------------------------\n",
      "Modeling  3 st\n",
      "train set accuracy_score:  0.8529411764705882\n",
      "test set accuracy_score:  0.8333333333333334\n",
      "-----------------------------------------\n",
      "Modeling  4 st\n",
      "train set accuracy_score:  0.8764705882352941\n",
      "test set accuracy_score:  0.7380952380952381\n",
      "-----------------------------------------\n",
      "Modeling  5 st\n",
      "train set accuracy_score:  0.8117647058823529\n",
      "test set accuracy_score:  0.9761904761904762\n",
      "-----------------------------------------\n",
      "Mean test set accuracy_score:  0.8211517165005537\n"
     ]
    }
   ],
   "source": [
    "# Hyper-parameter Tuning\n",
    "# Tuned to non-normalized cases because it performed better without normalization\n",
    "\n",
    "print('################ C = 0.1 ################')\n",
    "k_cv(X_train.values,Y_train.values,LogisticRegression(C=0.1),n_split=5)\n",
    "print('\\n\\n')\n",
    "\n",
    "print('################ C = 0.5 ################')\n",
    "k_cv(X_train.values,Y_train.values,LogisticRegression(C=0.5),n_split=5)\n",
    "print('\\n\\n')\n",
    "\n",
    "print('################ C = 1 ################')\n",
    "k_cv(X_train.values,Y_train.values,LogisticRegression(C=1),n_split=5)\n",
    "print('\\n\\n')\n",
    "\n",
    "print('################ C = 3 ################')\n",
    "k_cv(X_train.values,Y_train.values,LogisticRegression(C=3),n_split=5)\n",
    "print('\\n\\n')\n",
    "\n",
    "print('################ C = 5 ################')\n",
    "k_cv(X_train.values,Y_train.values,LogisticRegression(C=5),n_split=5)"
   ]
  },
  {
   "cell_type": "code",
   "execution_count": null,
   "metadata": {
    "colab": {
     "base_uri": "https://localhost:8080/"
    },
    "executionInfo": {
     "elapsed": 632,
     "status": "ok",
     "timestamp": 1618486900545,
     "user": {
      "displayName": "이승윤",
      "photoUrl": "",
      "userId": "18053956370916090566"
     },
     "user_tz": -540
    },
    "id": "oBl2PzFSVfQI",
    "outputId": "eb0c067d-ed7b-4f70-d485-f3d1dfb44fb5"
   },
   "outputs": [
    {
     "name": "stdout",
     "output_type": "stream",
     "text": [
      "Accuracy:  0.8571428571428571 \n",
      "\n",
      "              precision    recall  f1-score   support\n",
      "\n",
      "           0       0.92      0.77      0.84        44\n",
      "           1       0.81      0.94      0.87        47\n",
      "\n",
      "    accuracy                           0.86        91\n",
      "   macro avg       0.87      0.85      0.86        91\n",
      "weighted avg       0.87      0.86      0.86        91\n",
      "\n"
     ]
    }
   ],
   "source": [
    "# C=0.5 & Enforce normalization\n",
    "# Model with the highest accuracy as a result of CV\n",
    "\n",
    "lr=LogisticRegression(C=0.5)\n",
    "lr.fit(X_train_s,Y_train_s)\n",
    "pred=lr.predict(X_test_s)\n",
    "\n",
    "print('Accuracy: ',accuracy_score(Y_test_s,pred),'\\n')\n",
    "print(classification_report(Y_test_s,pred,labels=[0,1]))"
   ]
  },
  {
   "cell_type": "markdown",
   "metadata": {
    "id": "pTW3BxtSC9zv"
   },
   "source": [
    "## SVM"
   ]
  },
  {
   "cell_type": "code",
   "execution_count": null,
   "metadata": {
    "colab": {
     "base_uri": "https://localhost:8080/"
    },
    "executionInfo": {
     "elapsed": 487,
     "status": "ok",
     "timestamp": 1618484230126,
     "user": {
      "displayName": "이승윤",
      "photoUrl": "",
      "userId": "18053956370916090566"
     },
     "user_tz": -540
    },
    "id": "ui1F5gbvP0y0",
    "outputId": "54ac8b9c-e294-46fe-c84a-0f12ae26ce0f"
   },
   "outputs": [
    {
     "name": "stdout",
     "output_type": "stream",
     "text": [
      "Modeling  1 st\n",
      "train set accuracy_score:  0.6153846153846154\n",
      "test set accuracy_score:  0.5116279069767442\n",
      "-----------------------------------------\n",
      "Modeling  2 st\n",
      "train set accuracy_score:  0.6272189349112426\n",
      "test set accuracy_score:  0.5813953488372093\n",
      "-----------------------------------------\n",
      "Modeling  3 st\n",
      "train set accuracy_score:  0.6176470588235294\n",
      "test set accuracy_score:  0.5714285714285714\n",
      "-----------------------------------------\n",
      "Modeling  4 st\n",
      "train set accuracy_score:  0.6470588235294118\n",
      "test set accuracy_score:  0.5952380952380952\n",
      "-----------------------------------------\n",
      "Modeling  5 st\n",
      "train set accuracy_score:  0.6294117647058823\n",
      "test set accuracy_score:  0.6666666666666666\n",
      "-----------------------------------------\n",
      "Mean test set accuracy_score:  0.5852713178294573\n"
     ]
    }
   ],
   "source": [
    "# CV results if not normalized\n",
    "k_cv(X_train.values,Y_train.values,SVC(),n_split=5)"
   ]
  },
  {
   "cell_type": "code",
   "execution_count": null,
   "metadata": {
    "colab": {
     "base_uri": "https://localhost:8080/"
    },
    "executionInfo": {
     "elapsed": 698,
     "status": "ok",
     "timestamp": 1618484232533,
     "user": {
      "displayName": "이승윤",
      "photoUrl": "",
      "userId": "18053956370916090566"
     },
     "user_tz": -540
    },
    "id": "20ZnRX5VC9zv",
    "outputId": "605594ff-74d9-49e8-92a5-ef9960a10d91"
   },
   "outputs": [
    {
     "name": "stdout",
     "output_type": "stream",
     "text": [
      "Accuracy:  0.6703296703296703 \n",
      "\n",
      "              precision    recall  f1-score   support\n",
      "\n",
      "           0       0.77      0.45      0.57        44\n",
      "           1       0.63      0.87      0.73        47\n",
      "\n",
      "    accuracy                           0.67        91\n",
      "   macro avg       0.70      0.66      0.65        91\n",
      "weighted avg       0.70      0.67      0.65        91\n",
      "\n"
     ]
    }
   ],
   "source": [
    "#test set evaluation if not normalized\n",
    "svm=SVC()\n",
    "svm.fit(X_train,Y_train)\n",
    "pred=svm.predict(X_test)\n",
    "\n",
    "print('Accuracy: ',accuracy_score(Y_test,pred),'\\n')\n",
    "print(classification_report(Y_test,pred,labels=[0,1]))"
   ]
  },
  {
   "cell_type": "code",
   "execution_count": null,
   "metadata": {
    "colab": {
     "base_uri": "https://localhost:8080/"
    },
    "executionInfo": {
     "elapsed": 718,
     "status": "ok",
     "timestamp": 1618484234605,
     "user": {
      "displayName": "이승윤",
      "photoUrl": "",
      "userId": "18053956370916090566"
     },
     "user_tz": -540
    },
    "id": "uOEflZVrGry5",
    "outputId": "857058a8-0c25-4b60-a191-be7d76c0134e"
   },
   "outputs": [
    {
     "name": "stdout",
     "output_type": "stream",
     "text": [
      "Modeling  1 st\n",
      "train set accuracy_score:  0.9112426035502958\n",
      "test set accuracy_score:  0.7674418604651163\n",
      "-----------------------------------------\n",
      "Modeling  2 st\n",
      "train set accuracy_score:  0.8757396449704142\n",
      "test set accuracy_score:  0.813953488372093\n",
      "-----------------------------------------\n",
      "Modeling  3 st\n",
      "train set accuracy_score:  0.8823529411764706\n",
      "test set accuracy_score:  0.8095238095238095\n",
      "-----------------------------------------\n",
      "Modeling  4 st\n",
      "train set accuracy_score:  0.8764705882352941\n",
      "test set accuracy_score:  0.6904761904761905\n",
      "-----------------------------------------\n",
      "Modeling  5 st\n",
      "train set accuracy_score:  0.8588235294117647\n",
      "test set accuracy_score:  0.9047619047619048\n",
      "-----------------------------------------\n",
      "Mean test set accuracy_score:  0.7972314507198228\n"
     ]
    }
   ],
   "source": [
    "# CV results if normalized\n",
    "k_cv(X_train_s,Y_train_s,SVC(),n_split=5)"
   ]
  },
  {
   "cell_type": "code",
   "execution_count": null,
   "metadata": {
    "colab": {
     "base_uri": "https://localhost:8080/"
    },
    "executionInfo": {
     "elapsed": 642,
     "status": "ok",
     "timestamp": 1618484236454,
     "user": {
      "displayName": "이승윤",
      "photoUrl": "",
      "userId": "18053956370916090566"
     },
     "user_tz": -540
    },
    "id": "HRNJadmHO1XC",
    "outputId": "c9199086-b9f5-478b-9fa8-5fa90f756eee"
   },
   "outputs": [
    {
     "name": "stdout",
     "output_type": "stream",
     "text": [
      "Accuracy:  0.8681318681318682 \n",
      "\n",
      "              precision    recall  f1-score   support\n",
      "\n",
      "           0       0.97      0.75      0.85        44\n",
      "           1       0.81      0.98      0.88        47\n",
      "\n",
      "    accuracy                           0.87        91\n",
      "   macro avg       0.89      0.86      0.87        91\n",
      "weighted avg       0.89      0.87      0.87        91\n",
      "\n"
     ]
    }
   ],
   "source": [
    "# test set evaluationif normalized\n",
    "svm=SVC()\n",
    "svm.fit(X_train_s,Y_train_s)\n",
    "pred=svm.predict(X_test_s)\n",
    "\n",
    "print('Accuracy: ',accuracy_score(Y_test_s,pred),'\\n')\n",
    "print(classification_report(Y_test_s,pred,labels=[0,1]))"
   ]
  },
  {
   "cell_type": "code",
   "execution_count": null,
   "metadata": {
    "colab": {
     "base_uri": "https://localhost:8080/"
    },
    "executionInfo": {
     "elapsed": 885,
     "status": "ok",
     "timestamp": 1618486552618,
     "user": {
      "displayName": "이승윤",
      "photoUrl": "",
      "userId": "18053956370916090566"
     },
     "user_tz": -540
    },
    "id": "1D3ibo4dSJKH",
    "outputId": "4e9ac42a-f184-4314-837c-1e0c8f413ae6"
   },
   "outputs": [
    {
     "name": "stdout",
     "output_type": "stream",
     "text": [
      "################ kernel= linear ################\n",
      "Modeling  1 st\n",
      "train set accuracy_score:  0.8579881656804734\n",
      "test set accuracy_score:  0.7906976744186046\n",
      "-----------------------------------------\n",
      "Modeling  2 st\n",
      "train set accuracy_score:  0.8520710059171598\n",
      "test set accuracy_score:  0.8372093023255814\n",
      "-----------------------------------------\n",
      "Modeling  3 st\n",
      "train set accuracy_score:  0.8823529411764706\n",
      "test set accuracy_score:  0.8333333333333334\n",
      "-----------------------------------------\n",
      "Modeling  4 st\n",
      "train set accuracy_score:  0.8764705882352941\n",
      "test set accuracy_score:  0.6904761904761905\n",
      "-----------------------------------------\n",
      "Modeling  5 st\n",
      "train set accuracy_score:  0.8058823529411765\n",
      "test set accuracy_score:  0.9761904761904762\n",
      "-----------------------------------------\n",
      "Mean test set accuracy_score:  0.8255813953488372\n",
      "\n",
      "\n",
      "\n",
      "################ kernel= poly ################\n",
      "Modeling  1 st\n",
      "train set accuracy_score:  0.8875739644970414\n",
      "test set accuracy_score:  0.7674418604651163\n",
      "-----------------------------------------\n",
      "Modeling  2 st\n",
      "train set accuracy_score:  0.8816568047337278\n",
      "test set accuracy_score:  0.8372093023255814\n",
      "-----------------------------------------\n",
      "Modeling  3 st\n",
      "train set accuracy_score:  0.888235294117647\n",
      "test set accuracy_score:  0.8095238095238095\n",
      "-----------------------------------------\n",
      "Modeling  4 st\n",
      "train set accuracy_score:  0.8764705882352941\n",
      "test set accuracy_score:  0.7619047619047619\n",
      "-----------------------------------------\n",
      "Modeling  5 st\n",
      "train set accuracy_score:  0.8529411764705882\n",
      "test set accuracy_score:  0.8571428571428571\n",
      "-----------------------------------------\n",
      "Mean test set accuracy_score:  0.8066445182724251\n",
      "\n",
      "\n",
      "\n",
      "################ kernel= rbf ################\n",
      "Modeling  1 st\n",
      "train set accuracy_score:  0.9112426035502958\n",
      "test set accuracy_score:  0.7674418604651163\n",
      "-----------------------------------------\n",
      "Modeling  2 st\n",
      "train set accuracy_score:  0.8757396449704142\n",
      "test set accuracy_score:  0.813953488372093\n",
      "-----------------------------------------\n",
      "Modeling  3 st\n",
      "train set accuracy_score:  0.8823529411764706\n",
      "test set accuracy_score:  0.8095238095238095\n",
      "-----------------------------------------\n",
      "Modeling  4 st\n",
      "train set accuracy_score:  0.8764705882352941\n",
      "test set accuracy_score:  0.6904761904761905\n",
      "-----------------------------------------\n",
      "Modeling  5 st\n",
      "train set accuracy_score:  0.8588235294117647\n",
      "test set accuracy_score:  0.9047619047619048\n",
      "-----------------------------------------\n",
      "Mean test set accuracy_score:  0.7972314507198228\n",
      "\n",
      "\n",
      "\n",
      "################ kerne= sigmoid ################\n",
      "Modeling  1 st\n",
      "train set accuracy_score:  0.7751479289940828\n",
      "test set accuracy_score:  0.7906976744186046\n",
      "-----------------------------------------\n",
      "Modeling  2 st\n",
      "train set accuracy_score:  0.7988165680473372\n",
      "test set accuracy_score:  0.7674418604651163\n",
      "-----------------------------------------\n",
      "Modeling  3 st\n",
      "train set accuracy_score:  0.788235294117647\n",
      "test set accuracy_score:  0.8333333333333334\n",
      "-----------------------------------------\n",
      "Modeling  4 st\n",
      "train set accuracy_score:  0.8176470588235294\n",
      "test set accuracy_score:  0.6904761904761905\n",
      "-----------------------------------------\n",
      "Modeling  5 st\n",
      "train set accuracy_score:  0.7529411764705882\n",
      "test set accuracy_score:  0.9047619047619048\n",
      "-----------------------------------------\n",
      "Mean test set accuracy_score:  0.7973421926910299\n"
     ]
    }
   ],
   "source": [
    "# Hyper-parameter Tuning\n",
    "# Tunes kernel with different types\n",
    "# Tuned for normalized cases because normalized cases performed better\n",
    "\n",
    "print('################ kernel= linear ################')\n",
    "k_cv(X_train_s,Y_train_s,SVC(kernel='linear'),n_split=5)\n",
    "print('\\n\\n')\n",
    "\n",
    "print('################ kernel= poly ################')\n",
    "k_cv(X_train_s,Y_train_s,SVC(kernel='poly'),n_split=5)\n",
    "print('\\n\\n')\n",
    "\n",
    "print('################ kernel= rbf ################')\n",
    "k_cv(X_train_s,Y_train_s,SVC(kernel='rbf'),n_split=5)\n",
    "print('\\n\\n')\n",
    "\n",
    "print('################ kernel= sigmoid ################')\n",
    "k_cv(X_train_s,Y_train_s,SVC(kernel='sigmoid'),n_split=5)"
   ]
  },
  {
   "cell_type": "code",
   "execution_count": null,
   "metadata": {
    "colab": {
     "base_uri": "https://localhost:8080/"
    },
    "executionInfo": {
     "elapsed": 1509,
     "status": "ok",
     "timestamp": 1618486568640,
     "user": {
      "displayName": "이승윤",
      "photoUrl": "",
      "userId": "18053956370916090566"
     },
     "user_tz": -540
    },
    "id": "DkLFRYg_TfcH",
    "outputId": "8a752390-053b-4699-f3a4-7968e96005cb"
   },
   "outputs": [
    {
     "name": "stdout",
     "output_type": "stream",
     "text": [
      "Accuracy:  0.8681318681318682 \n",
      "\n",
      "              precision    recall  f1-score   support\n",
      "\n",
      "           0       0.92      0.80      0.85        44\n",
      "           1       0.83      0.94      0.88        47\n",
      "\n",
      "    accuracy                           0.87        91\n",
      "   macro avg       0.88      0.87      0.87        91\n",
      "weighted avg       0.87      0.87      0.87        91\n",
      "\n"
     ]
    }
   ],
   "source": [
    "# kernel=linear & Enforce normalization\n",
    "# Model with the highest accuracy as a result of CV\n",
    "\n",
    "svm=SVC(kernel='linear')\n",
    "svm.fit(X_train_s,Y_train_s)\n",
    "pred=svm.predict(X_test_s)\n",
    "\n",
    "print('Accuracy: ',accuracy_score(Y_test_s,pred),'\\n')\n",
    "print(classification_report(Y_test_s,pred,labels=[0,1]))"
   ]
  },
  {
   "cell_type": "markdown",
   "metadata": {
    "id": "HGzFi8Y8J9qs"
   },
   "source": [
    "## Neural Network"
   ]
  },
  {
   "cell_type": "code",
   "execution_count": null,
   "metadata": {
    "id": "0T_2i-KCKAmp"
   },
   "outputs": [],
   "source": [
    "# Functioning the model to enable the same model structure\n",
    "def nn_model():\n",
    "  model=Sequential()\n",
    "  model.add(Dense(128,input_dim=X_train.shape[1],activation='relu'))\n",
    "  model.add(Dropout(0.2))\n",
    "  model.add(Dense(128,activation='relu'))\n",
    "  model.add(Dense(1,activation='sigmoid'))\n",
    "\n",
    "  model.compile(loss='binary_crossentropy',optimizer='adam',metrics='accuracy')\n",
    "  \n",
    "  return model"
   ]
  },
  {
   "cell_type": "code",
   "execution_count": null,
   "metadata": {
    "colab": {
     "base_uri": "https://localhost:8080/"
    },
    "executionInfo": {
     "elapsed": 21969,
     "status": "ok",
     "timestamp": 1618634127910,
     "user": {
      "displayName": "이승윤",
      "photoUrl": "",
      "userId": "18053956370916090566"
     },
     "user_tz": -540
    },
    "id": "jfuNQHxqG5MJ",
    "outputId": "2eca9e45-c09f-4f99-d513-d04c8f5dc5b5"
   },
   "outputs": [
    {
     "name": "stdout",
     "output_type": "stream",
     "text": [
      "Epoch 1/250\n",
      "6/6 [==============================] - 1s 46ms/step - loss: 5.2884 - accuracy: 0.4722 - val_loss: 1.2267 - val_accuracy: 0.5814\n",
      "Epoch 2/250\n",
      "6/6 [==============================] - 0s 15ms/step - loss: 3.1623 - accuracy: 0.6077 - val_loss: 0.8403 - val_accuracy: 0.7209\n",
      "Epoch 3/250\n",
      "6/6 [==============================] - 0s 14ms/step - loss: 3.5956 - accuracy: 0.4943 - val_loss: 1.0784 - val_accuracy: 0.6977\n",
      "Epoch 4/250\n",
      "6/6 [==============================] - 0s 16ms/step - loss: 1.9427 - accuracy: 0.6571 - val_loss: 1.3303 - val_accuracy: 0.6744\n",
      "Epoch 5/250\n",
      "6/6 [==============================] - 0s 13ms/step - loss: 2.3894 - accuracy: 0.6670 - val_loss: 0.9963 - val_accuracy: 0.6977\n",
      "Epoch 6/250\n",
      "6/6 [==============================] - 0s 13ms/step - loss: 2.4817 - accuracy: 0.5814 - val_loss: 1.8723 - val_accuracy: 0.6279\n",
      "Epoch 7/250\n",
      "6/6 [==============================] - 0s 12ms/step - loss: 2.5816 - accuracy: 0.6394 - val_loss: 1.7160 - val_accuracy: 0.5814\n",
      "Epoch 8/250\n",
      "6/6 [==============================] - 0s 14ms/step - loss: 2.4846 - accuracy: 0.5681 - val_loss: 1.1152 - val_accuracy: 0.6744\n",
      "Epoch 9/250\n",
      "6/6 [==============================] - 0s 15ms/step - loss: 1.7944 - accuracy: 0.5862 - val_loss: 1.3375 - val_accuracy: 0.5581\n",
      "Epoch 10/250\n",
      "6/6 [==============================] - 0s 14ms/step - loss: 1.6437 - accuracy: 0.6191 - val_loss: 0.9874 - val_accuracy: 0.6977\n",
      "Epoch 11/250\n",
      "6/6 [==============================] - 0s 12ms/step - loss: 2.1333 - accuracy: 0.6016 - val_loss: 1.7267 - val_accuracy: 0.5581\n",
      "Epoch 12/250\n",
      "6/6 [==============================] - 0s 14ms/step - loss: 1.5326 - accuracy: 0.6248 - val_loss: 0.8828 - val_accuracy: 0.7209\n",
      "Epoch 13/250\n",
      "6/6 [==============================] - 0s 12ms/step - loss: 1.6677 - accuracy: 0.5813 - val_loss: 0.7407 - val_accuracy: 0.6744\n",
      "Epoch 14/250\n",
      "6/6 [==============================] - 0s 12ms/step - loss: 1.4986 - accuracy: 0.6246 - val_loss: 0.8068 - val_accuracy: 0.6977\n",
      "Epoch 15/250\n",
      "6/6 [==============================] - 0s 13ms/step - loss: 1.7826 - accuracy: 0.5770 - val_loss: 1.0196 - val_accuracy: 0.6744\n",
      "Epoch 16/250\n",
      "6/6 [==============================] - 0s 13ms/step - loss: 1.6466 - accuracy: 0.5830 - val_loss: 1.2808 - val_accuracy: 0.5814\n",
      "Epoch 17/250\n",
      "6/6 [==============================] - 0s 13ms/step - loss: 1.2275 - accuracy: 0.5769 - val_loss: 0.7130 - val_accuracy: 0.7209\n",
      "Epoch 18/250\n",
      "6/6 [==============================] - 0s 13ms/step - loss: 1.5075 - accuracy: 0.6061 - val_loss: 1.1080 - val_accuracy: 0.5814\n",
      "Epoch 19/250\n",
      "6/6 [==============================] - 0s 18ms/step - loss: 0.9844 - accuracy: 0.6989 - val_loss: 1.1314 - val_accuracy: 0.5581\n",
      "Epoch 20/250\n",
      "6/6 [==============================] - 0s 14ms/step - loss: 1.2097 - accuracy: 0.7270 - val_loss: 0.7820 - val_accuracy: 0.6279\n",
      "Epoch 21/250\n",
      "6/6 [==============================] - 0s 14ms/step - loss: 1.1173 - accuracy: 0.6103 - val_loss: 0.5919 - val_accuracy: 0.7442\n",
      "Epoch 22/250\n",
      "6/6 [==============================] - 0s 14ms/step - loss: 1.2487 - accuracy: 0.6170 - val_loss: 1.3834 - val_accuracy: 0.5349\n",
      "Epoch 23/250\n",
      "6/6 [==============================] - 0s 15ms/step - loss: 1.0797 - accuracy: 0.6402 - val_loss: 0.6368 - val_accuracy: 0.6744\n",
      "Epoch 24/250\n",
      "6/6 [==============================] - 0s 15ms/step - loss: 1.1176 - accuracy: 0.6034 - val_loss: 0.7755 - val_accuracy: 0.5814\n",
      "Epoch 25/250\n",
      "6/6 [==============================] - 0s 13ms/step - loss: 1.1118 - accuracy: 0.6017 - val_loss: 0.7782 - val_accuracy: 0.5581\n",
      "Epoch 26/250\n",
      "6/6 [==============================] - 0s 14ms/step - loss: 0.8536 - accuracy: 0.6030 - val_loss: 0.5499 - val_accuracy: 0.6977\n",
      "Epoch 27/250\n",
      "6/6 [==============================] - 0s 14ms/step - loss: 0.8392 - accuracy: 0.7338 - val_loss: 1.3134 - val_accuracy: 0.5116\n",
      "Epoch 28/250\n",
      "6/6 [==============================] - 0s 13ms/step - loss: 1.0872 - accuracy: 0.5681 - val_loss: 0.5514 - val_accuracy: 0.7442\n",
      "Epoch 29/250\n",
      "6/6 [==============================] - 0s 12ms/step - loss: 0.9435 - accuracy: 0.5751 - val_loss: 0.8741 - val_accuracy: 0.5581\n",
      "Epoch 30/250\n",
      "6/6 [==============================] - 0s 14ms/step - loss: 1.0383 - accuracy: 0.5455 - val_loss: 0.7268 - val_accuracy: 0.6047\n",
      "Epoch 31/250\n",
      "6/6 [==============================] - 0s 15ms/step - loss: 0.8506 - accuracy: 0.5811 - val_loss: 0.5260 - val_accuracy: 0.6977\n",
      "Epoch 32/250\n",
      "6/6 [==============================] - 0s 14ms/step - loss: 1.0128 - accuracy: 0.6343 - val_loss: 1.2859 - val_accuracy: 0.5116\n",
      "Epoch 33/250\n",
      "6/6 [==============================] - 0s 13ms/step - loss: 0.8488 - accuracy: 0.5903 - val_loss: 0.5656 - val_accuracy: 0.7674\n",
      "Epoch 34/250\n",
      "6/6 [==============================] - 0s 11ms/step - loss: 0.9992 - accuracy: 0.6475 - val_loss: 0.5647 - val_accuracy: 0.7209\n",
      "Epoch 35/250\n",
      "6/6 [==============================] - 0s 13ms/step - loss: 0.9968 - accuracy: 0.5247 - val_loss: 1.4977 - val_accuracy: 0.5116\n",
      "Epoch 36/250\n",
      "6/6 [==============================] - 0s 12ms/step - loss: 0.8051 - accuracy: 0.7055 - val_loss: 0.5421 - val_accuracy: 0.7209\n",
      "Epoch 37/250\n",
      "6/6 [==============================] - 0s 12ms/step - loss: 0.9691 - accuracy: 0.6128 - val_loss: 0.7892 - val_accuracy: 0.5349\n",
      "Epoch 38/250\n",
      "6/6 [==============================] - 0s 12ms/step - loss: 0.8881 - accuracy: 0.6652 - val_loss: 1.2629 - val_accuracy: 0.4884\n",
      "Epoch 39/250\n",
      "6/6 [==============================] - 0s 13ms/step - loss: 0.9640 - accuracy: 0.6079 - val_loss: 0.7822 - val_accuracy: 0.5581\n",
      "Epoch 40/250\n",
      "6/6 [==============================] - 0s 13ms/step - loss: 0.8617 - accuracy: 0.6582 - val_loss: 0.5367 - val_accuracy: 0.7442\n",
      "Epoch 41/250\n",
      "6/6 [==============================] - 0s 13ms/step - loss: 0.9512 - accuracy: 0.6070 - val_loss: 1.1626 - val_accuracy: 0.4884\n",
      "Epoch 42/250\n",
      "6/6 [==============================] - 0s 13ms/step - loss: 0.6709 - accuracy: 0.6474 - val_loss: 0.5196 - val_accuracy: 0.7442\n",
      "Epoch 43/250\n",
      "6/6 [==============================] - 0s 14ms/step - loss: 0.8480 - accuracy: 0.6175 - val_loss: 0.7252 - val_accuracy: 0.5116\n",
      "Epoch 44/250\n",
      "6/6 [==============================] - 0s 14ms/step - loss: 0.7354 - accuracy: 0.6501 - val_loss: 0.7803 - val_accuracy: 0.5116\n",
      "Epoch 45/250\n",
      "6/6 [==============================] - 0s 15ms/step - loss: 0.7580 - accuracy: 0.6135 - val_loss: 0.5544 - val_accuracy: 0.7674\n",
      "Epoch 46/250\n",
      "6/6 [==============================] - 0s 14ms/step - loss: 0.7577 - accuracy: 0.6660 - val_loss: 1.1452 - val_accuracy: 0.4419\n",
      "Epoch 47/250\n",
      "6/6 [==============================] - 0s 14ms/step - loss: 0.8034 - accuracy: 0.5966 - val_loss: 0.5120 - val_accuracy: 0.7674\n",
      "Epoch 48/250\n",
      "6/6 [==============================] - 0s 14ms/step - loss: 0.8951 - accuracy: 0.6282 - val_loss: 0.6155 - val_accuracy: 0.6744\n",
      "Epoch 49/250\n",
      "6/6 [==============================] - 0s 14ms/step - loss: 0.7922 - accuracy: 0.6506 - val_loss: 0.5531 - val_accuracy: 0.7442\n",
      "Epoch 50/250\n",
      "6/6 [==============================] - 0s 13ms/step - loss: 0.7544 - accuracy: 0.6982 - val_loss: 0.5898 - val_accuracy: 0.6744\n",
      "Epoch 51/250\n",
      "6/6 [==============================] - 0s 13ms/step - loss: 0.8203 - accuracy: 0.6612 - val_loss: 0.5037 - val_accuracy: 0.7209\n",
      "Epoch 52/250\n",
      "6/6 [==============================] - 0s 13ms/step - loss: 0.7648 - accuracy: 0.6306 - val_loss: 0.5058 - val_accuracy: 0.7907\n",
      "Epoch 53/250\n",
      "6/6 [==============================] - 0s 13ms/step - loss: 0.9058 - accuracy: 0.6401 - val_loss: 1.0162 - val_accuracy: 0.4884\n",
      "Epoch 54/250\n",
      "6/6 [==============================] - 0s 12ms/step - loss: 0.9934 - accuracy: 0.5661 - val_loss: 0.5451 - val_accuracy: 0.6744\n",
      "Epoch 55/250\n",
      "6/6 [==============================] - 0s 11ms/step - loss: 0.7602 - accuracy: 0.6425 - val_loss: 0.6102 - val_accuracy: 0.6744\n",
      "Epoch 56/250\n",
      "6/6 [==============================] - 0s 13ms/step - loss: 0.8562 - accuracy: 0.6731 - val_loss: 1.3335 - val_accuracy: 0.4651\n",
      "Epoch 57/250\n",
      "6/6 [==============================] - 0s 13ms/step - loss: 1.0169 - accuracy: 0.5690 - val_loss: 0.7599 - val_accuracy: 0.6512\n",
      "Epoch 58/250\n",
      "6/6 [==============================] - 0s 17ms/step - loss: 0.8479 - accuracy: 0.6107 - val_loss: 1.1772 - val_accuracy: 0.5116\n",
      "Epoch 59/250\n",
      "6/6 [==============================] - 0s 16ms/step - loss: 0.8703 - accuracy: 0.5910 - val_loss: 0.5593 - val_accuracy: 0.7209\n",
      "Epoch 60/250\n",
      "6/6 [==============================] - 0s 14ms/step - loss: 0.7415 - accuracy: 0.6784 - val_loss: 0.7145 - val_accuracy: 0.6279\n",
      "Epoch 61/250\n",
      "6/6 [==============================] - 0s 13ms/step - loss: 0.6346 - accuracy: 0.7266 - val_loss: 0.5650 - val_accuracy: 0.6744\n",
      "Epoch 62/250\n",
      "6/6 [==============================] - 0s 14ms/step - loss: 0.7342 - accuracy: 0.6350 - val_loss: 0.5849 - val_accuracy: 0.6512\n",
      "Epoch 63/250\n",
      "6/6 [==============================] - 0s 14ms/step - loss: 0.5566 - accuracy: 0.7469 - val_loss: 0.5131 - val_accuracy: 0.7442\n",
      "Epoch 64/250\n",
      "6/6 [==============================] - 0s 13ms/step - loss: 0.7318 - accuracy: 0.7105 - val_loss: 0.7322 - val_accuracy: 0.5581\n",
      "Epoch 65/250\n",
      "6/6 [==============================] - 0s 13ms/step - loss: 0.8058 - accuracy: 0.6564 - val_loss: 0.5335 - val_accuracy: 0.6977\n",
      "Epoch 66/250\n",
      "6/6 [==============================] - 0s 12ms/step - loss: 0.6389 - accuracy: 0.6825 - val_loss: 0.5687 - val_accuracy: 0.6279\n",
      "Epoch 67/250\n",
      "6/6 [==============================] - 0s 13ms/step - loss: 0.6897 - accuracy: 0.6783 - val_loss: 0.6256 - val_accuracy: 0.6512\n",
      "Epoch 68/250\n",
      "6/6 [==============================] - 0s 12ms/step - loss: 0.6468 - accuracy: 0.6799 - val_loss: 0.5095 - val_accuracy: 0.7674\n",
      "Epoch 69/250\n",
      "6/6 [==============================] - 0s 12ms/step - loss: 0.6807 - accuracy: 0.6957 - val_loss: 0.8113 - val_accuracy: 0.5349\n",
      "Epoch 70/250\n",
      "6/6 [==============================] - 0s 12ms/step - loss: 0.7864 - accuracy: 0.6063 - val_loss: 0.6034 - val_accuracy: 0.6744\n",
      "Epoch 71/250\n",
      "6/6 [==============================] - 0s 15ms/step - loss: 0.9358 - accuracy: 0.6329 - val_loss: 1.4168 - val_accuracy: 0.4419\n",
      "Epoch 72/250\n",
      "6/6 [==============================] - 0s 16ms/step - loss: 0.9575 - accuracy: 0.5657 - val_loss: 0.6671 - val_accuracy: 0.6744\n",
      "Epoch 73/250\n",
      "6/6 [==============================] - 0s 13ms/step - loss: 0.9162 - accuracy: 0.6059 - val_loss: 0.9218 - val_accuracy: 0.5581\n",
      "Epoch 74/250\n",
      "6/6 [==============================] - 0s 14ms/step - loss: 0.7470 - accuracy: 0.7053 - val_loss: 0.4953 - val_accuracy: 0.7674\n",
      "Epoch 75/250\n",
      "6/6 [==============================] - 0s 13ms/step - loss: 0.7237 - accuracy: 0.6544 - val_loss: 0.6118 - val_accuracy: 0.6744\n",
      "Epoch 76/250\n",
      "6/6 [==============================] - 0s 15ms/step - loss: 0.6633 - accuracy: 0.6676 - val_loss: 0.4722 - val_accuracy: 0.8372\n",
      "Epoch 77/250\n",
      "6/6 [==============================] - 0s 14ms/step - loss: 0.6190 - accuracy: 0.7279 - val_loss: 0.5158 - val_accuracy: 0.7442\n",
      "Epoch 78/250\n",
      "6/6 [==============================] - 0s 15ms/step - loss: 0.6071 - accuracy: 0.6993 - val_loss: 0.5334 - val_accuracy: 0.6744\n",
      "Epoch 79/250\n",
      "6/6 [==============================] - 0s 16ms/step - loss: 0.6183 - accuracy: 0.7158 - val_loss: 0.6975 - val_accuracy: 0.5814\n",
      "Epoch 80/250\n",
      "6/6 [==============================] - 0s 14ms/step - loss: 0.6853 - accuracy: 0.6283 - val_loss: 0.4695 - val_accuracy: 0.8140\n",
      "Epoch 81/250\n",
      "6/6 [==============================] - 0s 15ms/step - loss: 0.5681 - accuracy: 0.7073 - val_loss: 0.7642 - val_accuracy: 0.5814\n",
      "Epoch 82/250\n",
      "6/6 [==============================] - 0s 14ms/step - loss: 0.6111 - accuracy: 0.7605 - val_loss: 0.4699 - val_accuracy: 0.8140\n",
      "Epoch 83/250\n",
      "6/6 [==============================] - 0s 16ms/step - loss: 0.6457 - accuracy: 0.6622 - val_loss: 0.7053 - val_accuracy: 0.5814\n",
      "Epoch 84/250\n",
      "6/6 [==============================] - 0s 14ms/step - loss: 0.6789 - accuracy: 0.6549 - val_loss: 0.4826 - val_accuracy: 0.7674\n",
      "Epoch 85/250\n",
      "6/6 [==============================] - 0s 13ms/step - loss: 0.7120 - accuracy: 0.6931 - val_loss: 0.8595 - val_accuracy: 0.5116\n",
      "Epoch 86/250\n",
      "6/6 [==============================] - 0s 15ms/step - loss: 0.6822 - accuracy: 0.6353 - val_loss: 0.4761 - val_accuracy: 0.7442\n",
      "Epoch 87/250\n",
      "6/6 [==============================] - 0s 14ms/step - loss: 0.5668 - accuracy: 0.7239 - val_loss: 0.6027 - val_accuracy: 0.6047\n",
      "Epoch 88/250\n",
      "6/6 [==============================] - 0s 15ms/step - loss: 0.5011 - accuracy: 0.7556 - val_loss: 0.5131 - val_accuracy: 0.6744\n",
      "Epoch 89/250\n",
      "6/6 [==============================] - 0s 13ms/step - loss: 0.6542 - accuracy: 0.6345 - val_loss: 0.4882 - val_accuracy: 0.7442\n",
      "Epoch 90/250\n",
      "6/6 [==============================] - 0s 14ms/step - loss: 0.7885 - accuracy: 0.6574 - val_loss: 0.7641 - val_accuracy: 0.5349\n",
      "Epoch 91/250\n",
      "6/6 [==============================] - 0s 14ms/step - loss: 0.7704 - accuracy: 0.6177 - val_loss: 0.4725 - val_accuracy: 0.7674\n",
      "Epoch 92/250\n",
      "6/6 [==============================] - 0s 16ms/step - loss: 0.7027 - accuracy: 0.6936 - val_loss: 0.6625 - val_accuracy: 0.6279\n",
      "Epoch 93/250\n",
      "6/6 [==============================] - 0s 14ms/step - loss: 0.6987 - accuracy: 0.6447 - val_loss: 0.4580 - val_accuracy: 0.7907\n",
      "Epoch 94/250\n",
      "6/6 [==============================] - 0s 13ms/step - loss: 0.6646 - accuracy: 0.7026 - val_loss: 0.5037 - val_accuracy: 0.7442\n",
      "Epoch 95/250\n",
      "6/6 [==============================] - 0s 14ms/step - loss: 0.5713 - accuracy: 0.7116 - val_loss: 0.5096 - val_accuracy: 0.7442\n",
      "Epoch 96/250\n",
      "6/6 [==============================] - 0s 16ms/step - loss: 0.6905 - accuracy: 0.6583 - val_loss: 0.5024 - val_accuracy: 0.7209\n",
      "Epoch 97/250\n",
      "6/6 [==============================] - 0s 15ms/step - loss: 0.6026 - accuracy: 0.6770 - val_loss: 0.4380 - val_accuracy: 0.7907\n",
      "Epoch 98/250\n",
      "6/6 [==============================] - 0s 16ms/step - loss: 0.6602 - accuracy: 0.6783 - val_loss: 0.4910 - val_accuracy: 0.7442\n",
      "Epoch 99/250\n",
      "6/6 [==============================] - 0s 13ms/step - loss: 0.6935 - accuracy: 0.6367 - val_loss: 0.4403 - val_accuracy: 0.7907\n",
      "Epoch 100/250\n",
      "6/6 [==============================] - 0s 14ms/step - loss: 0.6386 - accuracy: 0.6840 - val_loss: 0.4605 - val_accuracy: 0.8140\n",
      "Epoch 101/250\n",
      "6/6 [==============================] - 0s 14ms/step - loss: 0.6608 - accuracy: 0.7075 - val_loss: 0.4749 - val_accuracy: 0.7442\n",
      "Epoch 102/250\n",
      "6/6 [==============================] - 0s 14ms/step - loss: 0.5046 - accuracy: 0.7270 - val_loss: 0.4481 - val_accuracy: 0.8605\n",
      "Epoch 103/250\n",
      "6/6 [==============================] - 0s 15ms/step - loss: 0.5965 - accuracy: 0.6707 - val_loss: 0.4990 - val_accuracy: 0.6977\n",
      "Epoch 104/250\n",
      "6/6 [==============================] - 0s 17ms/step - loss: 0.5686 - accuracy: 0.7083 - val_loss: 0.4506 - val_accuracy: 0.8140\n",
      "Epoch 105/250\n",
      "6/6 [==============================] - 0s 14ms/step - loss: 0.5364 - accuracy: 0.7311 - val_loss: 0.4321 - val_accuracy: 0.8837\n",
      "Epoch 106/250\n",
      "6/6 [==============================] - 0s 13ms/step - loss: 0.5936 - accuracy: 0.7009 - val_loss: 0.4433 - val_accuracy: 0.8372\n",
      "Epoch 107/250\n",
      "6/6 [==============================] - 0s 14ms/step - loss: 0.5224 - accuracy: 0.7661 - val_loss: 0.4606 - val_accuracy: 0.7907\n",
      "Epoch 108/250\n",
      "6/6 [==============================] - 0s 17ms/step - loss: 0.5788 - accuracy: 0.7037 - val_loss: 0.4481 - val_accuracy: 0.8140\n",
      "Epoch 109/250\n",
      "6/6 [==============================] - 0s 13ms/step - loss: 0.5735 - accuracy: 0.7012 - val_loss: 0.5059 - val_accuracy: 0.6977\n",
      "Epoch 110/250\n",
      "6/6 [==============================] - 0s 15ms/step - loss: 0.5328 - accuracy: 0.7574 - val_loss: 0.4297 - val_accuracy: 0.8605\n",
      "Epoch 111/250\n",
      "6/6 [==============================] - 0s 13ms/step - loss: 0.5370 - accuracy: 0.7417 - val_loss: 0.4325 - val_accuracy: 0.8140\n",
      "Epoch 112/250\n",
      "6/6 [==============================] - 0s 14ms/step - loss: 0.4970 - accuracy: 0.7804 - val_loss: 0.4254 - val_accuracy: 0.8372\n",
      "Epoch 113/250\n",
      "6/6 [==============================] - 0s 13ms/step - loss: 0.5864 - accuracy: 0.7290 - val_loss: 0.4797 - val_accuracy: 0.7907\n",
      "Epoch 114/250\n",
      "6/6 [==============================] - 0s 13ms/step - loss: 0.4919 - accuracy: 0.7752 - val_loss: 0.4504 - val_accuracy: 0.8140\n",
      "Epoch 115/250\n",
      "6/6 [==============================] - 0s 12ms/step - loss: 0.4993 - accuracy: 0.7171 - val_loss: 0.4450 - val_accuracy: 0.7907\n",
      "Epoch 116/250\n",
      "6/6 [==============================] - 0s 14ms/step - loss: 0.4870 - accuracy: 0.7734 - val_loss: 0.5644 - val_accuracy: 0.6512\n",
      "Epoch 117/250\n",
      "6/6 [==============================] - 0s 16ms/step - loss: 0.5685 - accuracy: 0.7267 - val_loss: 0.4413 - val_accuracy: 0.7442\n",
      "Epoch 118/250\n",
      "6/6 [==============================] - 0s 15ms/step - loss: 0.6057 - accuracy: 0.7177 - val_loss: 0.4977 - val_accuracy: 0.6977\n",
      "Epoch 119/250\n",
      "6/6 [==============================] - 0s 14ms/step - loss: 0.5008 - accuracy: 0.7499 - val_loss: 0.4385 - val_accuracy: 0.8372\n",
      "Epoch 120/250\n",
      "6/6 [==============================] - 0s 15ms/step - loss: 0.4824 - accuracy: 0.7921 - val_loss: 0.4693 - val_accuracy: 0.7442\n",
      "Epoch 121/250\n",
      "6/6 [==============================] - 0s 15ms/step - loss: 0.5281 - accuracy: 0.7187 - val_loss: 0.4099 - val_accuracy: 0.8140\n",
      "Epoch 122/250\n",
      "6/6 [==============================] - 0s 14ms/step - loss: 0.5197 - accuracy: 0.7289 - val_loss: 0.4945 - val_accuracy: 0.7907\n",
      "Epoch 123/250\n",
      "6/6 [==============================] - 0s 16ms/step - loss: 0.5243 - accuracy: 0.7026 - val_loss: 0.4188 - val_accuracy: 0.7674\n",
      "Epoch 124/250\n",
      "6/6 [==============================] - 0s 16ms/step - loss: 0.4832 - accuracy: 0.7712 - val_loss: 0.4113 - val_accuracy: 0.8605\n",
      "Epoch 125/250\n",
      "6/6 [==============================] - 0s 14ms/step - loss: 0.5314 - accuracy: 0.7112 - val_loss: 0.4019 - val_accuracy: 0.8372\n",
      "Epoch 126/250\n",
      "6/6 [==============================] - 0s 15ms/step - loss: 0.5234 - accuracy: 0.7389 - val_loss: 0.4119 - val_accuracy: 0.8140\n",
      "Epoch 127/250\n",
      "6/6 [==============================] - 0s 13ms/step - loss: 0.5300 - accuracy: 0.7452 - val_loss: 0.3997 - val_accuracy: 0.8140\n",
      "Epoch 128/250\n",
      "6/6 [==============================] - 0s 14ms/step - loss: 0.4607 - accuracy: 0.7815 - val_loss: 0.4444 - val_accuracy: 0.8605\n",
      "Epoch 129/250\n",
      "6/6 [==============================] - 0s 14ms/step - loss: 0.5526 - accuracy: 0.7265 - val_loss: 0.4094 - val_accuracy: 0.8372\n",
      "Epoch 130/250\n",
      "6/6 [==============================] - 0s 16ms/step - loss: 0.5131 - accuracy: 0.7614 - val_loss: 0.4497 - val_accuracy: 0.8372\n",
      "Epoch 131/250\n",
      "6/6 [==============================] - 0s 15ms/step - loss: 0.5096 - accuracy: 0.7556 - val_loss: 0.4378 - val_accuracy: 0.7907\n",
      "Epoch 132/250\n",
      "6/6 [==============================] - 0s 15ms/step - loss: 0.6560 - accuracy: 0.6972 - val_loss: 0.4117 - val_accuracy: 0.8140\n",
      "Epoch 133/250\n",
      "6/6 [==============================] - 0s 15ms/step - loss: 0.5139 - accuracy: 0.6777 - val_loss: 0.4051 - val_accuracy: 0.8372\n",
      "Epoch 134/250\n",
      "6/6 [==============================] - 0s 15ms/step - loss: 0.4421 - accuracy: 0.7828 - val_loss: 0.4091 - val_accuracy: 0.8372\n",
      "Epoch 135/250\n",
      "6/6 [==============================] - 0s 14ms/step - loss: 0.4814 - accuracy: 0.7751 - val_loss: 0.3892 - val_accuracy: 0.8837\n",
      "Epoch 136/250\n",
      "6/6 [==============================] - 0s 15ms/step - loss: 0.5273 - accuracy: 0.7429 - val_loss: 0.4032 - val_accuracy: 0.8837\n",
      "Epoch 137/250\n",
      "6/6 [==============================] - 0s 14ms/step - loss: 0.4529 - accuracy: 0.7593 - val_loss: 0.4081 - val_accuracy: 0.7674\n",
      "Epoch 138/250\n",
      "6/6 [==============================] - 0s 13ms/step - loss: 0.4659 - accuracy: 0.7445 - val_loss: 0.4609 - val_accuracy: 0.7907\n",
      "Epoch 139/250\n",
      "6/6 [==============================] - 0s 13ms/step - loss: 0.5167 - accuracy: 0.7388 - val_loss: 0.4043 - val_accuracy: 0.8372\n",
      "Epoch 140/250\n",
      "6/6 [==============================] - 0s 15ms/step - loss: 0.4565 - accuracy: 0.7282 - val_loss: 0.3930 - val_accuracy: 0.8605\n",
      "Epoch 141/250\n",
      "6/6 [==============================] - 0s 13ms/step - loss: 0.5501 - accuracy: 0.7207 - val_loss: 0.4109 - val_accuracy: 0.8140\n",
      "Epoch 142/250\n",
      "6/6 [==============================] - 0s 14ms/step - loss: 0.4558 - accuracy: 0.7391 - val_loss: 0.4120 - val_accuracy: 0.7907\n",
      "Epoch 143/250\n",
      "6/6 [==============================] - 0s 15ms/step - loss: 0.4716 - accuracy: 0.7551 - val_loss: 0.3979 - val_accuracy: 0.8140\n",
      "Epoch 144/250\n",
      "6/6 [==============================] - 0s 14ms/step - loss: 0.5264 - accuracy: 0.7173 - val_loss: 0.4185 - val_accuracy: 0.8837\n",
      "Epoch 145/250\n",
      "6/6 [==============================] - 0s 15ms/step - loss: 0.4659 - accuracy: 0.7663 - val_loss: 0.4024 - val_accuracy: 0.8605\n",
      "Epoch 146/250\n",
      "6/6 [==============================] - 0s 16ms/step - loss: 0.4368 - accuracy: 0.8455 - val_loss: 0.4130 - val_accuracy: 0.8605\n",
      "Epoch 147/250\n",
      "6/6 [==============================] - 0s 15ms/step - loss: 0.5043 - accuracy: 0.7009 - val_loss: 0.4078 - val_accuracy: 0.8372\n",
      "Epoch 148/250\n",
      "6/6 [==============================] - 0s 15ms/step - loss: 0.4344 - accuracy: 0.7914 - val_loss: 0.4094 - val_accuracy: 0.8140\n",
      "Epoch 149/250\n",
      "6/6 [==============================] - 0s 14ms/step - loss: 0.4591 - accuracy: 0.7489 - val_loss: 0.4166 - val_accuracy: 0.8372\n",
      "Epoch 150/250\n",
      "6/6 [==============================] - 0s 14ms/step - loss: 0.4021 - accuracy: 0.8312 - val_loss: 0.3943 - val_accuracy: 0.8372\n",
      "Epoch 151/250\n",
      "6/6 [==============================] - 0s 14ms/step - loss: 0.4966 - accuracy: 0.7894 - val_loss: 0.4739 - val_accuracy: 0.7674\n",
      "Epoch 152/250\n",
      "6/6 [==============================] - 0s 13ms/step - loss: 0.5326 - accuracy: 0.7270 - val_loss: 0.3934 - val_accuracy: 0.8372\n",
      "Epoch 153/250\n",
      "6/6 [==============================] - 0s 17ms/step - loss: 0.4927 - accuracy: 0.7913 - val_loss: 0.4189 - val_accuracy: 0.8372\n",
      "Epoch 154/250\n",
      "6/6 [==============================] - 0s 14ms/step - loss: 0.4546 - accuracy: 0.7844 - val_loss: 0.3696 - val_accuracy: 0.8372\n",
      "Epoch 155/250\n",
      "6/6 [==============================] - 0s 13ms/step - loss: 0.5146 - accuracy: 0.7528 - val_loss: 0.4037 - val_accuracy: 0.8372\n",
      "Epoch 156/250\n",
      "6/6 [==============================] - 0s 15ms/step - loss: 0.4566 - accuracy: 0.7666 - val_loss: 0.4050 - val_accuracy: 0.8605\n",
      "Epoch 157/250\n",
      "6/6 [==============================] - 0s 14ms/step - loss: 0.4277 - accuracy: 0.7551 - val_loss: 0.4322 - val_accuracy: 0.8372\n",
      "Epoch 158/250\n",
      "6/6 [==============================] - 0s 14ms/step - loss: 0.5060 - accuracy: 0.7351 - val_loss: 0.3880 - val_accuracy: 0.8605\n",
      "Epoch 159/250\n",
      "6/6 [==============================] - 0s 16ms/step - loss: 0.4952 - accuracy: 0.7366 - val_loss: 0.4454 - val_accuracy: 0.8372\n",
      "Epoch 160/250\n",
      "6/6 [==============================] - 0s 15ms/step - loss: 0.4643 - accuracy: 0.7774 - val_loss: 0.4079 - val_accuracy: 0.8372\n",
      "Epoch 161/250\n",
      "6/6 [==============================] - 0s 14ms/step - loss: 0.4624 - accuracy: 0.7684 - val_loss: 0.4089 - val_accuracy: 0.8372\n",
      "Epoch 162/250\n",
      "6/6 [==============================] - 0s 14ms/step - loss: 0.4162 - accuracy: 0.7790 - val_loss: 0.3812 - val_accuracy: 0.8605\n",
      "Epoch 163/250\n",
      "6/6 [==============================] - 0s 14ms/step - loss: 0.4460 - accuracy: 0.7760 - val_loss: 0.3856 - val_accuracy: 0.8372\n",
      "Epoch 164/250\n",
      "6/6 [==============================] - 0s 14ms/step - loss: 0.4511 - accuracy: 0.7264 - val_loss: 0.3974 - val_accuracy: 0.8372\n",
      "Epoch 165/250\n",
      "6/6 [==============================] - 0s 15ms/step - loss: 0.4305 - accuracy: 0.7775 - val_loss: 0.3544 - val_accuracy: 0.8372\n",
      "Epoch 166/250\n",
      "6/6 [==============================] - 0s 14ms/step - loss: 0.4593 - accuracy: 0.7865 - val_loss: 0.3537 - val_accuracy: 0.8372\n",
      "Epoch 167/250\n",
      "6/6 [==============================] - 0s 14ms/step - loss: 0.4225 - accuracy: 0.7883 - val_loss: 0.3649 - val_accuracy: 0.8372\n",
      "Epoch 168/250\n",
      "6/6 [==============================] - 0s 16ms/step - loss: 0.4734 - accuracy: 0.7884 - val_loss: 0.3662 - val_accuracy: 0.8372\n",
      "Epoch 169/250\n",
      "6/6 [==============================] - 0s 15ms/step - loss: 0.4171 - accuracy: 0.8186 - val_loss: 0.3767 - val_accuracy: 0.8605\n",
      "Epoch 170/250\n",
      "6/6 [==============================] - 0s 15ms/step - loss: 0.4952 - accuracy: 0.7675 - val_loss: 0.3770 - val_accuracy: 0.8372\n",
      "Epoch 171/250\n",
      "6/6 [==============================] - 0s 14ms/step - loss: 0.4292 - accuracy: 0.7794 - val_loss: 0.3778 - val_accuracy: 0.8372\n",
      "Epoch 172/250\n",
      "6/6 [==============================] - 0s 14ms/step - loss: 0.4373 - accuracy: 0.7663 - val_loss: 0.3787 - val_accuracy: 0.8140\n",
      "Epoch 173/250\n",
      "6/6 [==============================] - 0s 14ms/step - loss: 0.5081 - accuracy: 0.7378 - val_loss: 0.4140 - val_accuracy: 0.8605\n",
      "Epoch 174/250\n",
      "6/6 [==============================] - 0s 17ms/step - loss: 0.3897 - accuracy: 0.8253 - val_loss: 0.3709 - val_accuracy: 0.8372\n",
      "Epoch 175/250\n",
      "6/6 [==============================] - 0s 14ms/step - loss: 0.4276 - accuracy: 0.7985 - val_loss: 0.3790 - val_accuracy: 0.8605\n",
      "Epoch 176/250\n",
      "6/6 [==============================] - 0s 13ms/step - loss: 0.4804 - accuracy: 0.7521 - val_loss: 0.3843 - val_accuracy: 0.8605\n",
      "Epoch 177/250\n",
      "6/6 [==============================] - 0s 14ms/step - loss: 0.4331 - accuracy: 0.7439 - val_loss: 0.4591 - val_accuracy: 0.8372\n",
      "Epoch 178/250\n",
      "6/6 [==============================] - 0s 14ms/step - loss: 0.4039 - accuracy: 0.7896 - val_loss: 0.3918 - val_accuracy: 0.8372\n",
      "Epoch 179/250\n",
      "6/6 [==============================] - 0s 14ms/step - loss: 0.3884 - accuracy: 0.8157 - val_loss: 0.3724 - val_accuracy: 0.8605\n",
      "Epoch 180/250\n",
      "6/6 [==============================] - 0s 14ms/step - loss: 0.4153 - accuracy: 0.8047 - val_loss: 0.3981 - val_accuracy: 0.8837\n",
      "Epoch 181/250\n",
      "6/6 [==============================] - 0s 15ms/step - loss: 0.4976 - accuracy: 0.7376 - val_loss: 0.4041 - val_accuracy: 0.8605\n",
      "Epoch 182/250\n",
      "6/6 [==============================] - 0s 15ms/step - loss: 0.3734 - accuracy: 0.8261 - val_loss: 0.3994 - val_accuracy: 0.8837\n",
      "Epoch 183/250\n",
      "6/6 [==============================] - 0s 14ms/step - loss: 0.4500 - accuracy: 0.7648 - val_loss: 0.3495 - val_accuracy: 0.8372\n",
      "Epoch 184/250\n",
      "6/6 [==============================] - 0s 18ms/step - loss: 0.4909 - accuracy: 0.7654 - val_loss: 0.3946 - val_accuracy: 0.8837\n",
      "Epoch 185/250\n",
      "6/6 [==============================] - 0s 14ms/step - loss: 0.4131 - accuracy: 0.7931 - val_loss: 0.3831 - val_accuracy: 0.7907\n",
      "Epoch 186/250\n",
      "6/6 [==============================] - 0s 14ms/step - loss: 0.4474 - accuracy: 0.7712 - val_loss: 0.3824 - val_accuracy: 0.8605\n",
      "Epoch 187/250\n",
      "6/6 [==============================] - 0s 14ms/step - loss: 0.4246 - accuracy: 0.7398 - val_loss: 0.3812 - val_accuracy: 0.8372\n",
      "Epoch 188/250\n",
      "6/6 [==============================] - 0s 15ms/step - loss: 0.4076 - accuracy: 0.7772 - val_loss: 0.3746 - val_accuracy: 0.8605\n",
      "Epoch 189/250\n",
      "6/6 [==============================] - 0s 13ms/step - loss: 0.4493 - accuracy: 0.7470 - val_loss: 0.3978 - val_accuracy: 0.8837\n",
      "Epoch 190/250\n",
      "6/6 [==============================] - 0s 13ms/step - loss: 0.4222 - accuracy: 0.7789 - val_loss: 0.3782 - val_accuracy: 0.8605\n",
      "Epoch 191/250\n",
      "6/6 [==============================] - 0s 13ms/step - loss: 0.3800 - accuracy: 0.7715 - val_loss: 0.3775 - val_accuracy: 0.8605\n",
      "Epoch 192/250\n",
      "6/6 [==============================] - 0s 13ms/step - loss: 0.3883 - accuracy: 0.8022 - val_loss: 0.4050 - val_accuracy: 0.8605\n",
      "Epoch 193/250\n",
      "6/6 [==============================] - 0s 14ms/step - loss: 0.4003 - accuracy: 0.8033 - val_loss: 0.3559 - val_accuracy: 0.8605\n",
      "Epoch 194/250\n",
      "6/6 [==============================] - 0s 15ms/step - loss: 0.4228 - accuracy: 0.7871 - val_loss: 0.3681 - val_accuracy: 0.8372\n",
      "Epoch 195/250\n",
      "6/6 [==============================] - 0s 14ms/step - loss: 0.4259 - accuracy: 0.7903 - val_loss: 0.3747 - val_accuracy: 0.8372\n",
      "Epoch 196/250\n",
      "6/6 [==============================] - 0s 14ms/step - loss: 0.3807 - accuracy: 0.8051 - val_loss: 0.4348 - val_accuracy: 0.8837\n",
      "Epoch 197/250\n",
      "6/6 [==============================] - 0s 14ms/step - loss: 0.3900 - accuracy: 0.8282 - val_loss: 0.3584 - val_accuracy: 0.8605\n",
      "Epoch 198/250\n",
      "6/6 [==============================] - 0s 13ms/step - loss: 0.4119 - accuracy: 0.7710 - val_loss: 0.3753 - val_accuracy: 0.8605\n",
      "Epoch 199/250\n",
      "6/6 [==============================] - 0s 15ms/step - loss: 0.5044 - accuracy: 0.7287 - val_loss: 0.3635 - val_accuracy: 0.8372\n",
      "Epoch 200/250\n",
      "6/6 [==============================] - 0s 15ms/step - loss: 0.3637 - accuracy: 0.8608 - val_loss: 0.3522 - val_accuracy: 0.8372\n",
      "Epoch 201/250\n",
      "6/6 [==============================] - 0s 12ms/step - loss: 0.3987 - accuracy: 0.7779 - val_loss: 0.3959 - val_accuracy: 0.8372\n",
      "Epoch 202/250\n",
      "6/6 [==============================] - 0s 16ms/step - loss: 0.4418 - accuracy: 0.8078 - val_loss: 0.3668 - val_accuracy: 0.8605\n",
      "Epoch 203/250\n",
      "6/6 [==============================] - 0s 14ms/step - loss: 0.4114 - accuracy: 0.7996 - val_loss: 0.3679 - val_accuracy: 0.8372\n",
      "Epoch 204/250\n",
      "6/6 [==============================] - 0s 13ms/step - loss: 0.4370 - accuracy: 0.8072 - val_loss: 0.3550 - val_accuracy: 0.8372\n",
      "Epoch 205/250\n",
      "6/6 [==============================] - 0s 13ms/step - loss: 0.4322 - accuracy: 0.7754 - val_loss: 0.3518 - val_accuracy: 0.8605\n",
      "Epoch 206/250\n",
      "6/6 [==============================] - 0s 14ms/step - loss: 0.4296 - accuracy: 0.7767 - val_loss: 0.3674 - val_accuracy: 0.8372\n",
      "Epoch 207/250\n",
      "6/6 [==============================] - 0s 15ms/step - loss: 0.4741 - accuracy: 0.7295 - val_loss: 0.3562 - val_accuracy: 0.8372\n",
      "Epoch 208/250\n",
      "6/6 [==============================] - 0s 14ms/step - loss: 0.4117 - accuracy: 0.7895 - val_loss: 0.4108 - val_accuracy: 0.8140\n",
      "Epoch 209/250\n",
      "6/6 [==============================] - 0s 15ms/step - loss: 0.4023 - accuracy: 0.8173 - val_loss: 0.4295 - val_accuracy: 0.8140\n",
      "Epoch 210/250\n",
      "6/6 [==============================] - 0s 14ms/step - loss: 0.4114 - accuracy: 0.7774 - val_loss: 0.3796 - val_accuracy: 0.7674\n",
      "Epoch 211/250\n",
      "6/6 [==============================] - 0s 15ms/step - loss: 0.3841 - accuracy: 0.8023 - val_loss: 0.3952 - val_accuracy: 0.8837\n",
      "Epoch 212/250\n",
      "6/6 [==============================] - 0s 13ms/step - loss: 0.4823 - accuracy: 0.7192 - val_loss: 0.3505 - val_accuracy: 0.7907\n",
      "Epoch 213/250\n",
      "6/6 [==============================] - 0s 15ms/step - loss: 0.4519 - accuracy: 0.7739 - val_loss: 0.3358 - val_accuracy: 0.8372\n",
      "Epoch 214/250\n",
      "6/6 [==============================] - 0s 18ms/step - loss: 0.4214 - accuracy: 0.7489 - val_loss: 0.3951 - val_accuracy: 0.8605\n",
      "Epoch 215/250\n",
      "6/6 [==============================] - 0s 14ms/step - loss: 0.4183 - accuracy: 0.7638 - val_loss: 0.3478 - val_accuracy: 0.8837\n",
      "Epoch 216/250\n",
      "6/6 [==============================] - 0s 14ms/step - loss: 0.4216 - accuracy: 0.8170 - val_loss: 0.4092 - val_accuracy: 0.8605\n",
      "Epoch 217/250\n",
      "6/6 [==============================] - 0s 15ms/step - loss: 0.4013 - accuracy: 0.7804 - val_loss: 0.3343 - val_accuracy: 0.8605\n",
      "Epoch 218/250\n",
      "6/6 [==============================] - 0s 16ms/step - loss: 0.4181 - accuracy: 0.7853 - val_loss: 0.3635 - val_accuracy: 0.8372\n",
      "Epoch 219/250\n",
      "6/6 [==============================] - 0s 16ms/step - loss: 0.4433 - accuracy: 0.7819 - val_loss: 0.3839 - val_accuracy: 0.7674\n",
      "Epoch 220/250\n",
      "6/6 [==============================] - 0s 14ms/step - loss: 0.4348 - accuracy: 0.7615 - val_loss: 0.3918 - val_accuracy: 0.8837\n",
      "Epoch 221/250\n",
      "6/6 [==============================] - 0s 14ms/step - loss: 0.3847 - accuracy: 0.8374 - val_loss: 0.3670 - val_accuracy: 0.8372\n",
      "Epoch 222/250\n",
      "6/6 [==============================] - 0s 13ms/step - loss: 0.3660 - accuracy: 0.8476 - val_loss: 0.3933 - val_accuracy: 0.8837\n",
      "Epoch 223/250\n",
      "6/6 [==============================] - 0s 17ms/step - loss: 0.4029 - accuracy: 0.7924 - val_loss: 0.3518 - val_accuracy: 0.8605\n",
      "Epoch 224/250\n",
      "6/6 [==============================] - 0s 14ms/step - loss: 0.4465 - accuracy: 0.7541 - val_loss: 0.3899 - val_accuracy: 0.8372\n",
      "Epoch 225/250\n",
      "6/6 [==============================] - 0s 16ms/step - loss: 0.4577 - accuracy: 0.6984 - val_loss: 0.3573 - val_accuracy: 0.8837\n",
      "Epoch 226/250\n",
      "6/6 [==============================] - 0s 17ms/step - loss: 0.3930 - accuracy: 0.8173 - val_loss: 0.3520 - val_accuracy: 0.8605\n",
      "Epoch 227/250\n",
      "6/6 [==============================] - 0s 14ms/step - loss: 0.4196 - accuracy: 0.7994 - val_loss: 0.3505 - val_accuracy: 0.8372\n",
      "Epoch 228/250\n",
      "6/6 [==============================] - 0s 15ms/step - loss: 0.3287 - accuracy: 0.8680 - val_loss: 0.3646 - val_accuracy: 0.8605\n",
      "Epoch 229/250\n",
      "6/6 [==============================] - 0s 17ms/step - loss: 0.4094 - accuracy: 0.7931 - val_loss: 0.3466 - val_accuracy: 0.8372\n",
      "Epoch 230/250\n",
      "6/6 [==============================] - 0s 14ms/step - loss: 0.4506 - accuracy: 0.7923 - val_loss: 0.3401 - val_accuracy: 0.8605\n",
      "Epoch 231/250\n",
      "6/6 [==============================] - 0s 15ms/step - loss: 0.4261 - accuracy: 0.7779 - val_loss: 0.3481 - val_accuracy: 0.8372\n",
      "Epoch 232/250\n",
      "6/6 [==============================] - 0s 14ms/step - loss: 0.3899 - accuracy: 0.8147 - val_loss: 0.3453 - val_accuracy: 0.8372\n",
      "Epoch 233/250\n",
      "6/6 [==============================] - 0s 14ms/step - loss: 0.4302 - accuracy: 0.8159 - val_loss: 0.4362 - val_accuracy: 0.8140\n",
      "Epoch 234/250\n",
      "6/6 [==============================] - 0s 13ms/step - loss: 0.3873 - accuracy: 0.8266 - val_loss: 0.3831 - val_accuracy: 0.8140\n",
      "Epoch 235/250\n",
      "6/6 [==============================] - 0s 13ms/step - loss: 0.4084 - accuracy: 0.8125 - val_loss: 0.3833 - val_accuracy: 0.8372\n",
      "Epoch 236/250\n",
      "6/6 [==============================] - 0s 14ms/step - loss: 0.3483 - accuracy: 0.8365 - val_loss: 0.3834 - val_accuracy: 0.8605\n",
      "Epoch 237/250\n",
      "6/6 [==============================] - 0s 13ms/step - loss: 0.3922 - accuracy: 0.8334 - val_loss: 0.3723 - val_accuracy: 0.8605\n",
      "Epoch 238/250\n",
      "6/6 [==============================] - 0s 16ms/step - loss: 0.4284 - accuracy: 0.8206 - val_loss: 0.3749 - val_accuracy: 0.8140\n",
      "Epoch 239/250\n",
      "6/6 [==============================] - 0s 15ms/step - loss: 0.4292 - accuracy: 0.7610 - val_loss: 0.4944 - val_accuracy: 0.8140\n",
      "Epoch 240/250\n",
      "6/6 [==============================] - 0s 14ms/step - loss: 0.3915 - accuracy: 0.8085 - val_loss: 0.3849 - val_accuracy: 0.7907\n",
      "Epoch 241/250\n",
      "6/6 [==============================] - 0s 15ms/step - loss: 0.4013 - accuracy: 0.7938 - val_loss: 0.4158 - val_accuracy: 0.8140\n",
      "Epoch 242/250\n",
      "6/6 [==============================] - 0s 15ms/step - loss: 0.4224 - accuracy: 0.7975 - val_loss: 0.3540 - val_accuracy: 0.8605\n",
      "Epoch 243/250\n",
      "6/6 [==============================] - 0s 15ms/step - loss: 0.4114 - accuracy: 0.7856 - val_loss: 0.3598 - val_accuracy: 0.8605\n",
      "Epoch 244/250\n",
      "6/6 [==============================] - 0s 16ms/step - loss: 0.4289 - accuracy: 0.8399 - val_loss: 0.3295 - val_accuracy: 0.8372\n",
      "Epoch 245/250\n",
      "6/6 [==============================] - 0s 15ms/step - loss: 0.4146 - accuracy: 0.7976 - val_loss: 0.3592 - val_accuracy: 0.8837\n",
      "Epoch 246/250\n",
      "6/6 [==============================] - 0s 14ms/step - loss: 0.3539 - accuracy: 0.8345 - val_loss: 0.3659 - val_accuracy: 0.8605\n",
      "Epoch 247/250\n",
      "6/6 [==============================] - 0s 16ms/step - loss: 0.3705 - accuracy: 0.8196 - val_loss: 0.3464 - val_accuracy: 0.8140\n",
      "Epoch 248/250\n",
      "6/6 [==============================] - 0s 14ms/step - loss: 0.3915 - accuracy: 0.8045 - val_loss: 0.3656 - val_accuracy: 0.8605\n",
      "Epoch 249/250\n",
      "6/6 [==============================] - 0s 14ms/step - loss: 0.3944 - accuracy: 0.7913 - val_loss: 0.3448 - val_accuracy: 0.8372\n",
      "Epoch 250/250\n",
      "6/6 [==============================] - 0s 16ms/step - loss: 0.3983 - accuracy: 0.8104 - val_loss: 0.3867 - val_accuracy: 0.8605\n"
     ]
    }
   ],
   "source": [
    "# If not normalized\n",
    "model=nn_model()\n",
    "hist=model.fit(X_train.values,Y_train.values,validation_split=0.2,epochs=250)"
   ]
  },
  {
   "cell_type": "code",
   "execution_count": null,
   "metadata": {
    "colab": {
     "base_uri": "https://localhost:8080/",
     "height": 281
    },
    "executionInfo": {
     "elapsed": 1278,
     "status": "ok",
     "timestamp": 1618634133308,
     "user": {
      "displayName": "이승윤",
      "photoUrl": "",
      "userId": "18053956370916090566"
     },
     "user_tz": -540
    },
    "id": "7Ok1AciFNEEW",
    "outputId": "7d977980-b27d-4956-ee78-775e5f51304e"
   },
   "outputs": [
    {
     "data": {
      "image/png": "[encoded data removed]",
      "text/plain": [
       "<Figure size 432x288 with 2 Axes>"
      ]
     },
     "metadata": {
      "needs_background": "light",
      "tags": []
     },
     "output_type": "display_data"
    }
   ],
   "source": [
    "# Visualize loss and accuracy as learning progresses\n",
    "fig, loss_ax = plt.subplots()\n",
    "\n",
    "acc_ax = loss_ax.twinx()\n",
    "\n",
    "loss_ax.plot(hist.history['loss'], 'y', label='train loss')\n",
    "loss_ax.plot(hist.history['val_loss'], 'r', label='val loss')\n",
    "\n",
    "acc_ax.plot(hist.history['accuracy'], 'b', label='train acc')\n",
    "acc_ax.plot(hist.history['val_accuracy'], 'g', label='val acc')\n",
    "\n",
    "loss_ax.set_xlabel('epoch')\n",
    "loss_ax.set_ylabel('loss')\n",
    "acc_ax.set_ylabel('accuracy')\n",
    "\n",
    "loss_ax.legend(loc='upper left')\n",
    "acc_ax.legend(loc='lower left')\n",
    "\n",
    "plt.show()"
   ]
  },
  {
   "cell_type": "markdown",
   "metadata": {
    "id": "HsIBAXPmNd6r"
   },
   "source": [
    "+ This is the loss & accrual change table for the train & validation set as the epoch progresses.\n",
    "+ As epoch progresses, train, val loss converges gradually downward.\n",
    "+ At the same time, accuracy initially perturbates in a very large range and causes large errors, but after approximately 150 epochs, it typically converges to values above 0.8 indicating that the learning is progressing well."
   ]
  },
  {
   "cell_type": "code",
   "execution_count": null,
   "metadata": {
    "colab": {
     "base_uri": "https://localhost:8080/"
    },
    "executionInfo": {
     "elapsed": 585,
     "status": "ok",
     "timestamp": 1618634136405,
     "user": {
      "displayName": "이승윤",
      "photoUrl": "",
      "userId": "18053956370916090566"
     },
     "user_tz": -540
    },
    "id": "mS3xRqcKNVWc",
    "outputId": "44227d15-d49f-4c79-a21b-da55431e39b8"
   },
   "outputs": [
    {
     "name": "stdout",
     "output_type": "stream",
     "text": [
      "3/3 [==============================] - 0s 6ms/step - loss: 0.3699 - accuracy: 0.8132\n"
     ]
    },
    {
     "data": {
      "text/plain": [
       "0.8131868243217468"
      ]
     },
     "execution_count": 16,
     "metadata": {
      "tags": []
     },
     "output_type": "execute_result"
    }
   ],
   "source": [
    "# Test Set Evlautaion\n",
    "model.evaluate(X_test.values,Y_test.values)[1]"
   ]
  },
  {
   "cell_type": "code",
   "execution_count": null,
   "metadata": {
    "colab": {
     "base_uri": "https://localhost:8080/"
    },
    "executionInfo": {
     "elapsed": 2392,
     "status": "ok",
     "timestamp": 1618485436624,
     "user": {
      "displayName": "이승윤",
      "photoUrl": "",
      "userId": "18053956370916090566"
     },
     "user_tz": -540
    },
    "id": "qKvlH478O8Cd",
    "outputId": "65375d89-1088-4d4e-d4bf-793ea42d3e74"
   },
   "outputs": [
    {
     "name": "stdout",
     "output_type": "stream",
     "text": [
      "Epoch 1/20\n",
      "6/6 [==============================] - 1s 38ms/step - loss: 0.6991 - accuracy: 0.5703 - val_loss: 0.5581 - val_accuracy: 0.8372\n",
      "Epoch 2/20\n",
      "6/6 [==============================] - 0s 9ms/step - loss: 0.5860 - accuracy: 0.7258 - val_loss: 0.4813 - val_accuracy: 0.8605\n",
      "Epoch 3/20\n",
      "6/6 [==============================] - 0s 9ms/step - loss: 0.5081 - accuracy: 0.7778 - val_loss: 0.4137 - val_accuracy: 0.8372\n",
      "Epoch 4/20\n",
      "6/6 [==============================] - 0s 9ms/step - loss: 0.4994 - accuracy: 0.7637 - val_loss: 0.3707 - val_accuracy: 0.8605\n",
      "Epoch 5/20\n",
      "6/6 [==============================] - 0s 9ms/step - loss: 0.4653 - accuracy: 0.7745 - val_loss: 0.3371 - val_accuracy: 0.8605\n",
      "Epoch 6/20\n",
      "6/6 [==============================] - 0s 9ms/step - loss: 0.4448 - accuracy: 0.8025 - val_loss: 0.3188 - val_accuracy: 0.8605\n",
      "Epoch 7/20\n",
      "6/6 [==============================] - 0s 9ms/step - loss: 0.4033 - accuracy: 0.8295 - val_loss: 0.3098 - val_accuracy: 0.9302\n",
      "Epoch 8/20\n",
      "6/6 [==============================] - 0s 9ms/step - loss: 0.4226 - accuracy: 0.7937 - val_loss: 0.3056 - val_accuracy: 0.9535\n",
      "Epoch 9/20\n",
      "6/6 [==============================] - 0s 9ms/step - loss: 0.4360 - accuracy: 0.7903 - val_loss: 0.2886 - val_accuracy: 0.8837\n",
      "Epoch 10/20\n",
      "6/6 [==============================] - 0s 10ms/step - loss: 0.3772 - accuracy: 0.8178 - val_loss: 0.2892 - val_accuracy: 0.9302\n",
      "Epoch 11/20\n",
      "6/6 [==============================] - 0s 9ms/step - loss: 0.4373 - accuracy: 0.7917 - val_loss: 0.2989 - val_accuracy: 0.9535\n",
      "Epoch 12/20\n",
      "6/6 [==============================] - 0s 10ms/step - loss: 0.4135 - accuracy: 0.8283 - val_loss: 0.2851 - val_accuracy: 0.9535\n",
      "Epoch 13/20\n",
      "6/6 [==============================] - 0s 9ms/step - loss: 0.3564 - accuracy: 0.8517 - val_loss: 0.2856 - val_accuracy: 0.9302\n",
      "Epoch 14/20\n",
      "6/6 [==============================] - 0s 9ms/step - loss: 0.3989 - accuracy: 0.8324 - val_loss: 0.2764 - val_accuracy: 0.9070\n",
      "Epoch 15/20\n",
      "6/6 [==============================] - 0s 9ms/step - loss: 0.3640 - accuracy: 0.8274 - val_loss: 0.2701 - val_accuracy: 0.9070\n",
      "Epoch 16/20\n",
      "6/6 [==============================] - 0s 9ms/step - loss: 0.3665 - accuracy: 0.8115 - val_loss: 0.2656 - val_accuracy: 0.9070\n",
      "Epoch 17/20\n",
      "6/6 [==============================] - 0s 10ms/step - loss: 0.3917 - accuracy: 0.8210 - val_loss: 0.2688 - val_accuracy: 0.9535\n",
      "Epoch 18/20\n",
      "6/6 [==============================] - 0s 9ms/step - loss: 0.3409 - accuracy: 0.8651 - val_loss: 0.2674 - val_accuracy: 0.9535\n",
      "Epoch 19/20\n",
      "6/6 [==============================] - 0s 9ms/step - loss: 0.3639 - accuracy: 0.8440 - val_loss: 0.2612 - val_accuracy: 0.9302\n",
      "Epoch 20/20\n",
      "6/6 [==============================] - 0s 9ms/step - loss: 0.3836 - accuracy: 0.8318 - val_loss: 0.2595 - val_accuracy: 0.9535\n"
     ]
    }
   ],
   "source": [
    "# if normalized\n",
    "model=nn_model()\n",
    "hist=model.fit(X_train_s,Y_train_s,validation_split=0.2,epochs=20)"
   ]
  },
  {
   "cell_type": "code",
   "execution_count": null,
   "metadata": {
    "colab": {
     "base_uri": "https://localhost:8080/",
     "height": 279
    },
    "executionInfo": {
     "elapsed": 1434,
     "status": "ok",
     "timestamp": 1618485440619,
     "user": {
      "displayName": "이승윤",
      "photoUrl": "",
      "userId": "18053956370916090566"
     },
     "user_tz": -540
    },
    "id": "s6Nm_ORmP2U2",
    "outputId": "264caeb6-20e4-4239-85dc-bd5eb6844440"
   },
   "outputs": [
    {
     "data": {
      "image/png": "[encoded data removed]",
      "text/plain": [
       "<Figure size 432x288 with 2 Axes>"
      ]
     },
     "metadata": {
      "needs_background": "light",
      "tags": []
     },
     "output_type": "display_data"
    }
   ],
   "source": [
    "# Visualize loss and accuracy as learning progresses\n",
    "fig, loss_ax = plt.subplots()\n",
    "\n",
    "acc_ax = loss_ax.twinx()\n",
    "\n",
    "loss_ax.plot(hist.history['loss'], 'y', label='train loss')\n",
    "loss_ax.plot(hist.history['val_loss'], 'r', label='val loss')\n",
    "\n",
    "acc_ax.plot(hist.history['accuracy'], 'b', label='train acc')\n",
    "acc_ax.plot(hist.history['val_accuracy'], 'g', label='val acc')\n",
    "\n",
    "loss_ax.set_xlabel('epoch')\n",
    "loss_ax.set_ylabel('loss')\n",
    "acc_ax.set_ylabel('accuracy')\n",
    "\n",
    "loss_ax.legend(loc='upper left')\n",
    "acc_ax.legend(loc='lower left')\n",
    "\n",
    "plt.show()"
   ]
  },
  {
   "cell_type": "markdown",
   "metadata": {
    "id": "AzvW6F4_N2u1"
   },
   "source": [
    "+ The same structure as the NN Model without normalization, but when normalized, it quickly reaches a figure of 0.8 or higher in just a small number of epochs.\n",
    "+ We can see that the model is very sensitive to normalization.\n",
    "+ In addition, the validation acid is easily above 0.9 whereas the training acid is around 0.85, resulting in slight overfitting of the validation set."
   ]
  },
  {
   "cell_type": "code",
   "execution_count": null,
   "metadata": {
    "colab": {
     "base_uri": "https://localhost:8080/"
    },
    "executionInfo": {
     "elapsed": 633,
     "status": "ok",
     "timestamp": 1618485716902,
     "user": {
      "displayName": "이승윤",
      "photoUrl": "",
      "userId": "18053956370916090566"
     },
     "user_tz": -540
    },
    "id": "iJKdoiCXQA4v",
    "outputId": "8f86db39-5734-4613-f85f-b561092a05e8"
   },
   "outputs": [
    {
     "name": "stdout",
     "output_type": "stream",
     "text": [
      "3/3 [==============================] - 0s 3ms/step - loss: 0.3366 - accuracy: 0.8571\n"
     ]
    },
    {
     "data": {
      "text/plain": [
       "0.8571428656578064"
      ]
     },
     "execution_count": 124,
     "metadata": {
      "tags": []
     },
     "output_type": "execute_result"
    }
   ],
   "source": [
    "# Test Set Evlautaion\n",
    "model.evaluate(X_test_s,Y_test_s)[1]"
   ]
  },
  {
   "cell_type": "markdown",
   "metadata": {
    "id": "L4-hBEm6OTUS"
   },
   "source": [
    "## 4.Table of Results"
   ]
  },
  {
   "cell_type": "markdown",
   "metadata": {
    "id": "maXMRupLHdSI"
   },
   "source": [
    "![Table.jpg](Table.jpg)"
   ]
  },
  {
   "cell_type": "markdown",
   "metadata": {},
   "source": [
    "## 5. Why"
   ]
  },
  {
   "cell_type": "markdown",
   "metadata": {
    "id": "y1qM-cyPObwY"
   },
   "source": [
    "\n",
    "< Result >\n",
    "\n",
    "\n",
    "+ The results of each model can be seen at a glance with the table.\n",
    "\n",
    "+ Logistic Regression yields the highest accuracy of CV results when C=0.5 when not normalized. Although the test set accuracy drops by 0.02 at evaluation, the data shows that cross-validation results with k-fold CV are more reliable than with single test set accuracy due to a small number of data.\n",
    "\n",
    "+ Support Vector Machine changes the hyper-parameter called kernel. The corresponding model exhibits a fairly large deviation of accuracy depending on whether it is normalized or not. In case of non-normalization, the figure is lower than 0.5-0.6, but the performance during normalization is significantly improved to 0.8 levels. Therefore, hyper-parameter tuning was also performed in the normalized case, recording the highest CV results in linear among the various kernels.\n",
    "\n",
    "+ In the Neural Network, the model is constructed by loading three Dense layers and a Dropout layer to regulate overfitting. Basically, artificial neural networks are known to be sensitive as models that require regularization, and results show that regularization is also important. In the case of non-normalization, the validation accrual reaches 0.8 levels after about 200 epochs, but when normalization is performed, even the same model structure reaches high accuracy in 10 epochs in an instant. The number of epochs was set at an appropriate level because additional learning could lead to overfitting problems. As mentioned, the normalized model showed good learning performance, and the found problem was that the equilibrium of the validation set reached a level of about 0.9 or higher, but the train accuracy exceeded 0.85 levels, showing rather overfitting the validation set."
   ]
  }
 ],
 "metadata": {
  "colab": {
   "collapsed_sections": [],
   "name": "Heart attack_.ipynb",
   "provenance": [],
   "toc_visible": true
  },
  "kernelspec": {
   "display_name": "Python 3",
   "language": "python",
   "name": "python3"
  },
  "language_info": {
   "codemirror_mode": {
    "name": "ipython",
    "version": 3
   },
   "file_extension": ".py",
   "mimetype": "text/x-python",
   "name": "python",
   "nbconvert_exporter": "python",
   "pygments_lexer": "ipython3",
   "version": "3.8.5"
  },
  "toc": {
   "base_numbering": 1,
   "nav_menu": {},
   "number_sections": true,
   "sideBar": true,
   "skip_h1_title": false,
   "title_cell": "Table of Contents",
   "title_sidebar": "Contents",
   "toc_cell": false,
   "toc_position": {
    "height": "calc(100% - 180px)",
    "left": "10px",
    "top": "150px",
    "width": "265px"
   },
   "toc_section_display": true,
   "toc_window_display": true
  }
 },
 "nbformat": 4,
 "nbformat_minor": 1
}
