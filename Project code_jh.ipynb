{
 "cells": [
  {
   "cell_type": "markdown",
   "metadata": {},
   "source": [
    "# Heart Attack Analysis & Prediction Project\n",
    "+Author : Jaeha Huh"
   ]
  },
  {
   "cell_type": "markdown",
   "metadata": {
    "id": "IpvmJ9PWD9Aw"
   },
   "source": [
    "# 1. Introduction\n",
    "\n",
    "+ This is a data set for Heart Attack and each line represents patient information."
   ]
  },
  {
   "cell_type": "code",
   "execution_count": 1,
   "metadata": {
    "id": "VY2fhiBxC9zT",
    "scrolled": true
   },
   "outputs": [],
   "source": [
    "import pandas as pd\n",
    "import numpy as np\n",
    "import seaborn as sns\n",
    "import matplotlib.pyplot as plt   #graph output\n",
    "import matplotlib as mpl    #graph option\n",
    "import warnings\n",
    "warnings.filterwarnings('ignore')\n",
    "\n",
    "#Graph Visualization Options Settings Function\n",
    "%matplotlib inline\n",
    "\n",
    "#Avoid breaking when negative values appear on the graph\n",
    "mpl.rc('axes',unicode_minus=False)"
   ]
  },
  {
   "cell_type": "code",
   "execution_count": 2,
   "metadata": {
    "colab": {
     "base_uri": "https://localhost:8080/",
     "height": 419
    },
    "executionInfo": {
     "elapsed": 9379,
     "status": "ok",
     "timestamp": 1618633792406,
     "user": {
      "displayName": "이승윤",
      "photoUrl": "",
      "userId": "18053956370916090566"
     },
     "user_tz": -540
    },
    "id": "5rzCtzYwC9zb",
    "outputId": "96b6a24a-0cd4-4e0e-98fd-4265015934bb"
   },
   "outputs": [
    {
     "data": {
      "text/html": [
       "<div>\n",
       "<style scoped>\n",
       "    .dataframe tbody tr th:only-of-type {\n",
       "        vertical-align: middle;\n",
       "    }\n",
       "\n",
       "    .dataframe tbody tr th {\n",
       "        vertical-align: top;\n",
       "    }\n",
       "\n",
       "    .dataframe thead th {\n",
       "        text-align: right;\n",
       "    }\n",
       "</style>\n",
       "<table border=\"1\" class=\"dataframe\">\n",
       "  <thead>\n",
       "    <tr style=\"text-align: right;\">\n",
       "      <th></th>\n",
       "      <th>age</th>\n",
       "      <th>sex</th>\n",
       "      <th>cp</th>\n",
       "      <th>trtbps</th>\n",
       "      <th>chol</th>\n",
       "      <th>fbs</th>\n",
       "      <th>restecg</th>\n",
       "      <th>thalachh</th>\n",
       "      <th>exng</th>\n",
       "      <th>oldpeak</th>\n",
       "      <th>slp</th>\n",
       "      <th>caa</th>\n",
       "      <th>thall</th>\n",
       "      <th>output</th>\n",
       "    </tr>\n",
       "  </thead>\n",
       "  <tbody>\n",
       "    <tr>\n",
       "      <th>0</th>\n",
       "      <td>63</td>\n",
       "      <td>1</td>\n",
       "      <td>3</td>\n",
       "      <td>145</td>\n",
       "      <td>233</td>\n",
       "      <td>1</td>\n",
       "      <td>0</td>\n",
       "      <td>150</td>\n",
       "      <td>0</td>\n",
       "      <td>2.3</td>\n",
       "      <td>0</td>\n",
       "      <td>0</td>\n",
       "      <td>1</td>\n",
       "      <td>1</td>\n",
       "    </tr>\n",
       "    <tr>\n",
       "      <th>1</th>\n",
       "      <td>37</td>\n",
       "      <td>1</td>\n",
       "      <td>2</td>\n",
       "      <td>130</td>\n",
       "      <td>250</td>\n",
       "      <td>0</td>\n",
       "      <td>1</td>\n",
       "      <td>187</td>\n",
       "      <td>0</td>\n",
       "      <td>3.5</td>\n",
       "      <td>0</td>\n",
       "      <td>0</td>\n",
       "      <td>2</td>\n",
       "      <td>1</td>\n",
       "    </tr>\n",
       "    <tr>\n",
       "      <th>2</th>\n",
       "      <td>41</td>\n",
       "      <td>0</td>\n",
       "      <td>1</td>\n",
       "      <td>130</td>\n",
       "      <td>204</td>\n",
       "      <td>0</td>\n",
       "      <td>0</td>\n",
       "      <td>172</td>\n",
       "      <td>0</td>\n",
       "      <td>1.4</td>\n",
       "      <td>2</td>\n",
       "      <td>0</td>\n",
       "      <td>2</td>\n",
       "      <td>1</td>\n",
       "    </tr>\n",
       "    <tr>\n",
       "      <th>3</th>\n",
       "      <td>56</td>\n",
       "      <td>1</td>\n",
       "      <td>1</td>\n",
       "      <td>120</td>\n",
       "      <td>236</td>\n",
       "      <td>0</td>\n",
       "      <td>1</td>\n",
       "      <td>178</td>\n",
       "      <td>0</td>\n",
       "      <td>0.8</td>\n",
       "      <td>2</td>\n",
       "      <td>0</td>\n",
       "      <td>2</td>\n",
       "      <td>1</td>\n",
       "    </tr>\n",
       "    <tr>\n",
       "      <th>4</th>\n",
       "      <td>57</td>\n",
       "      <td>0</td>\n",
       "      <td>0</td>\n",
       "      <td>120</td>\n",
       "      <td>354</td>\n",
       "      <td>0</td>\n",
       "      <td>1</td>\n",
       "      <td>163</td>\n",
       "      <td>1</td>\n",
       "      <td>0.6</td>\n",
       "      <td>2</td>\n",
       "      <td>0</td>\n",
       "      <td>2</td>\n",
       "      <td>1</td>\n",
       "    </tr>\n",
       "    <tr>\n",
       "      <th>...</th>\n",
       "      <td>...</td>\n",
       "      <td>...</td>\n",
       "      <td>...</td>\n",
       "      <td>...</td>\n",
       "      <td>...</td>\n",
       "      <td>...</td>\n",
       "      <td>...</td>\n",
       "      <td>...</td>\n",
       "      <td>...</td>\n",
       "      <td>...</td>\n",
       "      <td>...</td>\n",
       "      <td>...</td>\n",
       "      <td>...</td>\n",
       "      <td>...</td>\n",
       "    </tr>\n",
       "    <tr>\n",
       "      <th>298</th>\n",
       "      <td>57</td>\n",
       "      <td>0</td>\n",
       "      <td>0</td>\n",
       "      <td>140</td>\n",
       "      <td>241</td>\n",
       "      <td>0</td>\n",
       "      <td>1</td>\n",
       "      <td>123</td>\n",
       "      <td>1</td>\n",
       "      <td>0.2</td>\n",
       "      <td>1</td>\n",
       "      <td>0</td>\n",
       "      <td>3</td>\n",
       "      <td>0</td>\n",
       "    </tr>\n",
       "    <tr>\n",
       "      <th>299</th>\n",
       "      <td>45</td>\n",
       "      <td>1</td>\n",
       "      <td>3</td>\n",
       "      <td>110</td>\n",
       "      <td>264</td>\n",
       "      <td>0</td>\n",
       "      <td>1</td>\n",
       "      <td>132</td>\n",
       "      <td>0</td>\n",
       "      <td>1.2</td>\n",
       "      <td>1</td>\n",
       "      <td>0</td>\n",
       "      <td>3</td>\n",
       "      <td>0</td>\n",
       "    </tr>\n",
       "    <tr>\n",
       "      <th>300</th>\n",
       "      <td>68</td>\n",
       "      <td>1</td>\n",
       "      <td>0</td>\n",
       "      <td>144</td>\n",
       "      <td>193</td>\n",
       "      <td>1</td>\n",
       "      <td>1</td>\n",
       "      <td>141</td>\n",
       "      <td>0</td>\n",
       "      <td>3.4</td>\n",
       "      <td>1</td>\n",
       "      <td>2</td>\n",
       "      <td>3</td>\n",
       "      <td>0</td>\n",
       "    </tr>\n",
       "    <tr>\n",
       "      <th>301</th>\n",
       "      <td>57</td>\n",
       "      <td>1</td>\n",
       "      <td>0</td>\n",
       "      <td>130</td>\n",
       "      <td>131</td>\n",
       "      <td>0</td>\n",
       "      <td>1</td>\n",
       "      <td>115</td>\n",
       "      <td>1</td>\n",
       "      <td>1.2</td>\n",
       "      <td>1</td>\n",
       "      <td>1</td>\n",
       "      <td>3</td>\n",
       "      <td>0</td>\n",
       "    </tr>\n",
       "    <tr>\n",
       "      <th>302</th>\n",
       "      <td>57</td>\n",
       "      <td>0</td>\n",
       "      <td>1</td>\n",
       "      <td>130</td>\n",
       "      <td>236</td>\n",
       "      <td>0</td>\n",
       "      <td>0</td>\n",
       "      <td>174</td>\n",
       "      <td>0</td>\n",
       "      <td>0.0</td>\n",
       "      <td>1</td>\n",
       "      <td>1</td>\n",
       "      <td>2</td>\n",
       "      <td>0</td>\n",
       "    </tr>\n",
       "  </tbody>\n",
       "</table>\n",
       "<p>303 rows × 14 columns</p>\n",
       "</div>"
      ],
      "text/plain": [
       "     age  sex  cp  trtbps  chol  fbs  restecg  thalachh  exng  oldpeak  slp  \\\n",
       "0     63    1   3     145   233    1        0       150     0      2.3    0   \n",
       "1     37    1   2     130   250    0        1       187     0      3.5    0   \n",
       "2     41    0   1     130   204    0        0       172     0      1.4    2   \n",
       "3     56    1   1     120   236    0        1       178     0      0.8    2   \n",
       "4     57    0   0     120   354    0        1       163     1      0.6    2   \n",
       "..   ...  ...  ..     ...   ...  ...      ...       ...   ...      ...  ...   \n",
       "298   57    0   0     140   241    0        1       123     1      0.2    1   \n",
       "299   45    1   3     110   264    0        1       132     0      1.2    1   \n",
       "300   68    1   0     144   193    1        1       141     0      3.4    1   \n",
       "301   57    1   0     130   131    0        1       115     1      1.2    1   \n",
       "302   57    0   1     130   236    0        0       174     0      0.0    1   \n",
       "\n",
       "     caa  thall  output  \n",
       "0      0      1       1  \n",
       "1      0      2       1  \n",
       "2      0      2       1  \n",
       "3      0      2       1  \n",
       "4      0      2       1  \n",
       "..   ...    ...     ...  \n",
       "298    0      3       0  \n",
       "299    0      3       0  \n",
       "300    2      3       0  \n",
       "301    1      3       0  \n",
       "302    1      2       0  \n",
       "\n",
       "[303 rows x 14 columns]"
      ]
     },
     "execution_count": 2,
     "metadata": {},
     "output_type": "execute_result"
    }
   ],
   "source": [
    "# Data Load\n",
    "data=pd.read_csv('heart.csv')\n",
    "data"
   ]
  },
  {
   "cell_type": "code",
   "execution_count": 3,
   "metadata": {
    "colab": {
     "base_uri": "https://localhost:8080/",
     "height": 609
    },
    "executionInfo": {
     "elapsed": 701,
     "status": "ok",
     "timestamp": 1618482462377,
     "user": {
      "displayName": "이승윤",
      "photoUrl": "",
      "userId": "18053956370916090566"
     },
     "user_tz": -540
    },
    "id": "f_0c52Z7C9zd",
    "outputId": "f4713e33-981a-40f8-e64e-36dfa161caf6"
   },
   "outputs": [
    {
     "name": "stdout",
     "output_type": "stream",
     "text": [
      "Data shape: (303, 14)\n",
      "___________________________\n",
      "Data types:\n",
      " int64      13\n",
      "float64     1\n",
      "Name: Types, dtype: int64\n",
      "___________________________\n"
     ]
    },
    {
     "data": {
      "text/html": [
       "<div>\n",
       "<style scoped>\n",
       "    .dataframe tbody tr th:only-of-type {\n",
       "        vertical-align: middle;\n",
       "    }\n",
       "\n",
       "    .dataframe tbody tr th {\n",
       "        vertical-align: top;\n",
       "    }\n",
       "\n",
       "    .dataframe thead th {\n",
       "        text-align: right;\n",
       "    }\n",
       "</style>\n",
       "<table border=\"1\" class=\"dataframe\">\n",
       "  <thead>\n",
       "    <tr style=\"text-align: right;\">\n",
       "      <th></th>\n",
       "      <th>Types</th>\n",
       "      <th>Counts</th>\n",
       "      <th>Distincts</th>\n",
       "      <th>Nulls</th>\n",
       "      <th>Missing_ratio</th>\n",
       "      <th>Uniques</th>\n",
       "    </tr>\n",
       "  </thead>\n",
       "  <tbody>\n",
       "    <tr>\n",
       "      <th>age</th>\n",
       "      <td>int64</td>\n",
       "      <td>303</td>\n",
       "      <td>41</td>\n",
       "      <td>0</td>\n",
       "      <td>0.0</td>\n",
       "      <td>[63, 37, 41, 56, 57, 44, 52, 54, 48, 49, 64, 5...</td>\n",
       "    </tr>\n",
       "    <tr>\n",
       "      <th>caa</th>\n",
       "      <td>int64</td>\n",
       "      <td>303</td>\n",
       "      <td>5</td>\n",
       "      <td>0</td>\n",
       "      <td>0.0</td>\n",
       "      <td>[0, 2, 1, 3, 4]</td>\n",
       "    </tr>\n",
       "    <tr>\n",
       "      <th>chol</th>\n",
       "      <td>int64</td>\n",
       "      <td>303</td>\n",
       "      <td>152</td>\n",
       "      <td>0</td>\n",
       "      <td>0.0</td>\n",
       "      <td>[233, 250, 204, 236, 354, 192, 294, 263, 199, ...</td>\n",
       "    </tr>\n",
       "    <tr>\n",
       "      <th>cp</th>\n",
       "      <td>int64</td>\n",
       "      <td>303</td>\n",
       "      <td>4</td>\n",
       "      <td>0</td>\n",
       "      <td>0.0</td>\n",
       "      <td>[3, 2, 1, 0]</td>\n",
       "    </tr>\n",
       "    <tr>\n",
       "      <th>exng</th>\n",
       "      <td>int64</td>\n",
       "      <td>303</td>\n",
       "      <td>2</td>\n",
       "      <td>0</td>\n",
       "      <td>0.0</td>\n",
       "      <td>[0, 1]</td>\n",
       "    </tr>\n",
       "    <tr>\n",
       "      <th>fbs</th>\n",
       "      <td>int64</td>\n",
       "      <td>303</td>\n",
       "      <td>2</td>\n",
       "      <td>0</td>\n",
       "      <td>0.0</td>\n",
       "      <td>[1, 0]</td>\n",
       "    </tr>\n",
       "    <tr>\n",
       "      <th>oldpeak</th>\n",
       "      <td>float64</td>\n",
       "      <td>303</td>\n",
       "      <td>40</td>\n",
       "      <td>0</td>\n",
       "      <td>0.0</td>\n",
       "      <td>[2.3, 3.5, 1.4, 0.8, 0.6, 0.4, 1.3, 0.0, 0.5, ...</td>\n",
       "    </tr>\n",
       "    <tr>\n",
       "      <th>output</th>\n",
       "      <td>int64</td>\n",
       "      <td>303</td>\n",
       "      <td>2</td>\n",
       "      <td>0</td>\n",
       "      <td>0.0</td>\n",
       "      <td>[1, 0]</td>\n",
       "    </tr>\n",
       "    <tr>\n",
       "      <th>restecg</th>\n",
       "      <td>int64</td>\n",
       "      <td>303</td>\n",
       "      <td>3</td>\n",
       "      <td>0</td>\n",
       "      <td>0.0</td>\n",
       "      <td>[0, 1, 2]</td>\n",
       "    </tr>\n",
       "    <tr>\n",
       "      <th>sex</th>\n",
       "      <td>int64</td>\n",
       "      <td>303</td>\n",
       "      <td>2</td>\n",
       "      <td>0</td>\n",
       "      <td>0.0</td>\n",
       "      <td>[1, 0]</td>\n",
       "    </tr>\n",
       "    <tr>\n",
       "      <th>slp</th>\n",
       "      <td>int64</td>\n",
       "      <td>303</td>\n",
       "      <td>3</td>\n",
       "      <td>0</td>\n",
       "      <td>0.0</td>\n",
       "      <td>[0, 2, 1]</td>\n",
       "    </tr>\n",
       "    <tr>\n",
       "      <th>thalachh</th>\n",
       "      <td>int64</td>\n",
       "      <td>303</td>\n",
       "      <td>91</td>\n",
       "      <td>0</td>\n",
       "      <td>0.0</td>\n",
       "      <td>[150, 187, 172, 178, 163, 148, 153, 173, 162, ...</td>\n",
       "    </tr>\n",
       "    <tr>\n",
       "      <th>thall</th>\n",
       "      <td>int64</td>\n",
       "      <td>303</td>\n",
       "      <td>4</td>\n",
       "      <td>0</td>\n",
       "      <td>0.0</td>\n",
       "      <td>[1, 2, 3, 0]</td>\n",
       "    </tr>\n",
       "    <tr>\n",
       "      <th>trtbps</th>\n",
       "      <td>int64</td>\n",
       "      <td>303</td>\n",
       "      <td>49</td>\n",
       "      <td>0</td>\n",
       "      <td>0.0</td>\n",
       "      <td>[145, 130, 120, 140, 172, 150, 110, 135, 160, ...</td>\n",
       "    </tr>\n",
       "  </tbody>\n",
       "</table>\n",
       "</div>"
      ],
      "text/plain": [
       "            Types  Counts  Distincts  Nulls  Missing_ratio  \\\n",
       "age         int64     303         41      0            0.0   \n",
       "caa         int64     303          5      0            0.0   \n",
       "chol        int64     303        152      0            0.0   \n",
       "cp          int64     303          4      0            0.0   \n",
       "exng        int64     303          2      0            0.0   \n",
       "fbs         int64     303          2      0            0.0   \n",
       "oldpeak   float64     303         40      0            0.0   \n",
       "output      int64     303          2      0            0.0   \n",
       "restecg     int64     303          3      0            0.0   \n",
       "sex         int64     303          2      0            0.0   \n",
       "slp         int64     303          3      0            0.0   \n",
       "thalachh    int64     303         91      0            0.0   \n",
       "thall       int64     303          4      0            0.0   \n",
       "trtbps      int64     303         49      0            0.0   \n",
       "\n",
       "                                                    Uniques  \n",
       "age       [63, 37, 41, 56, 57, 44, 52, 54, 48, 49, 64, 5...  \n",
       "caa                                         [0, 2, 1, 3, 4]  \n",
       "chol      [233, 250, 204, 236, 354, 192, 294, 263, 199, ...  \n",
       "cp                                             [3, 2, 1, 0]  \n",
       "exng                                                 [0, 1]  \n",
       "fbs                                                  [1, 0]  \n",
       "oldpeak   [2.3, 3.5, 1.4, 0.8, 0.6, 0.4, 1.3, 0.0, 0.5, ...  \n",
       "output                                               [1, 0]  \n",
       "restecg                                           [0, 1, 2]  \n",
       "sex                                                  [1, 0]  \n",
       "slp                                               [0, 2, 1]  \n",
       "thalachh  [150, 187, 172, 178, 163, 148, 153, 173, 162, ...  \n",
       "thall                                          [1, 2, 3, 0]  \n",
       "trtbps    [145, 130, 120, 140, 172, 150, 110, 135, 160, ...  "
      ]
     },
     "execution_count": 3,
     "metadata": {},
     "output_type": "execute_result"
    }
   ],
   "source": [
    "# General information such as observations, column types, and missing rates in the data\n",
    "def str_summary(df, pred=None): \n",
    "  obs = df.shape[0]\n",
    "  types = df.dtypes\n",
    "  counts = df.apply(lambda x: x.count())\n",
    "  uniques = df.apply(lambda x: [x.unique()]).T.squeeze()\n",
    "  nulls = df.apply(lambda x: x.isnull().sum())\n",
    "  distincts = df.apply(lambda x: x.unique().shape[0])\n",
    "  missing_ratio = (df.isnull().sum()/ obs) * 100\n",
    "  \n",
    "  print('Data shape:', df.shape)\n",
    "    \n",
    "  cols = ['Types', 'Counts', 'Distincts', 'Nulls', 'Missing_ratio', 'Uniques']\n",
    "  structure = pd.concat([types, counts, distincts, nulls, missing_ratio, uniques], axis = 1, sort=True)\n",
    "\n",
    "  structure.columns = cols\n",
    "  \n",
    "  print('___________________________\\nData types:\\n',structure.Types.value_counts())\n",
    "  print('___________________________')\n",
    "\n",
    "  return structure\n",
    "\n",
    "data_summary = str_summary(data)\n",
    "data_summary"
   ]
  },
  {
   "cell_type": "markdown",
   "metadata": {
    "id": "KHM78X77FI_x"
   },
   "source": [
    "# 2. Analysis"
   ]
  },
  {
   "cell_type": "code",
   "execution_count": 4,
   "metadata": {
    "colab": {
     "base_uri": "https://localhost:8080/",
     "height": 297
    },
    "executionInfo": {
     "elapsed": 705,
     "status": "ok",
     "timestamp": 1618482463381,
     "user": {
      "displayName": "이승윤",
      "photoUrl": "",
      "userId": "18053956370916090566"
     },
     "user_tz": -540
    },
    "id": "IW4uu7saLQhV",
    "outputId": "29b66ba8-2672-40fb-cc4b-df2c43bd62a5"
   },
   "outputs": [
    {
     "data": {
      "text/plain": [
       "<AxesSubplot:xlabel='output', ylabel='count'>"
      ]
     },
     "execution_count": 4,
     "metadata": {},
     "output_type": "execute_result"
    },
    {
     "data": {
      "image/png": "[encoded data removed]",
      "text/plain": [
       "<Figure size 432x288 with 1 Axes>"
      ]
     },
     "metadata": {
      "needs_background": "light"
     },
     "output_type": "display_data"
    }
   ],
   "source": [
    "# Identifies class distribution of dependent variable output\n",
    "# The ratio of 1 is a little higher.\n",
    "sns.countplot(data=data, x='output')"
   ]
  },
  {
   "cell_type": "code",
   "execution_count": 5,
   "metadata": {
    "colab": {
     "base_uri": "https://localhost:8080/",
     "height": 496
    },
    "executionInfo": {
     "elapsed": 1290,
     "status": "ok",
     "timestamp": 1618482464608,
     "user": {
      "displayName": "이승윤",
      "photoUrl": "",
      "userId": "18053956370916090566"
     },
     "user_tz": -540
    },
    "id": "atSTU3CQC9zg",
    "outputId": "19b45a1c-585a-4eea-a45a-1bbac2e66e7e"
   },
   "outputs": [
    {
     "data": {
      "text/plain": [
       "[Text(0.5, 0, 'age'),\n",
       " Text(1.5, 0, 'chol'),\n",
       " Text(2.5, 0, 'oldpeak'),\n",
       " Text(3.5, 0, 'thalachh'),\n",
       " Text(4.5, 0, 'trtbps')]"
      ]
     },
     "execution_count": 5,
     "metadata": {},
     "output_type": "execute_result"
    },
    {
     "data": {
      "image/png": "[encoded data removed]",
      "text/plain": [
       "<Figure size 720x432 with 2 Axes>"
      ]
     },
     "metadata": {
      "needs_background": "light"
     },
     "output_type": "display_data"
    }
   ],
   "source": [
    "# Proceed correlation visualization by continuous variables\n",
    "corr = data[['age','chol', 'oldpeak', 'thalachh', 'trtbps']].corr()\n",
    "plt.figure(figsize=(10,6))\n",
    "ax = sns.heatmap(\n",
    "    corr, \n",
    "    vmin=-1, vmax=1, center=0,\n",
    "    cmap=sns.diverging_palette(20, 220, n=200),\n",
    "    square=True\n",
    ")\n",
    "ax.set_xticklabels(\n",
    "    ax.get_xticklabels(),\n",
    "    rotation=45,\n",
    "    horizontalalignment='right'\n",
    ")"
   ]
  },
  {
   "cell_type": "code",
   "execution_count": 6,
   "metadata": {
    "colab": {
     "base_uri": "https://localhost:8080/",
     "height": 406
    },
    "executionInfo": {
     "elapsed": 1913,
     "status": "ok",
     "timestamp": 1618482467046,
     "user": {
      "displayName": "이승윤",
      "photoUrl": "",
      "userId": "18053956370916090566"
     },
     "user_tz": -540
    },
    "id": "84qjx6Y-IxVO",
    "outputId": "af7e3373-874d-4f09-9ec2-1e98b18b2fa6"
   },
   "outputs": [
    {
     "data": {
      "text/plain": [
       "<AxesSubplot:xlabel='output', ylabel='trtbps'>"
      ]
     },
     "execution_count": 6,
     "metadata": {},
     "output_type": "execute_result"
    },
    {
     "data": {
      "image/png": "[encoded data removed]",
      "text/plain": [
       "<Figure size 864x432 with 2 Axes>"
      ]
     },
     "metadata": {
      "needs_background": "light"
     },
     "output_type": "display_data"
    }
   ],
   "source": [
    "figure, (ax1,ax2) = plt.subplots(nrows=1, ncols=2)\n",
    "figure.set_size_inches(12,6)\n",
    "\n",
    "sns.boxplot(x='output', y='age', data=data, palette='Set3',showmeans=True,ax=ax1) # boxplot of output and age\n",
    "sns.boxplot(x='output', y='trtbps', data=data, palette='Set2',showmeans=True,ax=ax2) # boxplot of output and trtbps"
   ]
  },
  {
   "cell_type": "code",
   "execution_count": 7,
   "metadata": {
    "colab": {
     "base_uri": "https://localhost:8080/",
     "height": 515
    },
    "executionInfo": {
     "elapsed": 1440,
     "status": "ok",
     "timestamp": 1618482467814,
     "user": {
      "displayName": "이승윤",
      "photoUrl": "",
      "userId": "18053956370916090566"
     },
     "user_tz": -540
    },
    "id": "mLwYWoSGC9zh",
    "outputId": "34079642-7d54-4b03-8566-291d41b10503"
   },
   "outputs": [
    {
     "data": {
      "text/plain": [
       "<matplotlib.legend.Legend at 0x235663ea3d0>"
      ]
     },
     "execution_count": 7,
     "metadata": {},
     "output_type": "execute_result"
    },
    {
     "data": {
      "image/png": "[encoded data removed]",
      "text/plain": [
       "<Figure size 1080x576 with 1 Axes>"
      ]
     },
     "metadata": {
      "needs_background": "light"
     },
     "output_type": "display_data"
    }
   ],
   "source": [
    "# distplot of output and thalachh\n",
    "plt.figure(figsize=(15,8))\n",
    "a=data['output'].unique()\n",
    "for i, name in enumerate(a):\n",
    "    sns.kdeplot(data[data['output'] == name]['thalachh'], label=name,legend=True,shade=True)\n",
    "plt.legend()"
   ]
  },
  {
   "cell_type": "code",
   "execution_count": 8,
   "metadata": {
    "colab": {
     "base_uri": "https://localhost:8080/",
     "height": 515
    },
    "executionInfo": {
     "elapsed": 1240,
     "status": "ok",
     "timestamp": 1618482468742,
     "user": {
      "displayName": "이승윤",
      "photoUrl": "",
      "userId": "18053956370916090566"
     },
     "user_tz": -540
    },
    "id": "mDx_pZaxC9zh",
    "outputId": "df1805df-ece4-4bc0-a04e-1cb294ae19db"
   },
   "outputs": [
    {
     "data": {
      "text/plain": [
       "<matplotlib.legend.Legend at 0x23566489b50>"
      ]
     },
     "execution_count": 8,
     "metadata": {},
     "output_type": "execute_result"
    },
    {
     "data": {
      "image/png": "[encoded data removed]",
      "text/plain": [
       "<Figure size 1080x576 with 1 Axes>"
      ]
     },
     "metadata": {
      "needs_background": "light"
     },
     "output_type": "display_data"
    }
   ],
   "source": [
    "# distplot of output and oldpeak\n",
    "plt.figure(figsize=(15,8))\n",
    "for i, name in enumerate(a):\n",
    "    sns.kdeplot(data[data['output'] == name]['oldpeak'], label=name,legend=True,shade=True)\n",
    "plt.legend()"
   ]
  },
  {
   "cell_type": "markdown",
   "metadata": {
    "id": "2ptDxgIPC9zi"
   },
   "source": [
    "# 3.Supervised analysis"
   ]
  },
  {
   "cell_type": "markdown",
   "metadata": {
    "id": "cbIX3Wq1Finh"
   },
   "source": [
    "< Modeling >\n",
    "+ Modeling steps use Logistic Regression, SVM, Neural Networks\n",
    "\n",
    "< Comment about module>\n",
    "+ we use StrandardScaler for normalization.\n",
    "+ Also, we use Dropout for Neural Network. Dropout is a method of preventing some units of a network from working. In short, it is a way to prevent some units in the hidden layer from being overfitted by disabling them.\n",
    "+ (The dropout module requires the keras library to be installed.)"
   ]
  },
  {
   "cell_type": "code",
   "execution_count": 9,
   "metadata": {
    "id": "QudMipAnC9zi"
   },
   "outputs": [],
   "source": [
    "from keras.models import Sequential\n",
    "from keras.layers import Dense, Dropout\n",
    "\n",
    "from sklearn.linear_model import LogisticRegression\n",
    "from sklearn.svm import SVC\n",
    "\n",
    "from sklearn.preprocessing import StandardScaler\n",
    "from sklearn.metrics import accuracy_score, f1_score, confusion_matrix, classification_report \n",
    "from sklearn.model_selection import KFold\n",
    "from sklearn.model_selection import train_test_split\n",
    "from sklearn.model_selection import GridSearchCV"
   ]
  },
  {
   "cell_type": "code",
   "execution_count": 10,
   "metadata": {
    "id": "Go4l9ua7MIgk"
   },
   "outputs": [],
   "source": [
    "# Declaration ofindependent and dependent variables\n",
    "X=data.drop('output',axis=1)\n",
    "Y=data['output']"
   ]
  },
  {
   "cell_type": "code",
   "execution_count": 11,
   "metadata": {
    "colab": {
     "base_uri": "https://localhost:8080/"
    },
    "executionInfo": {
     "elapsed": 2825,
     "status": "ok",
     "timestamp": 1618633797212,
     "user": {
      "displayName": "이승윤",
      "photoUrl": "",
      "userId": "18053956370916090566"
     },
     "user_tz": -540
    },
    "id": "zsaDimuYMAE9",
    "outputId": "3f37f477-adfd-4d25-fb22-df554d2c7072"
   },
   "outputs": [
    {
     "name": "stdout",
     "output_type": "stream",
     "text": [
      "Train set: (212, 13) , (212,)\n",
      "Test set: (91, 13) , (91,)\n"
     ]
    }
   ],
   "source": [
    "# Split Train Test Set \n",
    "X_train,X_test,Y_train,Y_test=train_test_split(X,Y,test_size=0.3,random_state=101)\n",
    "\n",
    "print('Train set:',X_train.shape,',',Y_train.shape)\n",
    "print('Test set:',X_test.shape,',',Y_test.shape)"
   ]
  },
  {
   "cell_type": "code",
   "execution_count": 12,
   "metadata": {
    "id": "egOfVidYNLyU"
   },
   "outputs": [],
   "source": [
    "# A function that normalizes a continuous variable to recreate a set of independent variables\n",
    "def st_scale():\n",
    "  st=StandardScaler()\n",
    "  st.fit(X[['age','chol', 'oldpeak', 'thalachh', 'trtbps']])\n",
    "  X_scale=st.transform(X[['age','chol', 'oldpeak', 'thalachh', 'trtbps']])\n",
    "\n",
    "  temp=np.array(X.drop(['age','chol', 'oldpeak', 'thalachh', 'trtbps'],axis=1))\n",
    "  X_scale=np.concatenate((temp, X_scale), axis=1)\n",
    "\n",
    "  return X_scale"
   ]
  },
  {
   "cell_type": "code",
   "execution_count": 13,
   "metadata": {
    "id": "pMKk2y7HOMz8"
   },
   "outputs": [],
   "source": [
    "# Declaration of Normalized Independent and Dependent Variables\n",
    "X_scale=st_scale()\n",
    "Y_=np.array(Y)\n",
    "\n",
    "X_train_s,X_test_s,Y_train_s,Y_test_s=train_test_split(X_scale,Y_,test_size=0.3,random_state=101)"
   ]
  },
  {
   "cell_type": "code",
   "execution_count": 14,
   "metadata": {
    "id": "D31kPX48EyMR"
   },
   "outputs": [],
   "source": [
    "# K-fold Cross Validation function\n",
    "def k_cv(x,y,model,n_split):\n",
    "  kfold=KFold(n_splits=n_split,random_state=101)\n",
    "  cv_score=[]\n",
    "\n",
    "  x=x\n",
    "  y=y\n",
    "  model=model\n",
    "\n",
    "  n_iter=0\n",
    "  for train_index, test_index in kfold.split(x):\n",
    "    x_train, x_test=x[train_index],x[test_index]\n",
    "    y_train, y_test=y[train_index],y[test_index]\n",
    "    \n",
    "    model.fit(x_train,y_train)\n",
    "    y_pred_train=model.predict(x_train)\n",
    "    y_pred_test=model.predict(x_test)\n",
    "    \n",
    "    n_iter=n_iter+1\n",
    "    \n",
    "    acc_train=accuracy_score(y_train,y_pred_train)\n",
    "    acc_test=accuracy_score(y_test,y_pred_test)\n",
    "    cv_score.append(acc_test)\n",
    "    \n",
    "    print(\"Modeling \",n_iter,\"st\")\n",
    "    print('train set accuracy_score: ',acc_train)\n",
    "    print('test set accuracy_score: ',acc_test)\n",
    "    print(\"-----------------------------------------\")\n",
    "    \n",
    "  print('Mean test set accuracy_score: ',np.mean(cv_score))\n"
   ]
  },
  {
   "cell_type": "markdown",
   "metadata": {
    "id": "u5myU5s-LtPm"
   },
   "source": [
    "## Logistic Regression\n"
   ]
  },
  {
   "cell_type": "code",
   "execution_count": 15,
   "metadata": {
    "colab": {
     "base_uri": "https://localhost:8080/"
    },
    "executionInfo": {
     "elapsed": 594,
     "status": "ok",
     "timestamp": 1618484222544,
     "user": {
      "displayName": "이승윤",
      "photoUrl": "",
      "userId": "18053956370916090566"
     },
     "user_tz": -540
    },
    "id": "SPxGjMErEtOB",
    "outputId": "1cd28f40-f623-4dc5-c542-e25401744c7d"
   },
   "outputs": [
    {
     "name": "stdout",
     "output_type": "stream",
     "text": [
      "Modeling  1 st\n",
      "train set accuracy_score:  0.8698224852071006\n",
      "test set accuracy_score:  0.7674418604651163\n",
      "-----------------------------------------\n",
      "Modeling  2 st\n",
      "train set accuracy_score:  0.8402366863905325\n",
      "test set accuracy_score:  0.813953488372093\n",
      "-----------------------------------------\n",
      "Modeling  3 st\n",
      "train set accuracy_score:  0.8705882352941177\n",
      "test set accuracy_score:  0.8333333333333334\n",
      "-----------------------------------------\n",
      "Modeling  4 st\n",
      "train set accuracy_score:  0.8705882352941177\n",
      "test set accuracy_score:  0.7380952380952381\n",
      "-----------------------------------------\n",
      "Modeling  5 st\n",
      "train set accuracy_score:  0.8294117647058824\n",
      "test set accuracy_score:  0.9761904761904762\n",
      "-----------------------------------------\n",
      "Mean test set accuracy_score:  0.8258028792912514\n"
     ]
    }
   ],
   "source": [
    "# CV results if not normalized\n",
    "k_cv(X_train.values,Y_train.values,LogisticRegression(),n_split=5)"
   ]
  },
  {
   "cell_type": "code",
   "execution_count": 16,
   "metadata": {
    "colab": {
     "base_uri": "https://localhost:8080/"
    },
    "executionInfo": {
     "elapsed": 810,
     "status": "ok",
     "timestamp": 1618484224209,
     "user": {
      "displayName": "이승윤",
      "photoUrl": "",
      "userId": "18053956370916090566"
     },
     "user_tz": -540
    },
    "id": "S0mGqvSbGbwb",
    "outputId": "29fb388d-7d8e-4059-99a3-a171b19656dc"
   },
   "outputs": [
    {
     "name": "stdout",
     "output_type": "stream",
     "text": [
      "Accuracy:  0.8791208791208791 \n",
      "\n",
      "              precision    recall  f1-score   support\n",
      "\n",
      "           0       0.95      0.80      0.86        44\n",
      "           1       0.83      0.96      0.89        47\n",
      "\n",
      "    accuracy                           0.88        91\n",
      "   macro avg       0.89      0.88      0.88        91\n",
      "weighted avg       0.89      0.88      0.88        91\n",
      "\n"
     ]
    }
   ],
   "source": [
    "# test set evaluation if not normalized\n",
    "lr=LogisticRegression()\n",
    "lr.fit(X_train,Y_train)\n",
    "pred=lr.predict(X_test)\n",
    "\n",
    "print('Accuracy: ',accuracy_score(Y_test,pred),'\\n')\n",
    "print(classification_report(Y_test,pred,labels=[0,1]))"
   ]
  },
  {
   "cell_type": "code",
   "execution_count": 17,
   "metadata": {
    "colab": {
     "base_uri": "https://localhost:8080/"
    },
    "executionInfo": {
     "elapsed": 751,
     "status": "ok",
     "timestamp": 1618484225368,
     "user": {
      "displayName": "이승윤",
      "photoUrl": "",
      "userId": "18053956370916090566"
     },
     "user_tz": -540
    },
    "id": "B8a-tyqqFYDq",
    "outputId": "5a6d4aa1-b933-456a-e9d7-98d4bdc299ec"
   },
   "outputs": [
    {
     "name": "stdout",
     "output_type": "stream",
     "text": [
      "Modeling  1 st\n",
      "train set accuracy_score:  0.8520710059171598\n",
      "test set accuracy_score:  0.813953488372093\n",
      "-----------------------------------------\n",
      "Modeling  2 st\n",
      "train set accuracy_score:  0.863905325443787\n",
      "test set accuracy_score:  0.7906976744186046\n",
      "-----------------------------------------\n",
      "Modeling  3 st\n",
      "train set accuracy_score:  0.8705882352941177\n",
      "test set accuracy_score:  0.8333333333333334\n",
      "-----------------------------------------\n",
      "Modeling  4 st\n",
      "train set accuracy_score:  0.8705882352941177\n",
      "test set accuracy_score:  0.7380952380952381\n",
      "-----------------------------------------\n",
      "Modeling  5 st\n",
      "train set accuracy_score:  0.8117647058823529\n",
      "test set accuracy_score:  0.9523809523809523\n",
      "-----------------------------------------\n",
      "Mean test set accuracy_score:  0.8256921373200443\n"
     ]
    }
   ],
   "source": [
    "# CV results if normalized\n",
    "k_cv(X_train_s,Y_train_s,LogisticRegression(),n_split=5)"
   ]
  },
  {
   "cell_type": "code",
   "execution_count": 18,
   "metadata": {
    "colab": {
     "base_uri": "https://localhost:8080/"
    },
    "executionInfo": {
     "elapsed": 727,
     "status": "ok",
     "timestamp": 1618484228067,
     "user": {
      "displayName": "이승윤",
      "photoUrl": "",
      "userId": "18053956370916090566"
     },
     "user_tz": -540
    },
    "id": "1KP6sY88Ofws",
    "outputId": "602cb3f9-9adb-444e-b38d-a0de2e066e55"
   },
   "outputs": [
    {
     "name": "stdout",
     "output_type": "stream",
     "text": [
      "Accuracy:  0.8681318681318682 \n",
      "\n",
      "              precision    recall  f1-score   support\n",
      "\n",
      "           0       0.92      0.80      0.85        44\n",
      "           1       0.83      0.94      0.88        47\n",
      "\n",
      "    accuracy                           0.87        91\n",
      "   macro avg       0.88      0.87      0.87        91\n",
      "weighted avg       0.87      0.87      0.87        91\n",
      "\n"
     ]
    }
   ],
   "source": [
    "# test set evaluation if normalized\n",
    "lr=LogisticRegression()\n",
    "lr.fit(X_train_s,Y_train_s)\n",
    "pred=lr.predict(X_test_s)\n",
    "\n",
    "print('Accuracy: ',accuracy_score(Y_test_s,pred),'\\n')\n",
    "print(classification_report(Y_test_s,pred,labels=[0,1]))"
   ]
  },
  {
   "cell_type": "code",
   "execution_count": 19,
   "metadata": {
    "colab": {
     "base_uri": "https://localhost:8080/"
    },
    "executionInfo": {
     "elapsed": 1814,
     "status": "ok",
     "timestamp": 1618485993623,
     "user": {
      "displayName": "이승윤",
      "photoUrl": "",
      "userId": "18053956370916090566"
     },
     "user_tz": -540
    },
    "id": "T2C2ytvORGlf",
    "outputId": "b3714ded-5d7d-467f-b2b3-cb94962fccf1"
   },
   "outputs": [
    {
     "name": "stdout",
     "output_type": "stream",
     "text": [
      "################ C = 0.1 ################\n",
      "Modeling  1 st\n",
      "train set accuracy_score:  0.8520710059171598\n",
      "test set accuracy_score:  0.7906976744186046\n",
      "-----------------------------------------\n",
      "Modeling  2 st\n",
      "train set accuracy_score:  0.8284023668639053\n",
      "test set accuracy_score:  0.7441860465116279\n",
      "-----------------------------------------\n",
      "Modeling  3 st\n",
      "train set accuracy_score:  0.8411764705882353\n",
      "test set accuracy_score:  0.8333333333333334\n",
      "-----------------------------------------\n",
      "Modeling  4 st\n",
      "train set accuracy_score:  0.8588235294117647\n",
      "test set accuracy_score:  0.8095238095238095\n",
      "-----------------------------------------\n",
      "Modeling  5 st\n",
      "train set accuracy_score:  0.8176470588235294\n",
      "test set accuracy_score:  0.9285714285714286\n",
      "-----------------------------------------\n",
      "Mean test set accuracy_score:  0.8212624584717609\n",
      "\n",
      "\n",
      "\n",
      "################ C = 0.5 ################\n",
      "Modeling  1 st\n",
      "train set accuracy_score:  0.863905325443787\n",
      "test set accuracy_score:  0.7906976744186046\n",
      "-----------------------------------------\n",
      "Modeling  2 st\n",
      "train set accuracy_score:  0.834319526627219\n",
      "test set accuracy_score:  0.7906976744186046\n",
      "-----------------------------------------\n",
      "Modeling  3 st\n",
      "train set accuracy_score:  0.8705882352941177\n",
      "test set accuracy_score:  0.8333333333333334\n",
      "-----------------------------------------\n",
      "Modeling  4 st\n",
      "train set accuracy_score:  0.8705882352941177\n",
      "test set accuracy_score:  0.7857142857142857\n",
      "-----------------------------------------\n",
      "Modeling  5 st\n",
      "train set accuracy_score:  0.8117647058823529\n",
      "test set accuracy_score:  0.9523809523809523\n",
      "-----------------------------------------\n",
      "Mean test set accuracy_score:  0.8305647840531561\n",
      "\n",
      "\n",
      "\n",
      "################ C = 1 ################\n",
      "Modeling  1 st\n",
      "train set accuracy_score:  0.8698224852071006\n",
      "test set accuracy_score:  0.7674418604651163\n",
      "-----------------------------------------\n",
      "Modeling  2 st\n",
      "train set accuracy_score:  0.8402366863905325\n",
      "test set accuracy_score:  0.813953488372093\n",
      "-----------------------------------------\n",
      "Modeling  3 st\n",
      "train set accuracy_score:  0.8705882352941177\n",
      "test set accuracy_score:  0.8333333333333334\n",
      "-----------------------------------------\n",
      "Modeling  4 st\n",
      "train set accuracy_score:  0.8705882352941177\n",
      "test set accuracy_score:  0.7380952380952381\n",
      "-----------------------------------------\n",
      "Modeling  5 st\n",
      "train set accuracy_score:  0.8294117647058824\n",
      "test set accuracy_score:  0.9761904761904762\n",
      "-----------------------------------------\n",
      "Mean test set accuracy_score:  0.8258028792912514\n",
      "\n",
      "\n",
      "\n",
      "################ C = 3 ################\n",
      "Modeling  1 st\n",
      "train set accuracy_score:  0.8698224852071006\n",
      "test set accuracy_score:  0.7674418604651163\n",
      "-----------------------------------------\n",
      "Modeling  2 st\n",
      "train set accuracy_score:  0.8402366863905325\n",
      "test set accuracy_score:  0.813953488372093\n",
      "-----------------------------------------\n",
      "Modeling  3 st\n",
      "train set accuracy_score:  0.8588235294117647\n",
      "test set accuracy_score:  0.8333333333333334\n",
      "-----------------------------------------\n",
      "Modeling  4 st\n",
      "train set accuracy_score:  0.888235294117647\n",
      "test set accuracy_score:  0.7380952380952381\n",
      "-----------------------------------------\n",
      "Modeling  5 st\n",
      "train set accuracy_score:  0.8117647058823529\n",
      "test set accuracy_score:  0.9761904761904762\n",
      "-----------------------------------------\n",
      "Mean test set accuracy_score:  0.8258028792912514\n",
      "\n",
      "\n",
      "\n",
      "################ C = 5 ################\n",
      "Modeling  1 st\n",
      "train set accuracy_score:  0.8698224852071006\n",
      "test set accuracy_score:  0.7674418604651163\n",
      "-----------------------------------------\n",
      "Modeling  2 st\n",
      "train set accuracy_score:  0.8402366863905325\n",
      "test set accuracy_score:  0.7906976744186046\n",
      "-----------------------------------------\n",
      "Modeling  3 st\n",
      "train set accuracy_score:  0.8529411764705882\n",
      "test set accuracy_score:  0.8333333333333334\n",
      "-----------------------------------------\n",
      "Modeling  4 st\n",
      "train set accuracy_score:  0.8764705882352941\n",
      "test set accuracy_score:  0.7380952380952381\n",
      "-----------------------------------------\n",
      "Modeling  5 st\n",
      "train set accuracy_score:  0.8117647058823529\n",
      "test set accuracy_score:  0.9761904761904762\n",
      "-----------------------------------------\n",
      "Mean test set accuracy_score:  0.8211517165005537\n"
     ]
    }
   ],
   "source": [
    "# Hyper-parameter Tuning\n",
    "# Tuned to non-normalized cases because it performed better without normalization\n",
    "\n",
    "print('################ C = 0.1 ################')\n",
    "k_cv(X_train.values,Y_train.values,LogisticRegression(C=0.1),n_split=5)\n",
    "print('\\n\\n')\n",
    "\n",
    "print('################ C = 0.5 ################')\n",
    "k_cv(X_train.values,Y_train.values,LogisticRegression(C=0.5),n_split=5)\n",
    "print('\\n\\n')\n",
    "\n",
    "print('################ C = 1 ################')\n",
    "k_cv(X_train.values,Y_train.values,LogisticRegression(C=1),n_split=5)\n",
    "print('\\n\\n')\n",
    "\n",
    "print('################ C = 3 ################')\n",
    "k_cv(X_train.values,Y_train.values,LogisticRegression(C=3),n_split=5)\n",
    "print('\\n\\n')\n",
    "\n",
    "print('################ C = 5 ################')\n",
    "k_cv(X_train.values,Y_train.values,LogisticRegression(C=5),n_split=5)"
   ]
  },
  {
   "cell_type": "code",
   "execution_count": 20,
   "metadata": {
    "colab": {
     "base_uri": "https://localhost:8080/"
    },
    "executionInfo": {
     "elapsed": 632,
     "status": "ok",
     "timestamp": 1618486900545,
     "user": {
      "displayName": "이승윤",
      "photoUrl": "",
      "userId": "18053956370916090566"
     },
     "user_tz": -540
    },
    "id": "oBl2PzFSVfQI",
    "outputId": "eb0c067d-ed7b-4f70-d485-f3d1dfb44fb5"
   },
   "outputs": [
    {
     "name": "stdout",
     "output_type": "stream",
     "text": [
      "Accuracy:  0.8571428571428571 \n",
      "\n",
      "              precision    recall  f1-score   support\n",
      "\n",
      "           0       0.92      0.77      0.84        44\n",
      "           1       0.81      0.94      0.87        47\n",
      "\n",
      "    accuracy                           0.86        91\n",
      "   macro avg       0.87      0.85      0.86        91\n",
      "weighted avg       0.87      0.86      0.86        91\n",
      "\n"
     ]
    }
   ],
   "source": [
    "# C=0.5 & Enforce normalization\n",
    "# Model with the highest accuracy as a result of CV\n",
    "lr=LogisticRegression(C=0.5)\n",
    "lr.fit(X_train_s,Y_train_s)\n",
    "pred=lr.predict(X_test_s)\n",
    "\n",
    "print('Accuracy: ',accuracy_score(Y_test_s,pred),'\\n')\n",
    "print(classification_report(Y_test_s,pred,labels=[0,1]))"
   ]
  },
  {
   "cell_type": "markdown",
   "metadata": {
    "id": "pTW3BxtSC9zv"
   },
   "source": [
    "## SVM"
   ]
  },
  {
   "cell_type": "code",
   "execution_count": 21,
   "metadata": {
    "colab": {
     "base_uri": "https://localhost:8080/"
    },
    "executionInfo": {
     "elapsed": 487,
     "status": "ok",
     "timestamp": 1618484230126,
     "user": {
      "displayName": "이승윤",
      "photoUrl": "",
      "userId": "18053956370916090566"
     },
     "user_tz": -540
    },
    "id": "ui1F5gbvP0y0",
    "outputId": "54ac8b9c-e294-46fe-c84a-0f12ae26ce0f"
   },
   "outputs": [
    {
     "name": "stdout",
     "output_type": "stream",
     "text": [
      "Modeling  1 st\n",
      "train set accuracy_score:  0.6153846153846154\n",
      "test set accuracy_score:  0.5116279069767442\n",
      "-----------------------------------------\n",
      "Modeling  2 st\n",
      "train set accuracy_score:  0.6272189349112426\n",
      "test set accuracy_score:  0.5813953488372093\n",
      "-----------------------------------------\n",
      "Modeling  3 st\n",
      "train set accuracy_score:  0.6176470588235294\n",
      "test set accuracy_score:  0.5714285714285714\n",
      "-----------------------------------------\n",
      "Modeling  4 st\n",
      "train set accuracy_score:  0.6470588235294118\n",
      "test set accuracy_score:  0.5952380952380952\n",
      "-----------------------------------------\n",
      "Modeling  5 st\n",
      "train set accuracy_score:  0.6294117647058823\n",
      "test set accuracy_score:  0.6666666666666666\n",
      "-----------------------------------------\n",
      "Mean test set accuracy_score:  0.5852713178294573\n"
     ]
    }
   ],
   "source": [
    "# CV results if not normalized\n",
    "k_cv(X_train.values,Y_train.values,SVC(),n_split=5)"
   ]
  },
  {
   "cell_type": "code",
   "execution_count": 22,
   "metadata": {
    "colab": {
     "base_uri": "https://localhost:8080/"
    },
    "executionInfo": {
     "elapsed": 698,
     "status": "ok",
     "timestamp": 1618484232533,
     "user": {
      "displayName": "이승윤",
      "photoUrl": "",
      "userId": "18053956370916090566"
     },
     "user_tz": -540
    },
    "id": "20ZnRX5VC9zv",
    "outputId": "605594ff-74d9-49e8-92a5-ef9960a10d91"
   },
   "outputs": [
    {
     "name": "stdout",
     "output_type": "stream",
     "text": [
      "Accuracy:  0.6703296703296703 \n",
      "\n",
      "              precision    recall  f1-score   support\n",
      "\n",
      "           0       0.77      0.45      0.57        44\n",
      "           1       0.63      0.87      0.73        47\n",
      "\n",
      "    accuracy                           0.67        91\n",
      "   macro avg       0.70      0.66      0.65        91\n",
      "weighted avg       0.70      0.67      0.65        91\n",
      "\n"
     ]
    }
   ],
   "source": [
    "#test set evaluation if not normalized\n",
    "svm=SVC()\n",
    "svm.fit(X_train,Y_train)\n",
    "pred=svm.predict(X_test)\n",
    "\n",
    "print('Accuracy: ',accuracy_score(Y_test,pred),'\\n')\n",
    "print(classification_report(Y_test,pred,labels=[0,1]))"
   ]
  },
  {
   "cell_type": "code",
   "execution_count": 23,
   "metadata": {
    "colab": {
     "base_uri": "https://localhost:8080/"
    },
    "executionInfo": {
     "elapsed": 718,
     "status": "ok",
     "timestamp": 1618484234605,
     "user": {
      "displayName": "이승윤",
      "photoUrl": "",
      "userId": "18053956370916090566"
     },
     "user_tz": -540
    },
    "id": "uOEflZVrGry5",
    "outputId": "857058a8-0c25-4b60-a191-be7d76c0134e"
   },
   "outputs": [
    {
     "name": "stdout",
     "output_type": "stream",
     "text": [
      "Modeling  1 st\n",
      "train set accuracy_score:  0.9112426035502958\n",
      "test set accuracy_score:  0.7674418604651163\n",
      "-----------------------------------------\n",
      "Modeling  2 st\n",
      "train set accuracy_score:  0.8757396449704142\n",
      "test set accuracy_score:  0.813953488372093\n",
      "-----------------------------------------\n",
      "Modeling  3 st\n",
      "train set accuracy_score:  0.8823529411764706\n",
      "test set accuracy_score:  0.8095238095238095\n",
      "-----------------------------------------\n",
      "Modeling  4 st\n",
      "train set accuracy_score:  0.8764705882352941\n",
      "test set accuracy_score:  0.6904761904761905\n",
      "-----------------------------------------\n",
      "Modeling  5 st\n",
      "train set accuracy_score:  0.8588235294117647\n",
      "test set accuracy_score:  0.9047619047619048\n",
      "-----------------------------------------\n",
      "Mean test set accuracy_score:  0.7972314507198228\n"
     ]
    }
   ],
   "source": [
    "# CV results if normalized\n",
    "k_cv(X_train_s,Y_train_s,SVC(),n_split=5)"
   ]
  },
  {
   "cell_type": "code",
   "execution_count": 24,
   "metadata": {
    "colab": {
     "base_uri": "https://localhost:8080/"
    },
    "executionInfo": {
     "elapsed": 642,
     "status": "ok",
     "timestamp": 1618484236454,
     "user": {
      "displayName": "이승윤",
      "photoUrl": "",
      "userId": "18053956370916090566"
     },
     "user_tz": -540
    },
    "id": "HRNJadmHO1XC",
    "outputId": "c9199086-b9f5-478b-9fa8-5fa90f756eee"
   },
   "outputs": [
    {
     "name": "stdout",
     "output_type": "stream",
     "text": [
      "Accuracy:  0.8681318681318682 \n",
      "\n",
      "              precision    recall  f1-score   support\n",
      "\n",
      "           0       0.97      0.75      0.85        44\n",
      "           1       0.81      0.98      0.88        47\n",
      "\n",
      "    accuracy                           0.87        91\n",
      "   macro avg       0.89      0.86      0.87        91\n",
      "weighted avg       0.89      0.87      0.87        91\n",
      "\n"
     ]
    }
   ],
   "source": [
    "# test set evaluationif normalized\n",
    "svm=SVC()\n",
    "svm.fit(X_train_s,Y_train_s)\n",
    "pred=svm.predict(X_test_s)\n",
    "\n",
    "print('Accuracy: ',accuracy_score(Y_test_s,pred),'\\n')\n",
    "print(classification_report(Y_test_s,pred,labels=[0,1]))"
   ]
  },
  {
   "cell_type": "code",
   "execution_count": 25,
   "metadata": {
    "colab": {
     "base_uri": "https://localhost:8080/"
    },
    "executionInfo": {
     "elapsed": 885,
     "status": "ok",
     "timestamp": 1618486552618,
     "user": {
      "displayName": "이승윤",
      "photoUrl": "",
      "userId": "18053956370916090566"
     },
     "user_tz": -540
    },
    "id": "1D3ibo4dSJKH",
    "outputId": "4e9ac42a-f184-4314-837c-1e0c8f413ae6"
   },
   "outputs": [
    {
     "name": "stdout",
     "output_type": "stream",
     "text": [
      "################ kernel= linear ################\n",
      "Modeling  1 st\n",
      "train set accuracy_score:  0.8579881656804734\n",
      "test set accuracy_score:  0.7906976744186046\n",
      "-----------------------------------------\n",
      "Modeling  2 st\n",
      "train set accuracy_score:  0.8520710059171598\n",
      "test set accuracy_score:  0.8372093023255814\n",
      "-----------------------------------------\n",
      "Modeling  3 st\n",
      "train set accuracy_score:  0.8823529411764706\n",
      "test set accuracy_score:  0.8333333333333334\n",
      "-----------------------------------------\n",
      "Modeling  4 st\n",
      "train set accuracy_score:  0.8764705882352941\n",
      "test set accuracy_score:  0.6904761904761905\n",
      "-----------------------------------------\n",
      "Modeling  5 st\n",
      "train set accuracy_score:  0.8058823529411765\n",
      "test set accuracy_score:  0.9761904761904762\n",
      "-----------------------------------------\n",
      "Mean test set accuracy_score:  0.8255813953488372\n",
      "\n",
      "\n",
      "\n",
      "################ kernel= poly ################\n",
      "Modeling  1 st\n",
      "train set accuracy_score:  0.8875739644970414\n",
      "test set accuracy_score:  0.7674418604651163\n",
      "-----------------------------------------\n",
      "Modeling  2 st\n",
      "train set accuracy_score:  0.8816568047337278\n",
      "test set accuracy_score:  0.8372093023255814\n",
      "-----------------------------------------\n",
      "Modeling  3 st\n",
      "train set accuracy_score:  0.888235294117647\n",
      "test set accuracy_score:  0.8095238095238095\n",
      "-----------------------------------------\n",
      "Modeling  4 st\n",
      "train set accuracy_score:  0.8764705882352941\n",
      "test set accuracy_score:  0.7619047619047619\n",
      "-----------------------------------------\n",
      "Modeling  5 st\n",
      "train set accuracy_score:  0.8529411764705882\n",
      "test set accuracy_score:  0.8571428571428571\n",
      "-----------------------------------------\n",
      "Mean test set accuracy_score:  0.8066445182724251\n",
      "\n",
      "\n",
      "\n",
      "################ kernel= rbf ################\n",
      "Modeling  1 st\n",
      "train set accuracy_score:  0.9112426035502958\n",
      "test set accuracy_score:  0.7674418604651163\n",
      "-----------------------------------------\n",
      "Modeling  2 st\n",
      "train set accuracy_score:  0.8757396449704142\n",
      "test set accuracy_score:  0.813953488372093\n",
      "-----------------------------------------\n",
      "Modeling  3 st\n",
      "train set accuracy_score:  0.8823529411764706\n",
      "test set accuracy_score:  0.8095238095238095\n",
      "-----------------------------------------\n",
      "Modeling  4 st\n",
      "train set accuracy_score:  0.8764705882352941\n",
      "test set accuracy_score:  0.6904761904761905\n",
      "-----------------------------------------\n",
      "Modeling  5 st\n",
      "train set accuracy_score:  0.8588235294117647\n",
      "test set accuracy_score:  0.9047619047619048\n",
      "-----------------------------------------\n",
      "Mean test set accuracy_score:  0.7972314507198228\n",
      "\n",
      "\n",
      "\n",
      "################ kerne= sigmoid ################\n",
      "Modeling  1 st\n",
      "train set accuracy_score:  0.7751479289940828\n",
      "test set accuracy_score:  0.7906976744186046\n",
      "-----------------------------------------\n",
      "Modeling  2 st\n",
      "train set accuracy_score:  0.7988165680473372\n",
      "test set accuracy_score:  0.7674418604651163\n",
      "-----------------------------------------\n",
      "Modeling  3 st\n",
      "train set accuracy_score:  0.788235294117647\n",
      "test set accuracy_score:  0.8333333333333334\n",
      "-----------------------------------------\n",
      "Modeling  4 st\n",
      "train set accuracy_score:  0.8176470588235294\n",
      "test set accuracy_score:  0.6904761904761905\n",
      "-----------------------------------------\n",
      "Modeling  5 st\n",
      "train set accuracy_score:  0.7529411764705882\n",
      "test set accuracy_score:  0.9047619047619048\n",
      "-----------------------------------------\n",
      "Mean test set accuracy_score:  0.7973421926910299\n"
     ]
    }
   ],
   "source": [
    "# Hyper-parameter Tuning\n",
    "# Tunes kernel with different types\n",
    "# Tuned for normalized cases because normalized cases performed better\n",
    "\n",
    "print('################ kernel= linear ################')\n",
    "k_cv(X_train_s,Y_train_s,SVC(kernel='linear'),n_split=5)\n",
    "print('\\n\\n')\n",
    "\n",
    "print('################ kernel= poly ################')\n",
    "k_cv(X_train_s,Y_train_s,SVC(kernel='poly'),n_split=5)\n",
    "print('\\n\\n')\n",
    "\n",
    "print('################ kernel= rbf ################')\n",
    "k_cv(X_train_s,Y_train_s,SVC(kernel='rbf'),n_split=5)\n",
    "print('\\n\\n')\n",
    "\n",
    "print('################ kernel= sigmoid ################')\n",
    "k_cv(X_train_s,Y_train_s,SVC(kernel='sigmoid'),n_split=5)"
   ]
  },
  {
   "cell_type": "code",
   "execution_count": 26,
   "metadata": {
    "colab": {
     "base_uri": "https://localhost:8080/"
    },
    "executionInfo": {
     "elapsed": 1509,
     "status": "ok",
     "timestamp": 1618486568640,
     "user": {
      "displayName": "이승윤",
      "photoUrl": "",
      "userId": "18053956370916090566"
     },
     "user_tz": -540
    },
    "id": "DkLFRYg_TfcH",
    "outputId": "8a752390-053b-4699-f3a4-7968e96005cb"
   },
   "outputs": [
    {
     "name": "stdout",
     "output_type": "stream",
     "text": [
      "Accuracy:  0.8681318681318682 \n",
      "\n",
      "              precision    recall  f1-score   support\n",
      "\n",
      "           0       0.92      0.80      0.85        44\n",
      "           1       0.83      0.94      0.88        47\n",
      "\n",
      "    accuracy                           0.87        91\n",
      "   macro avg       0.88      0.87      0.87        91\n",
      "weighted avg       0.87      0.87      0.87        91\n",
      "\n"
     ]
    }
   ],
   "source": [
    "# kernel=linear & Enforce normalization\n",
    "# Model with the highest accuracy as a result of CV\n",
    "svm=SVC(kernel='linear')\n",
    "svm.fit(X_train_s,Y_train_s)\n",
    "pred=svm.predict(X_test_s)\n",
    "\n",
    "print('Accuracy: ',accuracy_score(Y_test_s,pred),'\\n')\n",
    "print(classification_report(Y_test_s,pred,labels=[0,1]))"
   ]
  },
  {
   "cell_type": "markdown",
   "metadata": {
    "id": "HGzFi8Y8J9qs"
   },
   "source": [
    "## Neural Network"
   ]
  },
  {
   "cell_type": "code",
   "execution_count": 27,
   "metadata": {
    "id": "0T_2i-KCKAmp"
   },
   "outputs": [],
   "source": [
    "# Functioning the model to enable the same model structure\n",
    "def nn_model():\n",
    "  model=Sequential()\n",
    "  model.add(Dense(128,input_dim=X_train.shape[1],activation='relu'))\n",
    "  model.add(Dropout(0.2))\n",
    "  model.add(Dense(128,activation='relu'))\n",
    "  model.add(Dense(1,activation='sigmoid'))\n",
    "\n",
    "  model.compile(loss='binary_crossentropy',optimizer='adam',metrics='accuracy')\n",
    "  \n",
    "  return model"
   ]
  },
  {
   "cell_type": "code",
   "execution_count": 28,
   "metadata": {
    "colab": {
     "base_uri": "https://localhost:8080/"
    },
    "executionInfo": {
     "elapsed": 21969,
     "status": "ok",
     "timestamp": 1618634127910,
     "user": {
      "displayName": "이승윤",
      "photoUrl": "",
      "userId": "18053956370916090566"
     },
     "user_tz": -540
    },
    "id": "jfuNQHxqG5MJ",
    "outputId": "2eca9e45-c09f-4f99-d513-d04c8f5dc5b5"
   },
   "outputs": [
    {
     "name": "stdout",
     "output_type": "stream",
     "text": [
      "Epoch 1/250\n",
      "6/6 [==============================] - 2s 317ms/step - loss: 5.5114 - accuracy: 0.5135 - val_loss: 1.4806 - val_accuracy: 0.5349\n",
      "Epoch 2/250\n",
      "6/6 [==============================] - 0s 12ms/step - loss: 3.6186 - accuracy: 0.4632 - val_loss: 0.8578 - val_accuracy: 0.5581\n",
      "Epoch 3/250\n",
      "6/6 [==============================] - 0s 12ms/step - loss: 3.2895 - accuracy: 0.5041 - val_loss: 1.2463 - val_accuracy: 0.5581\n",
      "Epoch 4/250\n",
      "6/6 [==============================] - 0s 13ms/step - loss: 2.7555 - accuracy: 0.5381 - val_loss: 0.7585 - val_accuracy: 0.6977\n",
      "Epoch 5/250\n",
      "6/6 [==============================] - 0s 15ms/step - loss: 2.4473 - accuracy: 0.5924 - val_loss: 0.8169 - val_accuracy: 0.6744\n",
      "Epoch 6/250\n",
      "6/6 [==============================] - 0s 12ms/step - loss: 2.0532 - accuracy: 0.5875 - val_loss: 1.7499 - val_accuracy: 0.5581\n",
      "Epoch 7/250\n",
      "6/6 [==============================] - 0s 11ms/step - loss: 2.1998 - accuracy: 0.6305 - val_loss: 0.8299 - val_accuracy: 0.6744\n",
      "Epoch 8/250\n",
      "6/6 [==============================] - 0s 11ms/step - loss: 1.6775 - accuracy: 0.6594 - val_loss: 1.6090 - val_accuracy: 0.5116\n",
      "Epoch 9/250\n",
      "6/6 [==============================] - 0s 14ms/step - loss: 1.6245 - accuracy: 0.5867 - val_loss: 0.6963 - val_accuracy: 0.6744\n",
      "Epoch 10/250\n",
      "6/6 [==============================] - 0s 12ms/step - loss: 1.8148 - accuracy: 0.5587 - val_loss: 2.6462 - val_accuracy: 0.3953\n",
      "Epoch 11/250\n",
      "6/6 [==============================] - 0s 12ms/step - loss: 1.9472 - accuracy: 0.5021 - val_loss: 0.6223 - val_accuracy: 0.7209\n",
      "Epoch 12/250\n",
      "6/6 [==============================] - 0s 12ms/step - loss: 1.9033 - accuracy: 0.6051 - val_loss: 1.7835 - val_accuracy: 0.5116\n",
      "Epoch 13/250\n",
      "6/6 [==============================] - 0s 14ms/step - loss: 1.8807 - accuracy: 0.5442 - val_loss: 0.7693 - val_accuracy: 0.6512\n",
      "Epoch 14/250\n",
      "6/6 [==============================] - 0s 13ms/step - loss: 1.8196 - accuracy: 0.6000 - val_loss: 1.3183 - val_accuracy: 0.5349\n",
      "Epoch 15/250\n",
      "6/6 [==============================] - 0s 14ms/step - loss: 1.2143 - accuracy: 0.6225 - val_loss: 0.7073 - val_accuracy: 0.6744\n",
      "Epoch 16/250\n",
      "6/6 [==============================] - 0s 14ms/step - loss: 1.4418 - accuracy: 0.6450 - val_loss: 0.9857 - val_accuracy: 0.6047\n",
      "Epoch 17/250\n",
      "6/6 [==============================] - 0s 11ms/step - loss: 1.3721 - accuracy: 0.5535 - val_loss: 0.5669 - val_accuracy: 0.7209\n",
      "Epoch 18/250\n",
      "6/6 [==============================] - 0s 12ms/step - loss: 0.8880 - accuracy: 0.6897 - val_loss: 0.5988 - val_accuracy: 0.6977\n",
      "Epoch 19/250\n",
      "6/6 [==============================] - 0s 12ms/step - loss: 1.1158 - accuracy: 0.5804 - val_loss: 0.5234 - val_accuracy: 0.7674\n",
      "Epoch 20/250\n",
      "6/6 [==============================] - 0s 14ms/step - loss: 1.1224 - accuracy: 0.5863 - val_loss: 0.5848 - val_accuracy: 0.6977\n",
      "Epoch 21/250\n",
      "6/6 [==============================] - 0s 12ms/step - loss: 1.3566 - accuracy: 0.5281 - val_loss: 0.5317 - val_accuracy: 0.7442\n",
      "Epoch 22/250\n",
      "6/6 [==============================] - 0s 11ms/step - loss: 1.0254 - accuracy: 0.6336 - val_loss: 0.5243 - val_accuracy: 0.6977\n",
      "Epoch 23/250\n",
      "6/6 [==============================] - 0s 16ms/step - loss: 1.1622 - accuracy: 0.5645 - val_loss: 0.9145 - val_accuracy: 0.4884\n",
      "Epoch 24/250\n",
      "6/6 [==============================] - 0s 26ms/step - loss: 1.4058 - accuracy: 0.5630 - val_loss: 0.7429 - val_accuracy: 0.6744\n",
      "Epoch 25/250\n",
      "6/6 [==============================] - 0s 17ms/step - loss: 1.1325 - accuracy: 0.6639 - val_loss: 0.5735 - val_accuracy: 0.6977\n",
      "Epoch 26/250\n",
      "6/6 [==============================] - 0s 16ms/step - loss: 1.3055 - accuracy: 0.5900 - val_loss: 0.5263 - val_accuracy: 0.7674\n",
      "Epoch 27/250\n",
      "6/6 [==============================] - 0s 15ms/step - loss: 0.8852 - accuracy: 0.6685 - val_loss: 0.5221 - val_accuracy: 0.6977\n",
      "Epoch 28/250\n",
      "6/6 [==============================] - 0s 13ms/step - loss: 0.9090 - accuracy: 0.6419 - val_loss: 1.0572 - val_accuracy: 0.4884\n",
      "Epoch 29/250\n",
      "6/6 [==============================] - 0s 12ms/step - loss: 1.0317 - accuracy: 0.5649 - val_loss: 0.7014 - val_accuracy: 0.6744\n",
      "Epoch 30/250\n",
      "6/6 [==============================] - 0s 11ms/step - loss: 1.2843 - accuracy: 0.5434 - val_loss: 0.7965 - val_accuracy: 0.6279\n",
      "Epoch 31/250\n",
      "6/6 [==============================] - 0s 10ms/step - loss: 0.8821 - accuracy: 0.6255 - val_loss: 0.6000 - val_accuracy: 0.6977\n",
      "Epoch 32/250\n",
      "6/6 [==============================] - 0s 12ms/step - loss: 1.0396 - accuracy: 0.5817 - val_loss: 0.7840 - val_accuracy: 0.6744\n",
      "Epoch 33/250\n",
      "6/6 [==============================] - 0s 14ms/step - loss: 1.2891 - accuracy: 0.5717 - val_loss: 0.8317 - val_accuracy: 0.5581\n",
      "Epoch 34/250\n",
      "6/6 [==============================] - 0s 14ms/step - loss: 0.8121 - accuracy: 0.5965 - val_loss: 0.5404 - val_accuracy: 0.6977\n",
      "Epoch 35/250\n",
      "6/6 [==============================] - 0s 15ms/step - loss: 0.7601 - accuracy: 0.6465 - val_loss: 0.5812 - val_accuracy: 0.6512\n",
      "Epoch 36/250\n",
      "6/6 [==============================] - 0s 15ms/step - loss: 0.8330 - accuracy: 0.6683 - val_loss: 0.5526 - val_accuracy: 0.6977\n",
      "Epoch 37/250\n",
      "6/6 [==============================] - 0s 11ms/step - loss: 0.9552 - accuracy: 0.6220 - val_loss: 0.6867 - val_accuracy: 0.6977\n",
      "Epoch 38/250\n",
      "6/6 [==============================] - 0s 11ms/step - loss: 0.9079 - accuracy: 0.6716 - val_loss: 0.6521 - val_accuracy: 0.6512\n",
      "Epoch 39/250\n",
      "6/6 [==============================] - 0s 13ms/step - loss: 0.8192 - accuracy: 0.6047 - val_loss: 0.5621 - val_accuracy: 0.6512\n",
      "Epoch 40/250\n",
      "6/6 [==============================] - 0s 14ms/step - loss: 0.9133 - accuracy: 0.6711 - val_loss: 0.5942 - val_accuracy: 0.6977\n",
      "Epoch 41/250\n",
      "6/6 [==============================] - 0s 11ms/step - loss: 1.0415 - accuracy: 0.6242 - val_loss: 0.8491 - val_accuracy: 0.5116\n",
      "Epoch 42/250\n",
      "6/6 [==============================] - 0s 12ms/step - loss: 0.9695 - accuracy: 0.6772 - val_loss: 0.7271 - val_accuracy: 0.6512\n",
      "Epoch 43/250\n",
      "6/6 [==============================] - 0s 12ms/step - loss: 1.0032 - accuracy: 0.5865 - val_loss: 0.5317 - val_accuracy: 0.6744\n",
      "Epoch 44/250\n",
      "6/6 [==============================] - 0s 13ms/step - loss: 0.8062 - accuracy: 0.6007 - val_loss: 0.5346 - val_accuracy: 0.6977\n",
      "Epoch 45/250\n",
      "6/6 [==============================] - 0s 12ms/step - loss: 0.8382 - accuracy: 0.6306 - val_loss: 0.6808 - val_accuracy: 0.5814\n",
      "Epoch 46/250\n",
      "6/6 [==============================] - 0s 11ms/step - loss: 0.7968 - accuracy: 0.6368 - val_loss: 0.6019 - val_accuracy: 0.6512\n",
      "Epoch 47/250\n",
      "6/6 [==============================] - 0s 11ms/step - loss: 0.8279 - accuracy: 0.6276 - val_loss: 0.5447 - val_accuracy: 0.6744\n",
      "Epoch 48/250\n",
      "6/6 [==============================] - 0s 13ms/step - loss: 0.8240 - accuracy: 0.5594 - val_loss: 0.5484 - val_accuracy: 0.6744\n",
      "Epoch 49/250\n",
      "6/6 [==============================] - 0s 12ms/step - loss: 0.7358 - accuracy: 0.6326 - val_loss: 0.6219 - val_accuracy: 0.6512\n",
      "Epoch 50/250\n",
      "6/6 [==============================] - 0s 12ms/step - loss: 0.8328 - accuracy: 0.6258 - val_loss: 0.7266 - val_accuracy: 0.6047\n",
      "Epoch 51/250\n",
      "6/6 [==============================] - 0s 11ms/step - loss: 1.0766 - accuracy: 0.5824 - val_loss: 0.7773 - val_accuracy: 0.6512\n",
      "Epoch 52/250\n",
      "6/6 [==============================] - 0s 14ms/step - loss: 0.9080 - accuracy: 0.6270 - val_loss: 0.6945 - val_accuracy: 0.6047\n",
      "Epoch 53/250\n",
      "6/6 [==============================] - 0s 12ms/step - loss: 0.7563 - accuracy: 0.6081 - val_loss: 0.5865 - val_accuracy: 0.6744\n",
      "Epoch 54/250\n",
      "6/6 [==============================] - 0s 12ms/step - loss: 0.8013 - accuracy: 0.5831 - val_loss: 0.5896 - val_accuracy: 0.6512\n",
      "Epoch 55/250\n",
      "6/6 [==============================] - 0s 11ms/step - loss: 0.7480 - accuracy: 0.5887 - val_loss: 0.5141 - val_accuracy: 0.7442\n",
      "Epoch 56/250\n",
      "6/6 [==============================] - 0s 15ms/step - loss: 0.6974 - accuracy: 0.6744 - val_loss: 0.5052 - val_accuracy: 0.7674\n",
      "Epoch 57/250\n",
      "6/6 [==============================] - 0s 15ms/step - loss: 0.7001 - accuracy: 0.5832 - val_loss: 0.5120 - val_accuracy: 0.7209\n",
      "Epoch 58/250\n",
      "6/6 [==============================] - 0s 11ms/step - loss: 0.7202 - accuracy: 0.7099 - val_loss: 0.5099 - val_accuracy: 0.7209\n",
      "Epoch 59/250\n",
      "6/6 [==============================] - 0s 12ms/step - loss: 0.7087 - accuracy: 0.6305 - val_loss: 0.5336 - val_accuracy: 0.6977\n",
      "Epoch 60/250\n",
      "6/6 [==============================] - 0s 11ms/step - loss: 0.7034 - accuracy: 0.6376 - val_loss: 0.6239 - val_accuracy: 0.6744\n",
      "Epoch 61/250\n",
      "6/6 [==============================] - 0s 11ms/step - loss: 0.6845 - accuracy: 0.6485 - val_loss: 0.8016 - val_accuracy: 0.5349\n",
      "Epoch 62/250\n",
      "6/6 [==============================] - 0s 11ms/step - loss: 0.7660 - accuracy: 0.6281 - val_loss: 0.7282 - val_accuracy: 0.6744\n",
      "Epoch 63/250\n",
      "6/6 [==============================] - 0s 12ms/step - loss: 0.7455 - accuracy: 0.6898 - val_loss: 0.8850 - val_accuracy: 0.5349\n",
      "Epoch 64/250\n",
      "6/6 [==============================] - 0s 10ms/step - loss: 0.7058 - accuracy: 0.6864 - val_loss: 0.6196 - val_accuracy: 0.6744\n",
      "Epoch 65/250\n",
      "6/6 [==============================] - 0s 13ms/step - loss: 0.7350 - accuracy: 0.6309 - val_loss: 0.6575 - val_accuracy: 0.6512\n",
      "Epoch 66/250\n",
      "6/6 [==============================] - 0s 15ms/step - loss: 0.6160 - accuracy: 0.7393 - val_loss: 0.5505 - val_accuracy: 0.7209\n",
      "Epoch 67/250\n",
      "6/6 [==============================] - 0s 16ms/step - loss: 0.7227 - accuracy: 0.6803 - val_loss: 0.8814 - val_accuracy: 0.5581\n",
      "Epoch 68/250\n",
      "6/6 [==============================] - 0s 12ms/step - loss: 1.0266 - accuracy: 0.5811 - val_loss: 0.6118 - val_accuracy: 0.6977\n",
      "Epoch 69/250\n",
      "6/6 [==============================] - 0s 11ms/step - loss: 0.7340 - accuracy: 0.6476 - val_loss: 0.5842 - val_accuracy: 0.6512\n",
      "Epoch 70/250\n",
      "6/6 [==============================] - 0s 13ms/step - loss: 0.6506 - accuracy: 0.6856 - val_loss: 0.5303 - val_accuracy: 0.7442\n",
      "Epoch 71/250\n",
      "6/6 [==============================] - 0s 10ms/step - loss: 0.6774 - accuracy: 0.6400 - val_loss: 0.4906 - val_accuracy: 0.7674\n",
      "Epoch 72/250\n",
      "6/6 [==============================] - 0s 10ms/step - loss: 0.6693 - accuracy: 0.6767 - val_loss: 0.4986 - val_accuracy: 0.7442\n",
      "Epoch 73/250\n",
      "6/6 [==============================] - 0s 11ms/step - loss: 0.6749 - accuracy: 0.6393 - val_loss: 0.5188 - val_accuracy: 0.6977\n",
      "Epoch 74/250\n",
      "6/6 [==============================] - 0s 12ms/step - loss: 0.6769 - accuracy: 0.6578 - val_loss: 0.5380 - val_accuracy: 0.6977\n",
      "Epoch 75/250\n",
      "6/6 [==============================] - 0s 11ms/step - loss: 0.6811 - accuracy: 0.6183 - val_loss: 0.7039 - val_accuracy: 0.5814\n",
      "Epoch 76/250\n",
      "6/6 [==============================] - 0s 10ms/step - loss: 0.7281 - accuracy: 0.6288 - val_loss: 0.5021 - val_accuracy: 0.7209\n",
      "Epoch 77/250\n",
      "6/6 [==============================] - 0s 11ms/step - loss: 0.6041 - accuracy: 0.7125 - val_loss: 0.8542 - val_accuracy: 0.5349\n",
      "Epoch 78/250\n",
      "6/6 [==============================] - 0s 11ms/step - loss: 0.7471 - accuracy: 0.6241 - val_loss: 0.7434 - val_accuracy: 0.6512\n",
      "Epoch 79/250\n",
      "6/6 [==============================] - 0s 16ms/step - loss: 0.8573 - accuracy: 0.6639 - val_loss: 0.8596 - val_accuracy: 0.5349\n",
      "Epoch 80/250\n",
      "6/6 [==============================] - 0s 15ms/step - loss: 0.6812 - accuracy: 0.7194 - val_loss: 0.5254 - val_accuracy: 0.7209\n",
      "Epoch 81/250\n",
      "6/6 [==============================] - 0s 17ms/step - loss: 0.6494 - accuracy: 0.6557 - val_loss: 0.5452 - val_accuracy: 0.6977\n",
      "Epoch 82/250\n",
      "6/6 [==============================] - 0s 13ms/step - loss: 0.6211 - accuracy: 0.7321 - val_loss: 0.4970 - val_accuracy: 0.7209\n",
      "Epoch 83/250\n",
      "6/6 [==============================] - 0s 10ms/step - loss: 0.7154 - accuracy: 0.6123 - val_loss: 0.5306 - val_accuracy: 0.6977\n",
      "Epoch 84/250\n",
      "6/6 [==============================] - 0s 10ms/step - loss: 0.8619 - accuracy: 0.6645 - val_loss: 0.5486 - val_accuracy: 0.6977\n",
      "Epoch 85/250\n",
      "6/6 [==============================] - 0s 12ms/step - loss: 0.7226 - accuracy: 0.6234 - val_loss: 0.5254 - val_accuracy: 0.7209\n",
      "Epoch 86/250\n",
      "6/6 [==============================] - 0s 11ms/step - loss: 0.8267 - accuracy: 0.6526 - val_loss: 0.6146 - val_accuracy: 0.6279\n",
      "Epoch 87/250\n",
      "6/6 [==============================] - 0s 10ms/step - loss: 0.5992 - accuracy: 0.7180 - val_loss: 0.4547 - val_accuracy: 0.7907\n",
      "Epoch 88/250\n",
      "6/6 [==============================] - 0s 10ms/step - loss: 0.6550 - accuracy: 0.6622 - val_loss: 0.5064 - val_accuracy: 0.6977\n",
      "Epoch 89/250\n",
      "6/6 [==============================] - 0s 11ms/step - loss: 0.5648 - accuracy: 0.7366 - val_loss: 0.4646 - val_accuracy: 0.7907\n",
      "Epoch 90/250\n",
      "6/6 [==============================] - 0s 12ms/step - loss: 0.5430 - accuracy: 0.7151 - val_loss: 0.6500 - val_accuracy: 0.6512\n",
      "Epoch 91/250\n",
      "6/6 [==============================] - 0s 10ms/step - loss: 0.6820 - accuracy: 0.6360 - val_loss: 0.4749 - val_accuracy: 0.7907\n",
      "Epoch 92/250\n",
      "6/6 [==============================] - 0s 10ms/step - loss: 0.6216 - accuracy: 0.7056 - val_loss: 0.6217 - val_accuracy: 0.6512\n",
      "Epoch 93/250\n",
      "6/6 [==============================] - 0s 10ms/step - loss: 0.6573 - accuracy: 0.6395 - val_loss: 0.4765 - val_accuracy: 0.7674\n",
      "Epoch 94/250\n",
      "6/6 [==============================] - 0s 12ms/step - loss: 0.6681 - accuracy: 0.6653 - val_loss: 0.5959 - val_accuracy: 0.6744\n",
      "Epoch 95/250\n",
      "6/6 [==============================] - 0s 10ms/step - loss: 0.5647 - accuracy: 0.6989 - val_loss: 0.4674 - val_accuracy: 0.7907\n",
      "Epoch 96/250\n",
      "6/6 [==============================] - 0s 10ms/step - loss: 0.6308 - accuracy: 0.6875 - val_loss: 0.6426 - val_accuracy: 0.6512\n",
      "Epoch 97/250\n",
      "6/6 [==============================] - 0s 11ms/step - loss: 0.6762 - accuracy: 0.6432 - val_loss: 0.4463 - val_accuracy: 0.7907\n",
      "Epoch 98/250\n",
      "6/6 [==============================] - 0s 11ms/step - loss: 0.5485 - accuracy: 0.7427 - val_loss: 0.5275 - val_accuracy: 0.6744\n",
      "Epoch 99/250\n",
      "6/6 [==============================] - 0s 10ms/step - loss: 0.5327 - accuracy: 0.7294 - val_loss: 0.4937 - val_accuracy: 0.7674\n",
      "Epoch 100/250\n",
      "6/6 [==============================] - 0s 10ms/step - loss: 0.5528 - accuracy: 0.6796 - val_loss: 0.5251 - val_accuracy: 0.6977\n",
      "Epoch 101/250\n",
      "6/6 [==============================] - 0s 11ms/step - loss: 0.5500 - accuracy: 0.7260 - val_loss: 0.4486 - val_accuracy: 0.7442\n",
      "Epoch 102/250\n",
      "6/6 [==============================] - 0s 10ms/step - loss: 0.5599 - accuracy: 0.7263 - val_loss: 0.4660 - val_accuracy: 0.7674\n",
      "Epoch 103/250\n",
      "6/6 [==============================] - 0s 12ms/step - loss: 0.5734 - accuracy: 0.6618 - val_loss: 0.4449 - val_accuracy: 0.7674\n",
      "Epoch 104/250\n",
      "6/6 [==============================] - 0s 10ms/step - loss: 0.5616 - accuracy: 0.7318 - val_loss: 0.4897 - val_accuracy: 0.7907\n",
      "Epoch 105/250\n",
      "6/6 [==============================] - 0s 11ms/step - loss: 0.5251 - accuracy: 0.7623 - val_loss: 0.4552 - val_accuracy: 0.8372\n",
      "Epoch 106/250\n",
      "6/6 [==============================] - 0s 10ms/step - loss: 0.4390 - accuracy: 0.7980 - val_loss: 0.4644 - val_accuracy: 0.8140\n",
      "Epoch 107/250\n",
      "6/6 [==============================] - 0s 13ms/step - loss: 0.4641 - accuracy: 0.7846 - val_loss: 0.4541 - val_accuracy: 0.8372\n",
      "Epoch 108/250\n",
      "6/6 [==============================] - 0s 11ms/step - loss: 0.4770 - accuracy: 0.7766 - val_loss: 0.4632 - val_accuracy: 0.7907\n",
      "Epoch 109/250\n",
      "6/6 [==============================] - 0s 10ms/step - loss: 0.5472 - accuracy: 0.7121 - val_loss: 0.4647 - val_accuracy: 0.7442\n",
      "Epoch 110/250\n",
      "6/6 [==============================] - 0s 11ms/step - loss: 0.4989 - accuracy: 0.7479 - val_loss: 0.4362 - val_accuracy: 0.7674\n",
      "Epoch 111/250\n",
      "6/6 [==============================] - 0s 11ms/step - loss: 0.5516 - accuracy: 0.7738 - val_loss: 0.4237 - val_accuracy: 0.8140\n",
      "Epoch 112/250\n",
      "6/6 [==============================] - 0s 12ms/step - loss: 0.5982 - accuracy: 0.7248 - val_loss: 0.4669 - val_accuracy: 0.8140\n",
      "Epoch 113/250\n",
      "6/6 [==============================] - 0s 14ms/step - loss: 0.5851 - accuracy: 0.6742 - val_loss: 0.4280 - val_accuracy: 0.8140\n",
      "Epoch 114/250\n",
      "6/6 [==============================] - 0s 15ms/step - loss: 0.5849 - accuracy: 0.7176 - val_loss: 0.4627 - val_accuracy: 0.8605\n",
      "Epoch 115/250\n",
      "6/6 [==============================] - 0s 17ms/step - loss: 0.5940 - accuracy: 0.6644 - val_loss: 0.4560 - val_accuracy: 0.7674\n",
      "Epoch 116/250\n",
      "6/6 [==============================] - 0s 16ms/step - loss: 0.6166 - accuracy: 0.6858 - val_loss: 0.5190 - val_accuracy: 0.7209\n",
      "Epoch 117/250\n"
     ]
    },
    {
     "name": "stdout",
     "output_type": "stream",
     "text": [
      "6/6 [==============================] - 0s 13ms/step - loss: 0.6880 - accuracy: 0.6552 - val_loss: 0.4774 - val_accuracy: 0.7674\n",
      "Epoch 118/250\n",
      "6/6 [==============================] - 0s 16ms/step - loss: 0.7303 - accuracy: 0.6892 - val_loss: 0.4320 - val_accuracy: 0.7442\n",
      "Epoch 119/250\n",
      "6/6 [==============================] - 0s 10ms/step - loss: 0.5230 - accuracy: 0.7393 - val_loss: 0.4524 - val_accuracy: 0.7674\n",
      "Epoch 120/250\n",
      "6/6 [==============================] - 0s 11ms/step - loss: 0.5757 - accuracy: 0.7075 - val_loss: 0.4306 - val_accuracy: 0.7907\n",
      "Epoch 121/250\n",
      "6/6 [==============================] - 0s 10ms/step - loss: 0.5873 - accuracy: 0.6686 - val_loss: 0.4233 - val_accuracy: 0.8140\n",
      "Epoch 122/250\n",
      "6/6 [==============================] - 0s 12ms/step - loss: 0.6126 - accuracy: 0.6783 - val_loss: 0.4716 - val_accuracy: 0.7674\n",
      "Epoch 123/250\n",
      "6/6 [==============================] - 0s 10ms/step - loss: 0.5749 - accuracy: 0.6921 - val_loss: 0.4202 - val_accuracy: 0.7907\n",
      "Epoch 124/250\n",
      "6/6 [==============================] - 0s 13ms/step - loss: 0.6244 - accuracy: 0.6879 - val_loss: 0.4539 - val_accuracy: 0.8140\n",
      "Epoch 125/250\n",
      "6/6 [==============================] - 0s 13ms/step - loss: 0.5274 - accuracy: 0.6937 - val_loss: 0.4295 - val_accuracy: 0.8140\n",
      "Epoch 126/250\n",
      "6/6 [==============================] - 0s 16ms/step - loss: 0.4968 - accuracy: 0.7337 - val_loss: 0.4705 - val_accuracy: 0.7674\n",
      "Epoch 127/250\n",
      "6/6 [==============================] - 0s 12ms/step - loss: 0.4948 - accuracy: 0.7624 - val_loss: 0.4124 - val_accuracy: 0.8372\n",
      "Epoch 128/250\n",
      "6/6 [==============================] - 0s 11ms/step - loss: 0.4861 - accuracy: 0.7607 - val_loss: 0.5292 - val_accuracy: 0.7209\n",
      "Epoch 129/250\n",
      "6/6 [==============================] - 0s 15ms/step - loss: 0.5854 - accuracy: 0.6238 - val_loss: 0.4206 - val_accuracy: 0.8140\n",
      "Epoch 130/250\n",
      "6/6 [==============================] - 0s 13ms/step - loss: 0.5866 - accuracy: 0.7150 - val_loss: 0.5331 - val_accuracy: 0.6744\n",
      "Epoch 131/250\n",
      "6/6 [==============================] - 0s 12ms/step - loss: 0.5577 - accuracy: 0.7003 - val_loss: 0.4238 - val_accuracy: 0.7907\n",
      "Epoch 132/250\n",
      "6/6 [==============================] - 0s 10ms/step - loss: 0.4978 - accuracy: 0.7225 - val_loss: 0.4418 - val_accuracy: 0.8140\n",
      "Epoch 133/250\n",
      "6/6 [==============================] - 0s 13ms/step - loss: 0.5149 - accuracy: 0.7374 - val_loss: 0.4188 - val_accuracy: 0.8372\n",
      "Epoch 134/250\n",
      "6/6 [==============================] - 0s 10ms/step - loss: 0.5542 - accuracy: 0.7190 - val_loss: 0.4256 - val_accuracy: 0.7674\n",
      "Epoch 135/250\n",
      "6/6 [==============================] - ETA: 0s - loss: 0.7580 - accuracy: 0.56 - 0s 12ms/step - loss: 0.5736 - accuracy: 0.6809 - val_loss: 0.4082 - val_accuracy: 0.8140\n",
      "Epoch 136/250\n",
      "6/6 [==============================] - 0s 14ms/step - loss: 0.5093 - accuracy: 0.7133 - val_loss: 0.4133 - val_accuracy: 0.7674\n",
      "Epoch 137/250\n",
      "6/6 [==============================] - 0s 15ms/step - loss: 0.4396 - accuracy: 0.7831 - val_loss: 0.4601 - val_accuracy: 0.7674\n",
      "Epoch 138/250\n",
      "6/6 [==============================] - 0s 11ms/step - loss: 0.4726 - accuracy: 0.7600 - val_loss: 0.4004 - val_accuracy: 0.8140\n",
      "Epoch 139/250\n",
      "6/6 [==============================] - 0s 11ms/step - loss: 0.5698 - accuracy: 0.6866 - val_loss: 0.5234 - val_accuracy: 0.7674\n",
      "Epoch 140/250\n",
      "6/6 [==============================] - 0s 10ms/step - loss: 0.4863 - accuracy: 0.7507 - val_loss: 0.4172 - val_accuracy: 0.7674\n",
      "Epoch 141/250\n",
      "6/6 [==============================] - 0s 12ms/step - loss: 0.4446 - accuracy: 0.7693 - val_loss: 0.4153 - val_accuracy: 0.7907\n",
      "Epoch 142/250\n",
      "6/6 [==============================] - 0s 10ms/step - loss: 0.5294 - accuracy: 0.7105 - val_loss: 0.4393 - val_accuracy: 0.7907\n",
      "Epoch 143/250\n",
      "6/6 [==============================] - 0s 10ms/step - loss: 0.5098 - accuracy: 0.7308 - val_loss: 0.4362 - val_accuracy: 0.8140\n",
      "Epoch 144/250\n",
      "6/6 [==============================] - 0s 10ms/step - loss: 0.4979 - accuracy: 0.7441 - val_loss: 0.3979 - val_accuracy: 0.7907\n",
      "Epoch 145/250\n",
      "6/6 [==============================] - 0s 12ms/step - loss: 0.5408 - accuracy: 0.6807 - val_loss: 0.4887 - val_accuracy: 0.8372\n",
      "Epoch 146/250\n",
      "6/6 [==============================] - 0s 11ms/step - loss: 0.5481 - accuracy: 0.7391 - val_loss: 0.3954 - val_accuracy: 0.8372\n",
      "Epoch 147/250\n",
      "6/6 [==============================] - 0s 11ms/step - loss: 0.4384 - accuracy: 0.7672 - val_loss: 0.4052 - val_accuracy: 0.8372\n",
      "Epoch 148/250\n",
      "6/6 [==============================] - 0s 10ms/step - loss: 0.4847 - accuracy: 0.7815 - val_loss: 0.4090 - val_accuracy: 0.8605\n",
      "Epoch 149/250\n",
      "6/6 [==============================] - 0s 13ms/step - loss: 0.4865 - accuracy: 0.7387 - val_loss: 0.4191 - val_accuracy: 0.8372\n",
      "Epoch 150/250\n",
      "6/6 [==============================] - 0s 11ms/step - loss: 0.5447 - accuracy: 0.7838 - val_loss: 0.4149 - val_accuracy: 0.8372\n",
      "Epoch 151/250\n",
      "6/6 [==============================] - 0s 11ms/step - loss: 0.5439 - accuracy: 0.6958 - val_loss: 0.3946 - val_accuracy: 0.7907\n",
      "Epoch 152/250\n",
      "6/6 [==============================] - 0s 10ms/step - loss: 0.5583 - accuracy: 0.7214 - val_loss: 0.3880 - val_accuracy: 0.8140\n",
      "Epoch 153/250\n",
      "6/6 [==============================] - 0s 17ms/step - loss: 0.4716 - accuracy: 0.7509 - val_loss: 0.3933 - val_accuracy: 0.7674\n",
      "Epoch 154/250\n",
      "6/6 [==============================] - 0s 15ms/step - loss: 0.4438 - accuracy: 0.7705 - val_loss: 0.3834 - val_accuracy: 0.8372\n",
      "Epoch 155/250\n",
      "6/6 [==============================] - 0s 13ms/step - loss: 0.3936 - accuracy: 0.8152 - val_loss: 0.4000 - val_accuracy: 0.8372\n",
      "Epoch 156/250\n",
      "6/6 [==============================] - 0s 14ms/step - loss: 0.4247 - accuracy: 0.8143 - val_loss: 0.4042 - val_accuracy: 0.8140\n",
      "Epoch 157/250\n",
      "6/6 [==============================] - 0s 16ms/step - loss: 0.4733 - accuracy: 0.7108 - val_loss: 0.3984 - val_accuracy: 0.8140\n",
      "Epoch 158/250\n",
      "6/6 [==============================] - 0s 15ms/step - loss: 0.5084 - accuracy: 0.7231 - val_loss: 0.4170 - val_accuracy: 0.8372\n",
      "Epoch 159/250\n",
      "6/6 [==============================] - 0s 14ms/step - loss: 0.5060 - accuracy: 0.7318 - val_loss: 0.4583 - val_accuracy: 0.8372\n",
      "Epoch 160/250\n",
      "6/6 [==============================] - 0s 12ms/step - loss: 0.4358 - accuracy: 0.7557 - val_loss: 0.4192 - val_accuracy: 0.7674\n",
      "Epoch 161/250\n",
      "6/6 [==============================] - 0s 11ms/step - loss: 0.4881 - accuracy: 0.7574 - val_loss: 0.4248 - val_accuracy: 0.7674\n",
      "Epoch 162/250\n",
      "6/6 [==============================] - 0s 10ms/step - loss: 0.4057 - accuracy: 0.8097 - val_loss: 0.3859 - val_accuracy: 0.7907\n",
      "Epoch 163/250\n",
      "6/6 [==============================] - 0s 12ms/step - loss: 0.4666 - accuracy: 0.7717 - val_loss: 0.4453 - val_accuracy: 0.8140\n",
      "Epoch 164/250\n",
      "6/6 [==============================] - 0s 18ms/step - loss: 0.4764 - accuracy: 0.7352 - val_loss: 0.3823 - val_accuracy: 0.8372\n",
      "Epoch 165/250\n",
      "6/6 [==============================] - 0s 14ms/step - loss: 0.4685 - accuracy: 0.7580 - val_loss: 0.4022 - val_accuracy: 0.8372\n",
      "Epoch 166/250\n",
      "6/6 [==============================] - 0s 14ms/step - loss: 0.5475 - accuracy: 0.6984 - val_loss: 0.3755 - val_accuracy: 0.8140\n",
      "Epoch 167/250\n",
      "6/6 [==============================] - 0s 16ms/step - loss: 0.5007 - accuracy: 0.7499 - val_loss: 0.3907 - val_accuracy: 0.8140\n",
      "Epoch 168/250\n",
      "6/6 [==============================] - 0s 11ms/step - loss: 0.5304 - accuracy: 0.7295 - val_loss: 0.4221 - val_accuracy: 0.7907\n",
      "Epoch 169/250\n",
      "6/6 [==============================] - 0s 10ms/step - loss: 0.4457 - accuracy: 0.7853 - val_loss: 0.3986 - val_accuracy: 0.8140\n",
      "Epoch 170/250\n",
      "6/6 [==============================] - 0s 11ms/step - loss: 0.4897 - accuracy: 0.7624 - val_loss: 0.3748 - val_accuracy: 0.8372\n",
      "Epoch 171/250\n",
      "6/6 [==============================] - 0s 14ms/step - loss: 0.3959 - accuracy: 0.8237 - val_loss: 0.4326 - val_accuracy: 0.8140\n",
      "Epoch 172/250\n",
      "6/6 [==============================] - 0s 11ms/step - loss: 0.5022 - accuracy: 0.7153 - val_loss: 0.3824 - val_accuracy: 0.8372\n",
      "Epoch 173/250\n",
      "6/6 [==============================] - 0s 12ms/step - loss: 0.4655 - accuracy: 0.7603 - val_loss: 0.4226 - val_accuracy: 0.8140\n",
      "Epoch 174/250\n",
      "6/6 [==============================] - 0s 17ms/step - loss: 0.5306 - accuracy: 0.7586 - val_loss: 0.3829 - val_accuracy: 0.7907\n",
      "Epoch 175/250\n",
      "6/6 [==============================] - 0s 11ms/step - loss: 0.4762 - accuracy: 0.7351 - val_loss: 0.4156 - val_accuracy: 0.8837\n",
      "Epoch 176/250\n",
      "6/6 [==============================] - 0s 10ms/step - loss: 0.4109 - accuracy: 0.7792 - val_loss: 0.3845 - val_accuracy: 0.8372\n",
      "Epoch 177/250\n",
      "6/6 [==============================] - 0s 10ms/step - loss: 0.4215 - accuracy: 0.7990 - val_loss: 0.4020 - val_accuracy: 0.8605\n",
      "Epoch 178/250\n",
      "6/6 [==============================] - 0s 12ms/step - loss: 0.4317 - accuracy: 0.7914 - val_loss: 0.4541 - val_accuracy: 0.8140\n",
      "Epoch 179/250\n",
      "6/6 [==============================] - 0s 13ms/step - loss: 0.4224 - accuracy: 0.7811 - val_loss: 0.3789 - val_accuracy: 0.8140\n",
      "Epoch 180/250\n",
      "6/6 [==============================] - 0s 14ms/step - loss: 0.4631 - accuracy: 0.7468 - val_loss: 0.3805 - val_accuracy: 0.8605\n",
      "Epoch 181/250\n",
      "6/6 [==============================] - 0s 13ms/step - loss: 0.4214 - accuracy: 0.7774 - val_loss: 0.3707 - val_accuracy: 0.8372\n",
      "Epoch 182/250\n",
      "6/6 [==============================] - 0s 15ms/step - loss: 0.4247 - accuracy: 0.7974 - val_loss: 0.3997 - val_accuracy: 0.8372\n",
      "Epoch 183/250\n",
      "6/6 [==============================] - 0s 13ms/step - loss: 0.4657 - accuracy: 0.7660 - val_loss: 0.3829 - val_accuracy: 0.8372\n",
      "Epoch 184/250\n",
      "6/6 [==============================] - 0s 13ms/step - loss: 0.4398 - accuracy: 0.7877 - val_loss: 0.3941 - val_accuracy: 0.8372\n",
      "Epoch 185/250\n",
      "6/6 [==============================] - 0s 13ms/step - loss: 0.4572 - accuracy: 0.7950 - val_loss: 0.3790 - val_accuracy: 0.8140\n",
      "Epoch 186/250\n",
      "6/6 [==============================] - 0s 10ms/step - loss: 0.4962 - accuracy: 0.7311 - val_loss: 0.3643 - val_accuracy: 0.8372\n",
      "Epoch 187/250\n",
      "6/6 [==============================] - 0s 10ms/step - loss: 0.4261 - accuracy: 0.7948 - val_loss: 0.4110 - val_accuracy: 0.8372\n",
      "Epoch 188/250\n",
      "6/6 [==============================] - 0s 10ms/step - loss: 0.4380 - accuracy: 0.7794 - val_loss: 0.3531 - val_accuracy: 0.8372\n",
      "Epoch 189/250\n",
      "6/6 [==============================] - 0s 10ms/step - loss: 0.4749 - accuracy: 0.7450 - val_loss: 0.3939 - val_accuracy: 0.8837\n",
      "Epoch 190/250\n",
      "6/6 [==============================] - 0s 16ms/step - loss: 0.4103 - accuracy: 0.7913 - val_loss: 0.3443 - val_accuracy: 0.8605\n",
      "Epoch 191/250\n",
      "6/6 [==============================] - 0s 13ms/step - loss: 0.4001 - accuracy: 0.7753 - val_loss: 0.3424 - val_accuracy: 0.8605\n",
      "Epoch 192/250\n",
      "6/6 [==============================] - 0s 12ms/step - loss: 0.4525 - accuracy: 0.7294 - val_loss: 0.3841 - val_accuracy: 0.8140\n",
      "Epoch 193/250\n",
      "6/6 [==============================] - 0s 13ms/step - loss: 0.4354 - accuracy: 0.7759 - val_loss: 0.3734 - val_accuracy: 0.8605\n",
      "Epoch 194/250\n",
      "6/6 [==============================] - 0s 11ms/step - loss: 0.4649 - accuracy: 0.7779 - val_loss: 0.3804 - val_accuracy: 0.8605\n",
      "Epoch 195/250\n",
      "6/6 [==============================] - 0s 11ms/step - loss: 0.4645 - accuracy: 0.7604 - val_loss: 0.3955 - val_accuracy: 0.8372\n",
      "Epoch 196/250\n",
      "6/6 [==============================] - 0s 10ms/step - loss: 0.4544 - accuracy: 0.7618 - val_loss: 0.4119 - val_accuracy: 0.7907\n",
      "Epoch 197/250\n",
      "6/6 [==============================] - 0s 13ms/step - loss: 0.5064 - accuracy: 0.7300 - val_loss: 0.4247 - val_accuracy: 0.8372\n",
      "Epoch 198/250\n",
      "6/6 [==============================] - 0s 11ms/step - loss: 0.5207 - accuracy: 0.7456 - val_loss: 0.3706 - val_accuracy: 0.8605\n",
      "Epoch 199/250\n",
      "6/6 [==============================] - 0s 10ms/step - loss: 0.4275 - accuracy: 0.8310 - val_loss: 0.5209 - val_accuracy: 0.6744\n",
      "Epoch 200/250\n",
      "6/6 [==============================] - 0s 11ms/step - loss: 0.4752 - accuracy: 0.7424 - val_loss: 0.3521 - val_accuracy: 0.8372\n",
      "Epoch 201/250\n",
      "6/6 [==============================] - 0s 12ms/step - loss: 0.5018 - accuracy: 0.7509 - val_loss: 0.3604 - val_accuracy: 0.8605\n",
      "Epoch 202/250\n",
      "6/6 [==============================] - 0s 11ms/step - loss: 0.4365 - accuracy: 0.7633 - val_loss: 0.3547 - val_accuracy: 0.8372\n",
      "Epoch 203/250\n",
      "6/6 [==============================] - 0s 11ms/step - loss: 0.4622 - accuracy: 0.7863 - val_loss: 0.3894 - val_accuracy: 0.8372\n",
      "Epoch 204/250\n",
      "6/6 [==============================] - 0s 10ms/step - loss: 0.5012 - accuracy: 0.7662 - val_loss: 0.3651 - val_accuracy: 0.8372\n",
      "Epoch 205/250\n",
      "6/6 [==============================] - 0s 11ms/step - loss: 0.4284 - accuracy: 0.7545 - val_loss: 0.3534 - val_accuracy: 0.8140\n",
      "Epoch 206/250\n",
      "6/6 [==============================] - 0s 13ms/step - loss: 0.4030 - accuracy: 0.8328 - val_loss: 0.4539 - val_accuracy: 0.8372\n",
      "Epoch 207/250\n",
      "6/6 [==============================] - 0s 11ms/step - loss: 0.4457 - accuracy: 0.7686 - val_loss: 0.3492 - val_accuracy: 0.7907\n",
      "Epoch 208/250\n",
      "6/6 [==============================] - 0s 10ms/step - loss: 0.4474 - accuracy: 0.8017 - val_loss: 0.3860 - val_accuracy: 0.8837\n",
      "Epoch 209/250\n",
      "6/6 [==============================] - 0s 10ms/step - loss: 0.4227 - accuracy: 0.7586 - val_loss: 0.3667 - val_accuracy: 0.8372\n",
      "Epoch 210/250\n",
      "6/6 [==============================] - 0s 12ms/step - loss: 0.4551 - accuracy: 0.7805 - val_loss: 0.3743 - val_accuracy: 0.8372\n",
      "Epoch 211/250\n",
      "6/6 [==============================] - 0s 11ms/step - loss: 0.4545 - accuracy: 0.7475 - val_loss: 0.3749 - val_accuracy: 0.8140\n",
      "Epoch 212/250\n",
      "6/6 [==============================] - 0s 11ms/step - loss: 0.4003 - accuracy: 0.7908 - val_loss: 0.3995 - val_accuracy: 0.7907\n",
      "Epoch 213/250\n",
      "6/6 [==============================] - 0s 10ms/step - loss: 0.4233 - accuracy: 0.7664 - val_loss: 0.3607 - val_accuracy: 0.8372\n",
      "Epoch 214/250\n",
      "6/6 [==============================] - 0s 12ms/step - loss: 0.4599 - accuracy: 0.7506 - val_loss: 0.3570 - val_accuracy: 0.8605\n",
      "Epoch 215/250\n",
      "6/6 [==============================] - 0s 14ms/step - loss: 0.4390 - accuracy: 0.7392 - val_loss: 0.3721 - val_accuracy: 0.8837\n",
      "Epoch 216/250\n",
      "6/6 [==============================] - 0s 14ms/step - loss: 0.4925 - accuracy: 0.7427 - val_loss: 0.3527 - val_accuracy: 0.8140\n",
      "Epoch 217/250\n",
      "6/6 [==============================] - 0s 14ms/step - loss: 0.4036 - accuracy: 0.7805 - val_loss: 0.3593 - val_accuracy: 0.8837\n",
      "Epoch 218/250\n",
      "6/6 [==============================] - 0s 17ms/step - loss: 0.4511 - accuracy: 0.7402 - val_loss: 0.3617 - val_accuracy: 0.8605\n",
      "Epoch 219/250\n",
      "6/6 [==============================] - 0s 14ms/step - loss: 0.3827 - accuracy: 0.8095 - val_loss: 0.3612 - val_accuracy: 0.8140\n",
      "Epoch 220/250\n",
      "6/6 [==============================] - 0s 15ms/step - loss: 0.3805 - accuracy: 0.8110 - val_loss: 0.3437 - val_accuracy: 0.7907\n",
      "Epoch 221/250\n",
      "6/6 [==============================] - 0s 16ms/step - loss: 0.4053 - accuracy: 0.8224 - val_loss: 0.3584 - val_accuracy: 0.8140\n",
      "Epoch 222/250\n",
      "6/6 [==============================] - 0s 11ms/step - loss: 0.3739 - accuracy: 0.8078 - val_loss: 0.3551 - val_accuracy: 0.8605\n",
      "Epoch 223/250\n",
      "6/6 [==============================] - 0s 10ms/step - loss: 0.3287 - accuracy: 0.8707 - val_loss: 0.3679 - val_accuracy: 0.8372\n",
      "Epoch 224/250\n",
      "6/6 [==============================] - 0s 10ms/step - loss: 0.4002 - accuracy: 0.7929 - val_loss: 0.3830 - val_accuracy: 0.8605\n",
      "Epoch 225/250\n",
      "6/6 [==============================] - 0s 12ms/step - loss: 0.4022 - accuracy: 0.7938 - val_loss: 0.3710 - val_accuracy: 0.8140\n",
      "Epoch 226/250\n",
      "6/6 [==============================] - 0s 10ms/step - loss: 0.4119 - accuracy: 0.8265 - val_loss: 0.3563 - val_accuracy: 0.8372\n",
      "Epoch 227/250\n",
      "6/6 [==============================] - 0s 10ms/step - loss: 0.3838 - accuracy: 0.8265 - val_loss: 0.3554 - val_accuracy: 0.8140\n",
      "Epoch 228/250\n",
      "6/6 [==============================] - 0s 10ms/step - loss: 0.4687 - accuracy: 0.7593 - val_loss: 0.3615 - val_accuracy: 0.8605\n",
      "Epoch 229/250\n",
      "6/6 [==============================] - 0s 13ms/step - loss: 0.4219 - accuracy: 0.8053 - val_loss: 0.3670 - val_accuracy: 0.8140\n",
      "Epoch 230/250\n",
      "6/6 [==============================] - 0s 10ms/step - loss: 0.4126 - accuracy: 0.8312 - val_loss: 0.3712 - val_accuracy: 0.8372\n",
      "Epoch 231/250\n",
      "6/6 [==============================] - 0s 11ms/step - loss: 0.4202 - accuracy: 0.7805 - val_loss: 0.3596 - val_accuracy: 0.8605\n"
     ]
    },
    {
     "name": "stdout",
     "output_type": "stream",
     "text": [
      "Epoch 232/250\n",
      "6/6 [==============================] - 0s 11ms/step - loss: 0.4372 - accuracy: 0.7607 - val_loss: 0.3837 - val_accuracy: 0.8140\n",
      "Epoch 233/250\n",
      "6/6 [==============================] - 0s 12ms/step - loss: 0.4261 - accuracy: 0.7462 - val_loss: 0.3641 - val_accuracy: 0.8605\n",
      "Epoch 234/250\n",
      "6/6 [==============================] - 0s 10ms/step - loss: 0.4355 - accuracy: 0.7224 - val_loss: 0.4015 - val_accuracy: 0.8605\n",
      "Epoch 235/250\n",
      "6/6 [==============================] - 0s 11ms/step - loss: 0.4023 - accuracy: 0.7780 - val_loss: 0.3542 - val_accuracy: 0.8605\n",
      "Epoch 236/250\n",
      "6/6 [==============================] - 0s 11ms/step - loss: 0.3778 - accuracy: 0.8170 - val_loss: 0.3902 - val_accuracy: 0.8605\n",
      "Epoch 237/250\n",
      "6/6 [==============================] - 0s 12ms/step - loss: 0.3494 - accuracy: 0.8526 - val_loss: 0.3243 - val_accuracy: 0.8372\n",
      "Epoch 238/250\n",
      "6/6 [==============================] - 0s 11ms/step - loss: 0.3751 - accuracy: 0.8055 - val_loss: 0.3342 - val_accuracy: 0.8605\n",
      "Epoch 239/250\n",
      "6/6 [==============================] - 0s 13ms/step - loss: 0.3969 - accuracy: 0.8146 - val_loss: 0.3227 - val_accuracy: 0.8605\n",
      "Epoch 240/250\n",
      "6/6 [==============================] - 0s 14ms/step - loss: 0.3592 - accuracy: 0.8332 - val_loss: 0.3278 - val_accuracy: 0.8605\n",
      "Epoch 241/250\n",
      "6/6 [==============================] - 0s 14ms/step - loss: 0.4297 - accuracy: 0.7852 - val_loss: 0.3521 - val_accuracy: 0.8372\n",
      "Epoch 242/250\n",
      "6/6 [==============================] - 0s 10ms/step - loss: 0.4313 - accuracy: 0.8400 - val_loss: 0.3303 - val_accuracy: 0.8605\n",
      "Epoch 243/250\n",
      "6/6 [==============================] - 0s 10ms/step - loss: 0.4347 - accuracy: 0.7589 - val_loss: 0.3576 - val_accuracy: 0.8372\n",
      "Epoch 244/250\n",
      "6/6 [==============================] - 0s 11ms/step - loss: 0.3861 - accuracy: 0.7914 - val_loss: 0.3841 - val_accuracy: 0.8372\n",
      "Epoch 245/250\n",
      "6/6 [==============================] - 0s 19ms/step - loss: 0.4340 - accuracy: 0.7717 - val_loss: 0.3916 - val_accuracy: 0.8605\n",
      "Epoch 246/250\n",
      "6/6 [==============================] - 0s 10ms/step - loss: 0.4068 - accuracy: 0.8179 - val_loss: 0.3620 - val_accuracy: 0.8605\n",
      "Epoch 247/250\n",
      "6/6 [==============================] - 0s 11ms/step - loss: 0.3325 - accuracy: 0.8472 - val_loss: 0.3420 - val_accuracy: 0.8605\n",
      "Epoch 248/250\n",
      "6/6 [==============================] - 0s 10ms/step - loss: 0.3562 - accuracy: 0.8102 - val_loss: 0.3329 - val_accuracy: 0.8605\n",
      "Epoch 249/250\n",
      "6/6 [==============================] - 0s 13ms/step - loss: 0.4465 - accuracy: 0.7452 - val_loss: 0.3360 - val_accuracy: 0.8372\n",
      "Epoch 250/250\n",
      "6/6 [==============================] - 0s 11ms/step - loss: 0.4207 - accuracy: 0.7797 - val_loss: 0.3493 - val_accuracy: 0.8140\n"
     ]
    }
   ],
   "source": [
    "# If not normalized\n",
    "model=nn_model()\n",
    "hist=model.fit(X_train.values,Y_train.values,validation_split=0.2,epochs=250)"
   ]
  },
  {
   "cell_type": "code",
   "execution_count": 29,
   "metadata": {
    "colab": {
     "base_uri": "https://localhost:8080/",
     "height": 281
    },
    "executionInfo": {
     "elapsed": 1278,
     "status": "ok",
     "timestamp": 1618634133308,
     "user": {
      "displayName": "이승윤",
      "photoUrl": "",
      "userId": "18053956370916090566"
     },
     "user_tz": -540
    },
    "id": "7Ok1AciFNEEW",
    "outputId": "7d977980-b27d-4956-ee78-775e5f51304e"
   },
   "outputs": [
    {
     "data": {
      "image/png": "[encoded data removed]",
      "text/plain": [
       "<Figure size 432x288 with 2 Axes>"
      ]
     },
     "metadata": {
      "needs_background": "light"
     },
     "output_type": "display_data"
    }
   ],
   "source": [
    "# Visualize loss and accuracy as learning progresses\n",
    "fig, loss_ax = plt.subplots()\n",
    "\n",
    "acc_ax = loss_ax.twinx()\n",
    "\n",
    "loss_ax.plot(hist.history['loss'], 'y', label='train loss')\n",
    "loss_ax.plot(hist.history['val_loss'], 'r', label='val loss')\n",
    "\n",
    "acc_ax.plot(hist.history['accuracy'], 'b', label='train acc')\n",
    "acc_ax.plot(hist.history['val_accuracy'], 'g', label='val acc')\n",
    "\n",
    "loss_ax.set_xlabel('epoch')\n",
    "loss_ax.set_ylabel('loss')\n",
    "acc_ax.set_ylabel('accuracy')\n",
    "\n",
    "loss_ax.legend(loc='upper left')\n",
    "acc_ax.legend(loc='lower left')\n",
    "\n",
    "plt.show()"
   ]
  },
  {
   "cell_type": "code",
   "execution_count": 30,
   "metadata": {
    "colab": {
     "base_uri": "https://localhost:8080/"
    },
    "executionInfo": {
     "elapsed": 585,
     "status": "ok",
     "timestamp": 1618634136405,
     "user": {
      "displayName": "이승윤",
      "photoUrl": "",
      "userId": "18053956370916090566"
     },
     "user_tz": -540
    },
    "id": "mS3xRqcKNVWc",
    "outputId": "44227d15-d49f-4c79-a21b-da55431e39b8"
   },
   "outputs": [
    {
     "name": "stdout",
     "output_type": "stream",
     "text": [
      "3/3 [==============================] - 0s 2ms/step - loss: 0.4016 - accuracy: 0.8132\n"
     ]
    },
    {
     "data": {
      "text/plain": [
       "0.8131868243217468"
      ]
     },
     "execution_count": 30,
     "metadata": {},
     "output_type": "execute_result"
    }
   ],
   "source": [
    "# Test Set Evlautaion\n",
    "model.evaluate(X_test.values,Y_test.values)[1]"
   ]
  },
  {
   "cell_type": "code",
   "execution_count": 31,
   "metadata": {
    "colab": {
     "base_uri": "https://localhost:8080/"
    },
    "executionInfo": {
     "elapsed": 2392,
     "status": "ok",
     "timestamp": 1618485436624,
     "user": {
      "displayName": "이승윤",
      "photoUrl": "",
      "userId": "18053956370916090566"
     },
     "user_tz": -540
    },
    "id": "qKvlH478O8Cd",
    "outputId": "65375d89-1088-4d4e-d4bf-793ea42d3e74"
   },
   "outputs": [
    {
     "name": "stdout",
     "output_type": "stream",
     "text": [
      "Epoch 1/20\n",
      "6/6 [==============================] - 1s 46ms/step - loss: 0.6037 - accuracy: 0.7312 - val_loss: 0.5034 - val_accuracy: 0.8837\n",
      "Epoch 2/20\n",
      "6/6 [==============================] - 0s 11ms/step - loss: 0.5434 - accuracy: 0.7669 - val_loss: 0.4296 - val_accuracy: 0.8837\n",
      "Epoch 3/20\n",
      "6/6 [==============================] - 0s 11ms/step - loss: 0.4822 - accuracy: 0.7571 - val_loss: 0.3859 - val_accuracy: 0.9070\n",
      "Epoch 4/20\n",
      "6/6 [==============================] - 0s 11ms/step - loss: 0.5146 - accuracy: 0.7348 - val_loss: 0.3623 - val_accuracy: 0.9070\n",
      "Epoch 5/20\n",
      "6/6 [==============================] - 0s 16ms/step - loss: 0.4325 - accuracy: 0.8063 - val_loss: 0.3300 - val_accuracy: 0.9070\n",
      "Epoch 6/20\n",
      "6/6 [==============================] - 0s 14ms/step - loss: 0.4221 - accuracy: 0.8210 - val_loss: 0.3098 - val_accuracy: 0.9302\n",
      "Epoch 7/20\n",
      "6/6 [==============================] - 0s 13ms/step - loss: 0.3970 - accuracy: 0.8389 - val_loss: 0.2985 - val_accuracy: 0.9302\n",
      "Epoch 8/20\n",
      "6/6 [==============================] - 0s 14ms/step - loss: 0.3919 - accuracy: 0.8022 - val_loss: 0.2997 - val_accuracy: 0.9535\n",
      "Epoch 9/20\n",
      "6/6 [==============================] - 0s 10ms/step - loss: 0.4037 - accuracy: 0.8003 - val_loss: 0.2954 - val_accuracy: 0.9535\n",
      "Epoch 10/20\n",
      "6/6 [==============================] - 0s 10ms/step - loss: 0.4115 - accuracy: 0.8357 - val_loss: 0.2939 - val_accuracy: 0.9535\n",
      "Epoch 11/20\n",
      "6/6 [==============================] - 0s 12ms/step - loss: 0.3893 - accuracy: 0.8365 - val_loss: 0.2939 - val_accuracy: 0.9535\n",
      "Epoch 12/20\n",
      "6/6 [==============================] - 0s 12ms/step - loss: 0.3862 - accuracy: 0.8110 - val_loss: 0.2929 - val_accuracy: 0.9535\n",
      "Epoch 13/20\n",
      "6/6 [==============================] - 0s 11ms/step - loss: 0.3915 - accuracy: 0.8183 - val_loss: 0.2821 - val_accuracy: 0.9535\n",
      "Epoch 14/20\n",
      "6/6 [==============================] - 0s 12ms/step - loss: 0.3543 - accuracy: 0.8428 - val_loss: 0.2672 - val_accuracy: 0.9535\n",
      "Epoch 15/20\n",
      "6/6 [==============================] - 0s 11ms/step - loss: 0.3641 - accuracy: 0.8403 - val_loss: 0.2591 - val_accuracy: 0.9535\n",
      "Epoch 16/20\n",
      "6/6 [==============================] - 0s 11ms/step - loss: 0.3560 - accuracy: 0.8558 - val_loss: 0.2552 - val_accuracy: 0.9535\n",
      "Epoch 17/20\n",
      "6/6 [==============================] - 0s 12ms/step - loss: 0.3687 - accuracy: 0.8057 - val_loss: 0.2532 - val_accuracy: 0.9535\n",
      "Epoch 18/20\n",
      "6/6 [==============================] - 0s 12ms/step - loss: 0.3465 - accuracy: 0.8485 - val_loss: 0.2517 - val_accuracy: 0.9535\n",
      "Epoch 19/20\n",
      "6/6 [==============================] - 0s 14ms/step - loss: 0.3402 - accuracy: 0.8310 - val_loss: 0.2473 - val_accuracy: 0.9535\n",
      "Epoch 20/20\n",
      "6/6 [==============================] - 0s 16ms/step - loss: 0.3361 - accuracy: 0.8528 - val_loss: 0.2407 - val_accuracy: 0.9535\n"
     ]
    }
   ],
   "source": [
    "# if normalized\n",
    "model=nn_model()\n",
    "hist=model.fit(X_train_s,Y_train_s,validation_split=0.2,epochs=20)"
   ]
  },
  {
   "cell_type": "code",
   "execution_count": 32,
   "metadata": {
    "colab": {
     "base_uri": "https://localhost:8080/",
     "height": 279
    },
    "executionInfo": {
     "elapsed": 1434,
     "status": "ok",
     "timestamp": 1618485440619,
     "user": {
      "displayName": "이승윤",
      "photoUrl": "",
      "userId": "18053956370916090566"
     },
     "user_tz": -540
    },
    "id": "s6Nm_ORmP2U2",
    "outputId": "264caeb6-20e4-4239-85dc-bd5eb6844440"
   },
   "outputs": [
    {
     "data": {
      "image/png": "[encoded data removed]",
      "text/plain": [
       "<Figure size 432x288 with 2 Axes>"
      ]
     },
     "metadata": {
      "needs_background": "light"
     },
     "output_type": "display_data"
    }
   ],
   "source": [
    "# Visualize loss and accuracy as learning progresses\n",
    "fig, loss_ax = plt.subplots()\n",
    "\n",
    "acc_ax = loss_ax.twinx()\n",
    "\n",
    "loss_ax.plot(hist.history['loss'], 'y', label='train loss')\n",
    "loss_ax.plot(hist.history['val_loss'], 'r', label='val loss')\n",
    "\n",
    "acc_ax.plot(hist.history['accuracy'], 'b', label='train acc')\n",
    "acc_ax.plot(hist.history['val_accuracy'], 'g', label='val acc')\n",
    "\n",
    "loss_ax.set_xlabel('epoch')\n",
    "loss_ax.set_ylabel('loss')\n",
    "acc_ax.set_ylabel('accuracy')\n",
    "\n",
    "loss_ax.legend(loc='upper left')\n",
    "acc_ax.legend(loc='lower left')\n",
    "\n",
    "plt.show()"
   ]
  },
  {
   "cell_type": "code",
   "execution_count": 33,
   "metadata": {
    "colab": {
     "base_uri": "https://localhost:8080/"
    },
    "executionInfo": {
     "elapsed": 633,
     "status": "ok",
     "timestamp": 1618485716902,
     "user": {
      "displayName": "이승윤",
      "photoUrl": "",
      "userId": "18053956370916090566"
     },
     "user_tz": -540
    },
    "id": "iJKdoiCXQA4v",
    "outputId": "8f86db39-5734-4613-f85f-b561092a05e8"
   },
   "outputs": [
    {
     "name": "stdout",
     "output_type": "stream",
     "text": [
      "3/3 [==============================] - 0s 2ms/step - loss: 0.3452 - accuracy: 0.8352\n"
     ]
    },
    {
     "data": {
      "text/plain": [
       "0.8351648449897766"
      ]
     },
     "execution_count": 33,
     "metadata": {},
     "output_type": "execute_result"
    }
   ],
   "source": [
    "# Test Set Evlautaion\n",
    "model.evaluate(X_test_s,Y_test_s)[1]"
   ]
  }
 ],
 "metadata": {
  "colab": {
   "collapsed_sections": [],
   "name": "Heart attack_.ipynb",
   "provenance": [],
   "toc_visible": true
  },
  "kernelspec": {
   "display_name": "Python 3",
   "language": "python",
   "name": "python3"
  },
  "language_info": {
   "codemirror_mode": {
    "name": "ipython",
    "version": 3
   },
   "file_extension": ".py",
   "mimetype": "text/x-python",
   "name": "python",
   "nbconvert_exporter": "python",
   "pygments_lexer": "ipython3",
   "version": "3.8.5"
  },
  "toc": {
   "base_numbering": 1,
   "nav_menu": {},
   "number_sections": true,
   "sideBar": true,
   "skip_h1_title": false,
   "title_cell": "Table of Contents",
   "title_sidebar": "Contents",
   "toc_cell": false,
   "toc_position": {
    "height": "calc(100% - 180px)",
    "left": "10px",
    "top": "150px",
    "width": "265px"
   },
   "toc_section_display": true,
   "toc_window_display": true
  }
 },
 "nbformat": 4,
 "nbformat_minor": 1
}
